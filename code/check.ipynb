{
 "cells": [
  {
   "cell_type": "code",
   "execution_count": 3,
   "id": "748db141-38e2-4a48-b60e-6184fad9938a",
   "metadata": {},
   "outputs": [],
   "source": [
    "import pandas as pd\n",
    "folder = '/mnt/inca/soc_eu_model'\n",
    "\n",
    "df = pd.read_csv(f'{folder}/data/000_soil.full_qa.controlled.csv', low_memory=False)"
   ]
  },
  {
   "cell_type": "code",
   "execution_count": 7,
   "id": "3faec392-2a9d-40e8-9f29-87fed3c1fd1e",
   "metadata": {},
   "outputs": [
    {
     "data": {
      "text/plain": [
       "array(['nl.bis', 'MarSOC', 'Wales.GMEP'], dtype=object)"
      ]
     },
     "execution_count": 7,
     "metadata": {},
     "output_type": "execute_result"
    }
   ],
   "source": [
    "df.loc[df['oc_qa']==5]['ref'].unique()"
   ]
  },
  {
   "cell_type": "code",
   "execution_count": 8,
   "id": "4be5373f-037f-4146-9ede-6e3f7b19d3ee",
   "metadata": {},
   "outputs": [
    {
     "name": "stdout",
     "output_type": "stream",
     "text": [
      "http://192.168.1.30:8333/ai4sh/dtm/dtm.bareearth_ensemble_p10_120m_s_20000101_20221231_eu_epsg.3035_v20240424.tif\n",
      "http://192.168.1.30:8333/ai4sh/dtm/dtm.bareearth_ensemble_p10_240m_s_20000101_20221231_eu_epsg.3035_v20240424.tif\n",
      "http://192.168.1.30:8333/ai4sh/dtm/dtm.bareearth_ensemble_p10_30m_s_20000101_20221231_eu_epsg.3035_v20240424.tif\n",
      "http://192.168.1.30:8333/ai4sh/dtm/dtm.bareearth_ensemble_p10_480m_s_20000101_20221231_eu_epsg.3035_v20240424.tif\n",
      "http://192.168.1.30:8333/ai4sh/dtm/dtm.bareearth_ensemble_p10_60m_s_20000101_20221231_eu_epsg.3035_v20240424.tif\n",
      "http://192.168.1.30:8333/ai4sh/dtm/dtm.bareearth_ensemble_p10_960m_s_20000101_20221231_eu_epsg.3035_v20240424.tif\n",
      "http://192.168.1.30:8333/ai4sh/dtm/easterness.bareearth_ensemble_m_30m_s_20000101_20221231_eu_epsg.3035_v20240424.tif\n",
      "http://192.168.1.30:8333/ai4sh/dtm/flow.accum.bareearth_ensemble_m_120m_s_20000101_20221231_eu_epsg.3035_v20240501.tif\n",
      "http://192.168.1.30:8333/ai4sh/dtm/flow.accum.bareearth_ensemble_m_60m_s_20000101_20221231_eu_epsg.3035_v20240501.tif\n",
      "http://192.168.1.30:8333/ai4sh/dtm/geomorphon.bareearth_ensemble_m_120m_s_20000101_20221231_eu_epsg.3035_v20240501.tif\n",
      "http://192.168.1.30:8333/ai4sh/dtm/geomorphon.bareearth_ensemble_m_240m_s_20000101_20221231_eu_epsg.3035_v20240501.tif\n",
      "http://192.168.1.30:8333/ai4sh/dtm/geomorphon.bareearth_ensemble_m_30m_s_20000101_20221231_eu_epsg.3035_v20240424.tif\n",
      "http://192.168.1.30:8333/ai4sh/dtm/geomorphon.bareearth_ensemble_m_480m_s_20000101_20221231_eu_epsg.3035_v20240501.tif\n",
      "http://192.168.1.30:8333/ai4sh/dtm/geomorphon.bareearth_ensemble_m_60m_s_20000101_20221231_eu_epsg.3035_v20240501.tif\n",
      "http://192.168.1.30:8333/ai4sh/dtm/geomorphon.bareearth_ensemble_m_960m_s_20000101_20221231eu_epsg.3035_v20240501.tif\n",
      "http://192.168.1.30:8333/ai4sh/dtm/hillshade.bareearth_ensemble_m_120m_s_20000101_20221231_eu_epsg.3035_v20240424.tif\n",
      "http://192.168.1.30:8333/ai4sh/dtm/hillshade.bareearth_ensemble_m_240m_s_20000101_20221231_eu_epsg.3035_v20240424.tif\n",
      "http://192.168.1.30:8333/ai4sh/dtm/hillshade.bareearth_ensemble_m_30m_s_20000101_20221231_eu_epsg.3035_v20240424.tif\n",
      "http://192.168.1.30:8333/ai4sh/dtm/hillshade.bareearth_ensemble_m_480m_s_20000101_20221231_eu_epsg.3035_v20240424.tif\n",
      "http://192.168.1.30:8333/ai4sh/dtm/hillshade.bareearth_ensemble_m_60m_s_20000101_20221231_eu_epsg.3035_v20240424.tif\n",
      "http://192.168.1.30:8333/ai4sh/dtm/hillshade.bareearth_ensemble_m_960m_s_20000101_20221231_eu_epsg.3035_v20240424.tif\n",
      "http://192.168.1.30:8333/ai4sh/dtm/ls.factor.bareearth_ensemble_m_120m_s_20000101_20221231_eu_epsg.3035_v20240501.tif\n",
      "http://192.168.1.30:8333/ai4sh/dtm/ls.factor.bareearth_ensemble_m_240m_s_20000101_20221231_eu_epsg.3035_v20240501.tif\n",
      "http://192.168.1.30:8333/ai4sh/dtm/ls.factor.bareearth_ensemble_m_480m_s_20000101_20221231_eu_epsg.3035_v20240501.tif\n",
      "http://192.168.1.30:8333/ai4sh/dtm/ls.factor.bareearth_ensemble_m_60m_s_20000101_20221231_eu_epsg.3035_v20240501.tif\n",
      "http://192.168.1.30:8333/ai4sh/dtm/ls.factor.bareearth_ensemble_m_960m_s_20000101_20221231_eu_epsg.3035_v20240501.tif\n",
      "http://192.168.1.30:8333/ai4sh/dtm/max.curv.bareearth_ensemble_m_120m_s_20000101_20221231_eu_epsg.3035_v20240501.tif\n",
      "http://192.168.1.30:8333/ai4sh/dtm/max.curv.bareearth_ensemble_m_240m_s_20000101_20221231_eu_epsg.3035_v20240501.tif\n",
      "http://192.168.1.30:8333/ai4sh/dtm/max.curv.bareearth_ensemble_m_30m_s_20000101_20221231_eu_epsg.3035_v20240501.tif\n",
      "http://192.168.1.30:8333/ai4sh/dtm/max.curv.bareearth_ensemble_m_480m_s_20000101_20221231_eu_epsg.3035_v20240501.tif\n",
      "http://192.168.1.30:8333/ai4sh/dtm/max.curv.bareearth_ensemble_m_60m_s_20000101_20221231_eu_epsg.3035_v20240501.tif\n",
      "http://192.168.1.30:8333/ai4sh/dtm/max.curv.bareearth_ensemble_m_960m_s_20000101_20221231_eu_epsg.3035_v20240501.tif\n",
      "http://192.168.1.30:8333/ai4sh/dtm/min.curv.bareearth_ensemble_m_120m_s_20000101_20221231_eu_epsg.3035_v20240501.tif\n",
      "http://192.168.1.30:8333/ai4sh/dtm/min.curv.bareearth_ensemble_m_240m_s_20000101_20221231_eu_epsg.3035_v20240501.tif\n",
      "http://192.168.1.30:8333/ai4sh/dtm/min.curv.bareearth_ensemble_m_30m_s_20000101_20221231_eu_epsg.3035_v20240424.tif\n",
      "http://192.168.1.30:8333/ai4sh/dtm/min.curv.bareearth_ensemble_m_480m_s_20000101_20221231_eu_epsg.3035_v20240501.tif\n",
      "http://192.168.1.30:8333/ai4sh/dtm/min.curv.bareearth_ensemble_m_60m_s_20000101_20221231_eu_epsg.3035_v20240501.tif\n",
      "http://192.168.1.30:8333/ai4sh/dtm/min.curv.bareearth_ensemble_m_960m_s_20000101_20221231_eu_epsg.3035_v20240501.tif\n",
      "http://192.168.1.30:8333/ai4sh/dtm/neg.openess.bareearth_ensemble_m_120m_s_20000101_20221231_eu_epsg.3035_v20240501.tif\n",
      "http://192.168.1.30:8333/ai4sh/dtm/neg.openess.bareearth_ensemble_m_240m_s_20000101_20221231_eu_epsg.3035_v20240501.tif\n",
      "http://192.168.1.30:8333/ai4sh/dtm/neg.openess.bareearth_ensemble_m_30m_s_20000101_20221231_eu_epsg.3035_v20240424.tif\n",
      "http://192.168.1.30:8333/ai4sh/dtm/neg.openess.bareearth_ensemble_m_480m_s_20000101_20221231_eu_epsg.3035_v20240501.tif\n",
      "http://192.168.1.30:8333/ai4sh/dtm/neg.openess.bareearth_ensemble_m_60m_s_20000101_20221231_eu_epsg.3035_v20240501.tif\n",
      "http://192.168.1.30:8333/ai4sh/dtm/neg.openess.bareearth_ensemble_m_960m_s_20000101_20221231_eu_epsg.3035_v20240501.tif\n",
      "http://192.168.1.30:8333/ai4sh/dtm/northness.bareearth_ensemble_m_30m_s_20000101_20221231_eu_epsg.3035_v20240424.tif\n",
      "http://192.168.1.30:8333/ai4sh/dtm/nosink.bareearth_ensemble_m_120m_s_20000101_20221231_eu_epsg.3035_v20240501.tif\n",
      "http://192.168.1.30:8333/ai4sh/dtm/nosink.bareearth_ensemble_m_60m_s_20000101_20221231_eu_epsg.3035_v20240501.tif\n",
      "http://192.168.1.30:8333/ai4sh/dtm/pos.openess.bareearth_ensemble_m_120m_s_20000101_20221231_eu_epsg.3035_v20240501.tif\n",
      "http://192.168.1.30:8333/ai4sh/dtm/pos.openess.bareearth_ensemble_m_240m_s_20000101_20221231_eu_epsg.3035_v20240501.tif\n",
      "http://192.168.1.30:8333/ai4sh/dtm/pos.openess.bareearth_ensemble_m_30m_s_20000101_20221231_eu_epsg.3035_v20240424.tif\n",
      "http://192.168.1.30:8333/ai4sh/dtm/pos.openess.bareearth_ensemble_m_480m_s_20000101_20221231_eu_epsg.3035_v20240501.tif\n",
      "http://192.168.1.30:8333/ai4sh/dtm/pos.openess.bareearth_ensemble_m_60m_s_20000101_20221231_eu_epsg.3035_v20240501.tif\n",
      "http://192.168.1.30:8333/ai4sh/dtm/pos.openess.bareearth_ensemble_m_960m_s_20000101_20221231_eu_epsg.3035_v20240501.tif\n",
      "http://192.168.1.30:8333/ai4sh/dtm/slope.bareearth_ensemble_m_120m_s_20000101_20221231_eu_epsg.3035_v20240501.tif\n",
      "http://192.168.1.30:8333/ai4sh/dtm/slope.bareearth_ensemble_m_240m_s_20000101_20221231_eu_epsg.3035_v20240501.tif\n",
      "http://192.168.1.30:8333/ai4sh/dtm/slope.bareearth_ensemble_m_30m_s_20000101_20221231_eu_epsg.3035_v20240424.tif\n",
      "http://192.168.1.30:8333/ai4sh/dtm/slope.bareearth_ensemble_m_30m_s_20000101_20221231_eu_epsg.3035_v20240501.tif\n",
      "http://192.168.1.30:8333/ai4sh/dtm/slope.bareearth_ensemble_m_480m_s_20000101_20221231_eu_epsg.3035_v20240501.tif\n",
      "http://192.168.1.30:8333/ai4sh/dtm/slope.bareearth_ensemble_m_60m_s_20000101_20221231_eu_epsg.3035_v20240501.tif\n",
      "http://192.168.1.30:8333/ai4sh/dtm/slope.bareearth_ensemble_m_960m_s_20000101_20221231_eu_epsg.3035_v20240501.tif\n",
      "http://192.168.1.30:8333/ai4sh/dtm/spec.catch.area.factor.bareearth_ensemble_m_240m_s_20000101_20221231_eu_epsg.3035_v20240501.tif\n",
      "http://192.168.1.30:8333/ai4sh/dtm/spec.catch.area.factor.bareearth_ensemble_m_480m_s_20000101_20221231_eu_epsg.3035_v20240501.tif\n",
      "http://192.168.1.30:8333/ai4sh/dtm/spec.catch.area.factor.bareearth_ensemble_m_60m_s_20000101_20221231_eu_epsg.3035_v20240501.tif\n",
      "http://192.168.1.30:8333/ai4sh/dtm/spec.catch.area.factor.bareearth_ensemble_m_960m_s_20000101_20221231_eu_epsg.3035_v20240501.tif\n",
      "http://192.168.1.30:8333/ai4sh/dtm/twi.bareearth_ensemble_m_120m_s_20000101_20221231_eu_epsg.3035_v20240501.tif\n",
      "http://192.168.1.30:8333/ai4sh/dtm/twi.bareearth_ensemble_m_240m_s_20000101_20221231_eu_epsg.3035_v20240501.tif\n",
      "http://192.168.1.30:8333/ai4sh/dtm/twi.bareearth_ensemble_m_480m_s_20000101_20221231_eu_epsg.3035_v20240501.tif\n",
      "http://192.168.1.30:8333/ai4sh/dtm/twi.bareearth_ensemble_m_60m_s_20000101_20221231_eu_epsg.3035_v20240501.tif\n",
      "http://192.168.1.30:8333/ai4sh/dtm/twi.bareearth_ensemble_m_960m_s_20000101_20221231_eu_epsg.3035_v20240501.tif\n",
      "http://192.168.1.30:8333/ai4sh/dtm/\n"
     ]
    }
   ],
   "source": [
    "aa = [i.split(' ')[-1] for i in a]\n",
    "prefix = 'http://192.168.1.30:8333/ai4sh/dtm/'\n",
    "for i in aa:\n",
    "    print(prefix+i)"
   ]
  },
  {
   "cell_type": "code",
   "execution_count": null,
   "id": "58ee0f1c-d353-4705-9fe8-62d10954d2bf",
   "metadata": {},
   "outputs": [],
   "source": []
  },
  {
   "cell_type": "code",
   "execution_count": null,
   "id": "398479ed-2d32-484b-bdb3-e1e9b791d407",
   "metadata": {},
   "outputs": [],
   "source": [
    "dtm.bareearth_ensemble_p10_30m_s_2018_go_epsg4326_v20230210.tif"
   ]
  }
 ],
 "metadata": {
  "kernelspec": {
   "display_name": "Python 3 (ipykernel)",
   "language": "python",
   "name": "python3"
  },
  "language_info": {
   "codemirror_mode": {
    "name": "ipython",
    "version": 3
   },
   "file_extension": ".py",
   "mimetype": "text/x-python",
   "name": "python",
   "nbconvert_exporter": "python",
   "pygments_lexer": "ipython3",
   "version": "3.8.10"
  }
 },
 "nbformat": 4,
 "nbformat_minor": 5
}
