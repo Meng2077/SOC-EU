{
 "cells": [
  {
   "cell_type": "code",
   "execution_count": 1,
   "id": "034dea9b-c505-4ea5-8347-a5875d2b21b5",
   "metadata": {},
   "outputs": [],
   "source": [
    "import numpy as np\n",
    "import matplotlib.pyplot as plt\n",
    "import pandas as pd\n",
    "from eumap.misc import find_files, ttprint\n",
    "from eumap.raster import read_rasters, save_rasters\n",
    "from eumap.mapper import SpaceOverlay\n",
    "import warnings\n",
    "import matplotlib\n",
    "\n",
    "folder = '/home/opengeohub/xuemeng/work_xuemeng/spatiotemporal-soc-eu/'\n",
    "\n",
    "df = pd.read_csv(f'{folder}/data/002.1_covar_overlayed.tiled.csv',low_memory=False)\n"
   ]
  },
  {
   "cell_type": "code",
   "execution_count": 6,
   "id": "fe0f6f62-8593-4207-90f9-a4d22503fb12",
   "metadata": {},
   "outputs": [],
   "source": [
    "# get the id of full validation points\n",
    "bd_val = pd.read_csv(f'{folder}/data/003.0_validate.pnts.rob_bd.csv',low_memory=False)\n",
    "oc_val = pd.read_csv(f'{folder}/data/003.1_validate.pnts.rob_soc.csv',low_memory=False)\n",
    "\n",
    "idl = bd_val['id'].values.tolist() + oc_val['id'].values.tolist()\n",
    "idl = [str(i) for i in idl]\n",
    "\n",
    "val = df.loc[df['id'].isin(idl)]\n",
    "val.to_csv(f'{folder}/data/004.0_validate.pnts_soc.csv',index=False)"
   ]
  },
  {
   "cell_type": "code",
   "execution_count": 7,
   "id": "3d44d3f8-bf4f-4d2f-b288-337e6ed62061",
   "metadata": {},
   "outputs": [],
   "source": [
    "# repeat for the properties appear less\n",
    "idl = bd_val['id'].values.tolist()\n",
    "idl = [str(i) for i in idl]\n",
    "\n",
    "val = df.loc[df['id'].isin(idl)]\n",
    "val.to_csv(f'{folder}/data/004.1_validate.pnts_prop.less.freq.csv',index=False)"
   ]
  },
  {
   "cell_type": "code",
   "execution_count": 8,
   "id": "9c1be8ec-22da-4ea5-ba2c-f13633d3c329",
   "metadata": {},
   "outputs": [],
   "source": [
    "# repeat to get training data, so without\n",
    "idl = bd_val['id'].values.tolist() + oc_val['id'].values.tolist()\n",
    "idl = [str(i) for i in idl]\n",
    "\n",
    "val = df.loc[~df['id'].isin(idl)]\n",
    "val.to_csv(f'{folder}/data/005.0_train.pnts_soc.csv',index=False)"
   ]
  },
  {
   "cell_type": "code",
   "execution_count": 9,
   "id": "9355e639-c4f8-4e4b-9b44-ce29dd07ab36",
   "metadata": {},
   "outputs": [
    {
     "data": {
      "text/plain": [
       "5994"
      ]
     },
     "execution_count": 9,
     "metadata": {},
     "output_type": "execute_result"
    }
   ],
   "source": [
    "len(df)-len(val)"
   ]
  },
  {
   "cell_type": "code",
   "execution_count": null,
   "id": "39d00bc9-2bd1-492d-956c-eb83d3fdf8cd",
   "metadata": {},
   "outputs": [],
   "source": []
  }
 ],
 "metadata": {
  "kernelspec": {
   "display_name": "Python 3 (ipykernel)",
   "language": "python",
   "name": "python3"
  },
  "language_info": {
   "codemirror_mode": {
    "name": "ipython",
    "version": 3
   },
   "file_extension": ".py",
   "mimetype": "text/x-python",
   "name": "python",
   "nbconvert_exporter": "python",
   "pygments_lexer": "ipython3",
   "version": "3.8.13"
  }
 },
 "nbformat": 4,
 "nbformat_minor": 5
}
