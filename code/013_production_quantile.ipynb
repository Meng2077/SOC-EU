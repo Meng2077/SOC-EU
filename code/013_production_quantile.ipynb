{
 "cells": [
  {
   "cell_type": "code",
   "execution_count": 1,
   "id": "9507ed38-859c-4dd3-85ab-53bff354a11e",
   "metadata": {
    "tags": []
   },
   "outputs": [],
   "source": [
    "import numpy as np\n",
    "import matplotlib\n",
    "import matplotlib.pyplot as plt\n",
    "import pandas as pd\n",
    "from eumap.misc import find_files, ttprint, nan_percentile, GoogleSheet\n",
    "from eumap.raster import read_rasters, save_rasters\n",
    "import warnings\n",
    "import multiprocess as mp\n",
    "import time\n",
    "from scipy.special import expit, logit\n",
    "import warnings\n",
    "from sklearn.experimental import enable_halving_search_cv\n",
    "from sklearn.model_selection import train_test_split, cross_val_score, HalvingGridSearchCV, KFold, GroupKFold\n",
    "from sklearn.metrics import mean_squared_error, r2_score\n",
    "from sklearn.ensemble import RandomForestRegressor\n",
    "from sklearn.pipeline import Pipeline\n",
    "from sklearn.neural_network import MLPRegressor\n",
    "import joblib\n",
    "import pickle\n",
    "from sklearn.metrics import r2_score, mean_squared_error, make_scorer\n",
    "from scipy.stats import pearsonr\n",
    "from sklearn.preprocessing import StandardScaler\n",
    "from cubist import Cubist\n",
    "from sklearn.base import BaseEstimator, TransformerMixin\n",
    "from pathlib import Path\n",
    "import os\n",
    "from sklearn.model_selection import RandomizedSearchCV\n",
    "from scipy.stats import randint, uniform\n",
    "from sklearn.model_selection import HalvingRandomSearchCV\n",
    "from sklearn.model_selection import cross_val_predict\n",
    "import math\n",
    "from quantile_forest import RandomForestQuantileRegressor\n",
    "from benchmark_pipeline import read_features\n",
    "\n",
    "# df = pd.read_csv(f'/mnt/primus/xuemeng_tmp_harbour/soc/data/002_data_whole.csv',low_memory=False)\n",
    "output_folder = '/mnt/primus/xuemeng_tmp_harbour/soc/results'"
   ]
  },
  {
   "cell_type": "code",
   "execution_count": 2,
   "id": "2bb4a1c3-cb41-4818-a66e-5304ae9c62b1",
   "metadata": {
    "tags": []
   },
   "outputs": [],
   "source": [
    "def calc_picp(lower_bounds, upper_bounds, true_values):\n",
    "    within_bounds = np.sum((true_values >= lower_bounds) & (true_values <= upper_bounds))\n",
    "    picp = within_bounds / len(true_values)\n",
    "    return picp\n",
    "\n",
    "def calc_qcp(predictions, true_values, quantile):\n",
    "    return np.mean(true_values <= predictions)\n",
    "\n",
    "def quantile_cross_val_predict(estimator, X, y, cv, quantiles, groups=None):\n",
    "    \"\"\" Custom cross-validation to handle quantile predictions with group support. \"\"\"\n",
    "    predictions = {q: [] for q in quantiles}\n",
    "    if groups is None:\n",
    "        cv_split = cv.split(X)\n",
    "    else:\n",
    "        cv_split = cv.split(X, y, groups)\n",
    "    \n",
    "    for train_idx, test_idx in cv_split:\n",
    "        X_train, X_test = X.iloc[train_idx], X.iloc[test_idx]\n",
    "        y_train = y.iloc[train_idx]\n",
    "        \n",
    "        # Fit the model on the training data\n",
    "        estimator.fit(X_train, y_train)\n",
    "        \n",
    "        # Predict each quantile and store results\n",
    "        for q in quantiles:\n",
    "            pred = estimator.predict(X_test, quantiles=q)\n",
    "            predictions[q].extend(pred)\n",
    "    \n",
    "    return predictions"
   ]
  },
  {
   "cell_type": "code",
   "execution_count": 3,
   "id": "6f0c9fa5-2737-4928-b01b-f68b0aac69e1",
   "metadata": {
    "tags": []
   },
   "outputs": [],
   "source": [
    "# a = find_files('/mnt/primus/xuemeng_tmp_harbour/soc/results/', 'model_rf.*.ccc.joblib')\n",
    "# a = [str(i) for i in a]\n",
    "best_dfff = pd.read_csv('/mnt/primus/xuemeng_tmp_harbour/soc/results/benchmark_metrics_predictions.csv',low_memory=False)\n",
    "\n",
    "prop_list = ['oc','ph_h2o','ph_cacl2','bulk_density','caco3','CEC','EC','P','K','N']\n",
    "path_list = []\n",
    "covs_list = []\n",
    "for prop in prop_list:\n",
    "    covs_list.append(f'/mnt/primus/xuemeng_tmp_harbour/soc/results/{prop}/benchmark_selected.covs_{prop}.txt')\n",
    "    \n",
    "    a = find_files(f'/mnt/primus/xuemeng_tmp_harbour/soc/results/{prop}/','*model*joblib')\n",
    "    a = [str(i) for i in a]\n",
    "    model_t = best_dfff.loc[best_dfff['property']==prop,'title'].values[0]\n",
    "    \n",
    "    if 'weighted' in model_t:\n",
    "        model_t = model_t.split('_')[0]\n",
    "        a = [ii for ii in a if 'weighted' in ii]\n",
    "    else:\n",
    "        a = [ii for ii in a if 'weighted' not in ii]\n",
    "\n",
    "    for ia in a:\n",
    "        if model_t in ia:\n",
    "            path_list.append(ia)"
   ]
  },
  {
   "cell_type": "code",
   "execution_count": 4,
   "id": "cfcb6720-fc44-4d4f-a5bd-e26826f3dc1a",
   "metadata": {
    "tags": []
   },
   "outputs": [
    {
     "data": {
      "text/plain": [
       "['/mnt/primus/xuemeng_tmp_harbour/soc/results/oc/model_rf.oc_log1p.ccc.joblib',\n",
       " '/mnt/primus/xuemeng_tmp_harbour/soc/results/ph_h2o/model_rf.ph_h2o_normal.ccc.joblib',\n",
       " '/mnt/primus/xuemeng_tmp_harbour/soc/results/ph_cacl2/model_rf.ph_cacl2_normal.ccc.joblib',\n",
       " '/mnt/primus/xuemeng_tmp_harbour/soc/results/bulk_density/model_rf.bulk_density_normal.ccc.joblib',\n",
       " '/mnt/primus/xuemeng_tmp_harbour/soc/results/caco3/model_rf.caco3_log1p.ccc.joblib',\n",
       " '/mnt/primus/xuemeng_tmp_harbour/soc/results/CEC/model_rf.CEC_log1p.ccc.weighted.joblib',\n",
       " '/mnt/primus/xuemeng_tmp_harbour/soc/results/EC/model_rf.EC_log1p.ccc.joblib',\n",
       " '/mnt/primus/xuemeng_tmp_harbour/soc/results/P/model_rf.P_log1p.ccc.weighted.joblib',\n",
       " '/mnt/primus/xuemeng_tmp_harbour/soc/results/K/model_rf.K_log1p.ccc.joblib',\n",
       " '/mnt/primus/xuemeng_tmp_harbour/soc/results/N/model_rf.N_log1p.ccc.joblib']"
      ]
     },
     "execution_count": 4,
     "metadata": {},
     "output_type": "execute_result"
    }
   ],
   "source": [
    "path_list"
   ]
  },
  {
   "cell_type": "code",
   "execution_count": 5,
   "id": "13bf4e34-cbfa-4636-ace3-e3cc66154039",
   "metadata": {
    "tags": []
   },
   "outputs": [
    {
     "name": "stdout",
     "output_type": "stream",
     "text": [
      "[12:11:12] quantile, cv, oc\n",
      "[12:13:49] quantile, individual test, oc\n",
      "[12:14:34] quantile, cv, ph_h2o\n",
      "[12:16:02] quantile, individual test, ph_h2o\n",
      "[12:16:29] quantile, cv, ph_cacl2\n",
      "[12:18:16] quantile, individual test, ph_cacl2\n",
      "[12:18:45] quantile, cv, bulk_density\n",
      "[12:19:07] quantile, individual test, bulk_density\n",
      "[12:19:16] quantile, cv, caco3\n",
      "[12:20:01] quantile, individual test, caco3\n",
      "[12:20:13] quantile, cv, CEC\n",
      "[12:20:38] quantile, individual test, CEC\n",
      "[12:20:48] quantile, cv, EC\n",
      "[12:21:41] quantile, individual test, EC\n",
      "[12:21:59] quantile, cv, P\n",
      "[12:23:04] quantile, individual test, P\n",
      "[12:23:25] quantile, cv, K\n",
      "[12:25:13] quantile, individual test, K\n",
      "[12:25:44] quantile, cv, N\n",
      "[12:27:39] quantile, individual test, N\n"
     ]
    }
   ],
   "source": [
    "quantiles = [0.05,0.95]\n",
    "results = []\n",
    "cv = GroupKFold(n_splits=5)  \n",
    "spatial_cv_column = 'tile_id'\n",
    "\n",
    "import warnings\n",
    "warnings.filterwarnings('ignore', message=\"X has feature names, but RandomForestQuantileRegressor was fitted without feature names\")\n",
    "\n",
    "for prop in prop_list:\n",
    "    test = pd.read_csv(f'{output_folder}/{prop}/benchmark_test.pnts_{prop}.csv',low_memory=False)\n",
    "    train = pd.read_csv(f'{output_folder}/{prop}/benchmark_train.pnts_{prop}.csv',low_memory=False)\n",
    "\n",
    "    covs = read_features(f'{output_folder}/{prop}/benchmark_selected.covs_{prop}.txt')\n",
    "    \n",
    "    train = train.dropna(subset=covs,how='any')\n",
    "    test = test.dropna(subset=covs,how='any')\n",
    "    \n",
    "    for i in path_list:\n",
    "        if prop in i:\n",
    "            file_rf = i\n",
    "            \n",
    "    rf_model = joblib.load(file_rf)\n",
    "    params = rf_model.get_params()\n",
    "    params['n_jobs'] = 90\n",
    "    qrf = RandomForestQuantileRegressor(**params)\n",
    "    \n",
    "    ttprint(f'quantile, cv, {prop}')\n",
    "    # cv valiadate\n",
    "    # y_pred_cv_rf = cross_val_predict(rf_model, train[covs], train[prop], cv=cv, n_jobs=-1)\n",
    "    start_time = time.time()\n",
    "    predictions = quantile_cross_val_predict(qrf, train[covs], train[prop], cv, quantiles, groups = train[spatial_cv_column])\n",
    "    end_time = time.time()\n",
    "    cv_time = (end_time - start_time)\n",
    "    picp_cv = calc_picp(np.array(predictions[quantiles[0]]), np.array(predictions[quantiles[1]]), train[prop])\n",
    "    \n",
    "    qcp_cv_lower = calc_qcp(np.array(predictions[quantiles[0]]), train[prop], quantiles[0])\n",
    "    qcp_cv_upper = calc_qcp(np.array(predictions[quantiles[1]]), train[prop], quantiles[1])\n",
    "    \n",
    "    piw_cv = np.mean(np.array(predictions[quantiles[1]])-np.array(predictions[quantiles[0]]))\n",
    "    \n",
    "    \n",
    "    # individual test data\n",
    "    ttprint(f'quantile, individual test, {prop}')\n",
    "    qrf.fit(train[covs], train[prop])\n",
    "    start_time = time.time()\n",
    "    y_pred_test = qrf.predict(test[covs], quantiles=quantiles)\n",
    "    end_time = time.time()\n",
    "    test_time = (end_time - start_time)\n",
    "    picp_test = calc_picp(y_pred_test[:,0], y_pred_test[:,1], test[prop])\n",
    "    \n",
    "    qcp_test_lower = calc_qcp(y_pred_test[:,0], test[prop], quantiles[0])\n",
    "    qcp_test_upper = calc_qcp(y_pred_test[:,1], test[prop], quantiles[1])\n",
    "    \n",
    "    piw_test = np.mean(y_pred_test[:,1]-y_pred_test[:,0])\n",
    "    \n",
    "    results.append({\n",
    "            'property': prop,\n",
    "            'picp_val': picp_test,\n",
    "            'piw_val': piw_test,\n",
    "            'qcp05_val': qcp_test_lower,\n",
    "            'qcp95_val': qcp_test_upper,\n",
    "            'picp_cv': picp_cv,\n",
    "            'piw_cv': piw_cv,\n",
    "            'qcp05_cv': qcp_cv_lower,\n",
    "            'qcp95_cv': qcp_cv_upper,\n",
    "            'time_cv': cv_time,\n",
    "            'time_val': test_time\n",
    "        })\n",
    "    \n",
    "results = pd.DataFrame(results)\n",
    "results.to_csv(f'{output_folder}/benchmark_metrics_quantiles.csv',index=False)"
   ]
  },
  {
   "cell_type": "code",
   "execution_count": 6,
   "id": "9c13d78a-9040-4c4b-8ef9-4440e06e4f49",
   "metadata": {
    "tags": []
   },
   "outputs": [
    {
     "data": {
      "text/html": [
       "<div>\n",
       "<style scoped>\n",
       "    .dataframe tbody tr th:only-of-type {\n",
       "        vertical-align: middle;\n",
       "    }\n",
       "\n",
       "    .dataframe tbody tr th {\n",
       "        vertical-align: top;\n",
       "    }\n",
       "\n",
       "    .dataframe thead th {\n",
       "        text-align: right;\n",
       "    }\n",
       "</style>\n",
       "<table border=\"1\" class=\"dataframe\">\n",
       "  <thead>\n",
       "    <tr style=\"text-align: right;\">\n",
       "      <th></th>\n",
       "      <th>property</th>\n",
       "      <th>picp_val</th>\n",
       "      <th>piw_val</th>\n",
       "      <th>qcp05_val</th>\n",
       "      <th>qcp95_val</th>\n",
       "      <th>picp_cv</th>\n",
       "      <th>piw_cv</th>\n",
       "      <th>qcp05_cv</th>\n",
       "      <th>qcp95_cv</th>\n",
       "      <th>time_cv</th>\n",
       "      <th>time_val</th>\n",
       "    </tr>\n",
       "  </thead>\n",
       "  <tbody>\n",
       "    <tr>\n",
       "      <th>0</th>\n",
       "      <td>oc</td>\n",
       "      <td>0.911758</td>\n",
       "      <td>113.206784</td>\n",
       "      <td>0.046327</td>\n",
       "      <td>0.957423</td>\n",
       "      <td>0.591396</td>\n",
       "      <td>120.629154</td>\n",
       "      <td>0.203107</td>\n",
       "      <td>0.794312</td>\n",
       "      <td>157.083848</td>\n",
       "      <td>0.140692</td>\n",
       "    </tr>\n",
       "    <tr>\n",
       "      <th>1</th>\n",
       "      <td>ph_h2o</td>\n",
       "      <td>0.913485</td>\n",
       "      <td>2.226528</td>\n",
       "      <td>0.038623</td>\n",
       "      <td>0.951666</td>\n",
       "      <td>0.559263</td>\n",
       "      <td>2.494761</td>\n",
       "      <td>0.219349</td>\n",
       "      <td>0.777880</td>\n",
       "      <td>88.715131</td>\n",
       "      <td>0.115226</td>\n",
       "    </tr>\n",
       "    <tr>\n",
       "      <th>2</th>\n",
       "      <td>ph_cacl2</td>\n",
       "      <td>0.919444</td>\n",
       "      <td>2.241726</td>\n",
       "      <td>0.039726</td>\n",
       "      <td>0.955418</td>\n",
       "      <td>0.570093</td>\n",
       "      <td>2.595909</td>\n",
       "      <td>0.217648</td>\n",
       "      <td>0.785499</td>\n",
       "      <td>106.924424</td>\n",
       "      <td>0.119765</td>\n",
       "    </tr>\n",
       "    <tr>\n",
       "      <th>3</th>\n",
       "      <td>bulk_density</td>\n",
       "      <td>0.908785</td>\n",
       "      <td>0.848127</td>\n",
       "      <td>0.046087</td>\n",
       "      <td>0.954873</td>\n",
       "      <td>0.633553</td>\n",
       "      <td>0.821331</td>\n",
       "      <td>0.187298</td>\n",
       "      <td>0.820332</td>\n",
       "      <td>21.681113</td>\n",
       "      <td>0.096607</td>\n",
       "    </tr>\n",
       "    <tr>\n",
       "      <th>4</th>\n",
       "      <td>caco3</td>\n",
       "      <td>0.957399</td>\n",
       "      <td>198.416792</td>\n",
       "      <td>0.341568</td>\n",
       "      <td>0.958659</td>\n",
       "      <td>0.768095</td>\n",
       "      <td>200.030726</td>\n",
       "      <td>0.384996</td>\n",
       "      <td>0.833864</td>\n",
       "      <td>45.658252</td>\n",
       "      <td>0.092724</td>\n",
       "    </tr>\n",
       "    <tr>\n",
       "      <th>5</th>\n",
       "      <td>CEC</td>\n",
       "      <td>0.921088</td>\n",
       "      <td>32.826902</td>\n",
       "      <td>0.043103</td>\n",
       "      <td>0.954244</td>\n",
       "      <td>0.777920</td>\n",
       "      <td>37.444468</td>\n",
       "      <td>0.121604</td>\n",
       "      <td>0.896680</td>\n",
       "      <td>24.661894</td>\n",
       "      <td>0.095304</td>\n",
       "    </tr>\n",
       "    <tr>\n",
       "      <th>6</th>\n",
       "      <td>EC</td>\n",
       "      <td>0.902681</td>\n",
       "      <td>54.627100</td>\n",
       "      <td>0.044356</td>\n",
       "      <td>0.947037</td>\n",
       "      <td>0.695425</td>\n",
       "      <td>54.497298</td>\n",
       "      <td>0.165878</td>\n",
       "      <td>0.861280</td>\n",
       "      <td>53.068233</td>\n",
       "      <td>0.100602</td>\n",
       "    </tr>\n",
       "    <tr>\n",
       "      <th>7</th>\n",
       "      <td>P</td>\n",
       "      <td>0.935691</td>\n",
       "      <td>72.644469</td>\n",
       "      <td>0.094586</td>\n",
       "      <td>0.947403</td>\n",
       "      <td>0.800309</td>\n",
       "      <td>76.694634</td>\n",
       "      <td>0.138710</td>\n",
       "      <td>0.911262</td>\n",
       "      <td>64.963063</td>\n",
       "      <td>0.113046</td>\n",
       "    </tr>\n",
       "    <tr>\n",
       "      <th>8</th>\n",
       "      <td>K</td>\n",
       "      <td>0.898939</td>\n",
       "      <td>423.682229</td>\n",
       "      <td>0.046440</td>\n",
       "      <td>0.945378</td>\n",
       "      <td>0.765266</td>\n",
       "      <td>441.400851</td>\n",
       "      <td>0.134051</td>\n",
       "      <td>0.899281</td>\n",
       "      <td>107.763447</td>\n",
       "      <td>0.113612</td>\n",
       "    </tr>\n",
       "    <tr>\n",
       "      <th>9</th>\n",
       "      <td>N</td>\n",
       "      <td>0.922484</td>\n",
       "      <td>8.332410</td>\n",
       "      <td>0.051971</td>\n",
       "      <td>0.959260</td>\n",
       "      <td>0.586770</td>\n",
       "      <td>13.178725</td>\n",
       "      <td>0.209805</td>\n",
       "      <td>0.789534</td>\n",
       "      <td>114.441996</td>\n",
       "      <td>0.123646</td>\n",
       "    </tr>\n",
       "  </tbody>\n",
       "</table>\n",
       "</div>"
      ],
      "text/plain": [
       "       property  picp_val     piw_val  qcp05_val  qcp95_val   picp_cv  \\\n",
       "0            oc  0.911758  113.206784   0.046327   0.957423  0.591396   \n",
       "1        ph_h2o  0.913485    2.226528   0.038623   0.951666  0.559263   \n",
       "2      ph_cacl2  0.919444    2.241726   0.039726   0.955418  0.570093   \n",
       "3  bulk_density  0.908785    0.848127   0.046087   0.954873  0.633553   \n",
       "4         caco3  0.957399  198.416792   0.341568   0.958659  0.768095   \n",
       "5           CEC  0.921088   32.826902   0.043103   0.954244  0.777920   \n",
       "6            EC  0.902681   54.627100   0.044356   0.947037  0.695425   \n",
       "7             P  0.935691   72.644469   0.094586   0.947403  0.800309   \n",
       "8             K  0.898939  423.682229   0.046440   0.945378  0.765266   \n",
       "9             N  0.922484    8.332410   0.051971   0.959260  0.586770   \n",
       "\n",
       "       piw_cv  qcp05_cv  qcp95_cv     time_cv  time_val  \n",
       "0  120.629154  0.203107  0.794312  157.083848  0.140692  \n",
       "1    2.494761  0.219349  0.777880   88.715131  0.115226  \n",
       "2    2.595909  0.217648  0.785499  106.924424  0.119765  \n",
       "3    0.821331  0.187298  0.820332   21.681113  0.096607  \n",
       "4  200.030726  0.384996  0.833864   45.658252  0.092724  \n",
       "5   37.444468  0.121604  0.896680   24.661894  0.095304  \n",
       "6   54.497298  0.165878  0.861280   53.068233  0.100602  \n",
       "7   76.694634  0.138710  0.911262   64.963063  0.113046  \n",
       "8  441.400851  0.134051  0.899281  107.763447  0.113612  \n",
       "9   13.178725  0.209805  0.789534  114.441996  0.123646  "
      ]
     },
     "execution_count": 6,
     "metadata": {},
     "output_type": "execute_result"
    }
   ],
   "source": [
    "results"
   ]
  },
  {
   "cell_type": "markdown",
   "id": "bb47ebae-dcf9-45fe-bc0d-2906b45dd2c2",
   "metadata": {},
   "source": [
    "### Train the production model"
   ]
  },
  {
   "cell_type": "code",
   "execution_count": 7,
   "id": "9813f412-4369-4795-aef6-f646d97b8232",
   "metadata": {
    "tags": []
   },
   "outputs": [],
   "source": [
    "# load all the data\n",
    "df = pd.read_csv(f'/mnt/primus/xuemeng_tmp_harbour/soc/data/002_data_whole.csv',low_memory=False)"
   ]
  },
  {
   "cell_type": "code",
   "execution_count": 14,
   "id": "77114427-e4bb-4f3d-aa34-42a797cfbf8b",
   "metadata": {
    "tags": []
   },
   "outputs": [],
   "source": [
    "prop = 'oc'\n",
    "dff = df.dropna(subset=[prop],how='any')\n",
    "dff = dff.loc[dff[f'{prop}_qa']>5]"
   ]
  },
  {
   "cell_type": "code",
   "execution_count": 15,
   "id": "11ed2526-abf5-4c93-90a4-b0a15fcaa87f",
   "metadata": {
    "tags": []
   },
   "outputs": [
    {
     "data": {
      "text/html": [
       "<div>\n",
       "<style scoped>\n",
       "    .dataframe tbody tr th:only-of-type {\n",
       "        vertical-align: middle;\n",
       "    }\n",
       "\n",
       "    .dataframe tbody tr th {\n",
       "        vertical-align: top;\n",
       "    }\n",
       "\n",
       "    .dataframe thead th {\n",
       "        text-align: right;\n",
       "    }\n",
       "</style>\n",
       "<table border=\"1\" class=\"dataframe\">\n",
       "  <thead>\n",
       "    <tr style=\"text-align: right;\">\n",
       "      <th></th>\n",
       "      <th>id</th>\n",
       "      <th>lat</th>\n",
       "      <th>lon</th>\n",
       "      <th>time</th>\n",
       "      <th>ref</th>\n",
       "      <th>nuts0</th>\n",
       "      <th>oc</th>\n",
       "      <th>ph_h2o</th>\n",
       "      <th>ph_cacl2</th>\n",
       "      <th>bulk_density</th>\n",
       "      <th>...</th>\n",
       "      <th>lithology_EGDI_syenite</th>\n",
       "      <th>lithology_EGDI_tephrite</th>\n",
       "      <th>lithology_EGDI_tonalite</th>\n",
       "      <th>lithology_EGDI_trachyte</th>\n",
       "      <th>lithology_EGDI_trachytoid</th>\n",
       "      <th>lithology_EGDI_tuffBrecciaAgglomerateOrPyroclasticBreccia</th>\n",
       "      <th>lithology_EGDI_ultramaficIgneousRock</th>\n",
       "      <th>lithology_EGDI_wacke</th>\n",
       "      <th>lithology_EGDI_Unpopulated</th>\n",
       "      <th>hzn_dep</th>\n",
       "    </tr>\n",
       "  </thead>\n",
       "  <tbody>\n",
       "    <tr>\n",
       "      <th>0</th>\n",
       "      <td>1-1</td>\n",
       "      <td>40.871480</td>\n",
       "      <td>-7.049093</td>\n",
       "      <td>2000.0</td>\n",
       "      <td>portugal.infosolo</td>\n",
       "      <td>PT</td>\n",
       "      <td>6.7</td>\n",
       "      <td>5.2</td>\n",
       "      <td>NaN</td>\n",
       "      <td>NaN</td>\n",
       "      <td>...</td>\n",
       "      <td>0</td>\n",
       "      <td>0</td>\n",
       "      <td>0</td>\n",
       "      <td>0</td>\n",
       "      <td>0</td>\n",
       "      <td>0</td>\n",
       "      <td>0</td>\n",
       "      <td>0</td>\n",
       "      <td>0</td>\n",
       "      <td>15.0</td>\n",
       "    </tr>\n",
       "    <tr>\n",
       "      <th>1</th>\n",
       "      <td>1-2</td>\n",
       "      <td>40.871480</td>\n",
       "      <td>-7.049093</td>\n",
       "      <td>2000.0</td>\n",
       "      <td>portugal.infosolo</td>\n",
       "      <td>PT</td>\n",
       "      <td>3.9</td>\n",
       "      <td>5.5</td>\n",
       "      <td>NaN</td>\n",
       "      <td>NaN</td>\n",
       "      <td>...</td>\n",
       "      <td>0</td>\n",
       "      <td>0</td>\n",
       "      <td>0</td>\n",
       "      <td>0</td>\n",
       "      <td>0</td>\n",
       "      <td>0</td>\n",
       "      <td>0</td>\n",
       "      <td>0</td>\n",
       "      <td>0</td>\n",
       "      <td>42.5</td>\n",
       "    </tr>\n",
       "    <tr>\n",
       "      <th>2</th>\n",
       "      <td>2-3</td>\n",
       "      <td>40.583860</td>\n",
       "      <td>-6.952317</td>\n",
       "      <td>2000.0</td>\n",
       "      <td>portugal.infosolo</td>\n",
       "      <td>PT</td>\n",
       "      <td>5.9</td>\n",
       "      <td>4.9</td>\n",
       "      <td>NaN</td>\n",
       "      <td>NaN</td>\n",
       "      <td>...</td>\n",
       "      <td>0</td>\n",
       "      <td>0</td>\n",
       "      <td>0</td>\n",
       "      <td>0</td>\n",
       "      <td>0</td>\n",
       "      <td>0</td>\n",
       "      <td>0</td>\n",
       "      <td>0</td>\n",
       "      <td>0</td>\n",
       "      <td>6.5</td>\n",
       "    </tr>\n",
       "    <tr>\n",
       "      <th>3</th>\n",
       "      <td>2-4</td>\n",
       "      <td>40.583860</td>\n",
       "      <td>-6.952317</td>\n",
       "      <td>2000.0</td>\n",
       "      <td>portugal.infosolo</td>\n",
       "      <td>PT</td>\n",
       "      <td>6.2</td>\n",
       "      <td>5.2</td>\n",
       "      <td>NaN</td>\n",
       "      <td>NaN</td>\n",
       "      <td>...</td>\n",
       "      <td>0</td>\n",
       "      <td>0</td>\n",
       "      <td>0</td>\n",
       "      <td>0</td>\n",
       "      <td>0</td>\n",
       "      <td>0</td>\n",
       "      <td>0</td>\n",
       "      <td>0</td>\n",
       "      <td>0</td>\n",
       "      <td>25.5</td>\n",
       "    </tr>\n",
       "    <tr>\n",
       "      <th>4</th>\n",
       "      <td>3-5</td>\n",
       "      <td>40.756090</td>\n",
       "      <td>-6.862586</td>\n",
       "      <td>2000.0</td>\n",
       "      <td>portugal.infosolo</td>\n",
       "      <td>PT</td>\n",
       "      <td>5.4</td>\n",
       "      <td>5.4</td>\n",
       "      <td>NaN</td>\n",
       "      <td>NaN</td>\n",
       "      <td>...</td>\n",
       "      <td>0</td>\n",
       "      <td>0</td>\n",
       "      <td>0</td>\n",
       "      <td>0</td>\n",
       "      <td>0</td>\n",
       "      <td>0</td>\n",
       "      <td>0</td>\n",
       "      <td>0</td>\n",
       "      <td>0</td>\n",
       "      <td>12.5</td>\n",
       "    </tr>\n",
       "    <tr>\n",
       "      <th>...</th>\n",
       "      <td>...</td>\n",
       "      <td>...</td>\n",
       "      <td>...</td>\n",
       "      <td>...</td>\n",
       "      <td>...</td>\n",
       "      <td>...</td>\n",
       "      <td>...</td>\n",
       "      <td>...</td>\n",
       "      <td>...</td>\n",
       "      <td>...</td>\n",
       "      <td>...</td>\n",
       "      <td>...</td>\n",
       "      <td>...</td>\n",
       "      <td>...</td>\n",
       "      <td>...</td>\n",
       "      <td>...</td>\n",
       "      <td>...</td>\n",
       "      <td>...</td>\n",
       "      <td>...</td>\n",
       "      <td>...</td>\n",
       "      <td>...</td>\n",
       "    </tr>\n",
       "    <tr>\n",
       "      <th>390106</th>\n",
       "      <td>P0000739358</td>\n",
       "      <td>58.701308</td>\n",
       "      <td>26.593805</td>\n",
       "      <td>2021.0</td>\n",
       "      <td>estonia.kese</td>\n",
       "      <td>EE</td>\n",
       "      <td>20.0</td>\n",
       "      <td>NaN</td>\n",
       "      <td>NaN</td>\n",
       "      <td>NaN</td>\n",
       "      <td>...</td>\n",
       "      <td>0</td>\n",
       "      <td>0</td>\n",
       "      <td>0</td>\n",
       "      <td>0</td>\n",
       "      <td>0</td>\n",
       "      <td>0</td>\n",
       "      <td>0</td>\n",
       "      <td>0</td>\n",
       "      <td>0</td>\n",
       "      <td>10.0</td>\n",
       "    </tr>\n",
       "    <tr>\n",
       "      <th>390107</th>\n",
       "      <td>P0000739254</td>\n",
       "      <td>58.701377</td>\n",
       "      <td>26.594116</td>\n",
       "      <td>2021.0</td>\n",
       "      <td>estonia.kese</td>\n",
       "      <td>EE</td>\n",
       "      <td>20.0</td>\n",
       "      <td>NaN</td>\n",
       "      <td>NaN</td>\n",
       "      <td>NaN</td>\n",
       "      <td>...</td>\n",
       "      <td>0</td>\n",
       "      <td>0</td>\n",
       "      <td>0</td>\n",
       "      <td>0</td>\n",
       "      <td>0</td>\n",
       "      <td>0</td>\n",
       "      <td>0</td>\n",
       "      <td>0</td>\n",
       "      <td>0</td>\n",
       "      <td>10.0</td>\n",
       "    </tr>\n",
       "    <tr>\n",
       "      <th>390108</th>\n",
       "      <td>P0000739334</td>\n",
       "      <td>58.701446</td>\n",
       "      <td>26.594428</td>\n",
       "      <td>2021.0</td>\n",
       "      <td>estonia.kese</td>\n",
       "      <td>EE</td>\n",
       "      <td>20.0</td>\n",
       "      <td>NaN</td>\n",
       "      <td>NaN</td>\n",
       "      <td>NaN</td>\n",
       "      <td>...</td>\n",
       "      <td>0</td>\n",
       "      <td>0</td>\n",
       "      <td>0</td>\n",
       "      <td>0</td>\n",
       "      <td>0</td>\n",
       "      <td>0</td>\n",
       "      <td>0</td>\n",
       "      <td>0</td>\n",
       "      <td>0</td>\n",
       "      <td>10.0</td>\n",
       "    </tr>\n",
       "    <tr>\n",
       "      <th>390113</th>\n",
       "      <td>P0000739268</td>\n",
       "      <td>58.936527</td>\n",
       "      <td>23.692333</td>\n",
       "      <td>2021.0</td>\n",
       "      <td>estonia.kese</td>\n",
       "      <td>EE</td>\n",
       "      <td>30.0</td>\n",
       "      <td>NaN</td>\n",
       "      <td>NaN</td>\n",
       "      <td>NaN</td>\n",
       "      <td>...</td>\n",
       "      <td>0</td>\n",
       "      <td>0</td>\n",
       "      <td>0</td>\n",
       "      <td>0</td>\n",
       "      <td>0</td>\n",
       "      <td>0</td>\n",
       "      <td>0</td>\n",
       "      <td>0</td>\n",
       "      <td>0</td>\n",
       "      <td>10.0</td>\n",
       "    </tr>\n",
       "    <tr>\n",
       "      <th>390114</th>\n",
       "      <td>P0000739289</td>\n",
       "      <td>58.936637</td>\n",
       "      <td>23.692061</td>\n",
       "      <td>2021.0</td>\n",
       "      <td>estonia.kese</td>\n",
       "      <td>EE</td>\n",
       "      <td>30.0</td>\n",
       "      <td>NaN</td>\n",
       "      <td>NaN</td>\n",
       "      <td>NaN</td>\n",
       "      <td>...</td>\n",
       "      <td>0</td>\n",
       "      <td>0</td>\n",
       "      <td>0</td>\n",
       "      <td>0</td>\n",
       "      <td>0</td>\n",
       "      <td>0</td>\n",
       "      <td>0</td>\n",
       "      <td>0</td>\n",
       "      <td>0</td>\n",
       "      <td>10.0</td>\n",
       "    </tr>\n",
       "  </tbody>\n",
       "</table>\n",
       "<p>106866 rows × 568 columns</p>\n",
       "</div>"
      ],
      "text/plain": [
       "                 id        lat        lon    time                ref nuts0  \\\n",
       "0               1-1  40.871480  -7.049093  2000.0  portugal.infosolo    PT   \n",
       "1               1-2  40.871480  -7.049093  2000.0  portugal.infosolo    PT   \n",
       "2               2-3  40.583860  -6.952317  2000.0  portugal.infosolo    PT   \n",
       "3               2-4  40.583860  -6.952317  2000.0  portugal.infosolo    PT   \n",
       "4               3-5  40.756090  -6.862586  2000.0  portugal.infosolo    PT   \n",
       "...             ...        ...        ...     ...                ...   ...   \n",
       "390106  P0000739358  58.701308  26.593805  2021.0       estonia.kese    EE   \n",
       "390107  P0000739254  58.701377  26.594116  2021.0       estonia.kese    EE   \n",
       "390108  P0000739334  58.701446  26.594428  2021.0       estonia.kese    EE   \n",
       "390113  P0000739268  58.936527  23.692333  2021.0       estonia.kese    EE   \n",
       "390114  P0000739289  58.936637  23.692061  2021.0       estonia.kese    EE   \n",
       "\n",
       "          oc  ph_h2o  ph_cacl2  bulk_density  ...  lithology_EGDI_syenite  \\\n",
       "0        6.7     5.2       NaN           NaN  ...                       0   \n",
       "1        3.9     5.5       NaN           NaN  ...                       0   \n",
       "2        5.9     4.9       NaN           NaN  ...                       0   \n",
       "3        6.2     5.2       NaN           NaN  ...                       0   \n",
       "4        5.4     5.4       NaN           NaN  ...                       0   \n",
       "...      ...     ...       ...           ...  ...                     ...   \n",
       "390106  20.0     NaN       NaN           NaN  ...                       0   \n",
       "390107  20.0     NaN       NaN           NaN  ...                       0   \n",
       "390108  20.0     NaN       NaN           NaN  ...                       0   \n",
       "390113  30.0     NaN       NaN           NaN  ...                       0   \n",
       "390114  30.0     NaN       NaN           NaN  ...                       0   \n",
       "\n",
       "        lithology_EGDI_tephrite  lithology_EGDI_tonalite  \\\n",
       "0                             0                        0   \n",
       "1                             0                        0   \n",
       "2                             0                        0   \n",
       "3                             0                        0   \n",
       "4                             0                        0   \n",
       "...                         ...                      ...   \n",
       "390106                        0                        0   \n",
       "390107                        0                        0   \n",
       "390108                        0                        0   \n",
       "390113                        0                        0   \n",
       "390114                        0                        0   \n",
       "\n",
       "        lithology_EGDI_trachyte  lithology_EGDI_trachytoid  \\\n",
       "0                             0                          0   \n",
       "1                             0                          0   \n",
       "2                             0                          0   \n",
       "3                             0                          0   \n",
       "4                             0                          0   \n",
       "...                         ...                        ...   \n",
       "390106                        0                          0   \n",
       "390107                        0                          0   \n",
       "390108                        0                          0   \n",
       "390113                        0                          0   \n",
       "390114                        0                          0   \n",
       "\n",
       "        lithology_EGDI_tuffBrecciaAgglomerateOrPyroclasticBreccia  \\\n",
       "0                                                       0           \n",
       "1                                                       0           \n",
       "2                                                       0           \n",
       "3                                                       0           \n",
       "4                                                       0           \n",
       "...                                                   ...           \n",
       "390106                                                  0           \n",
       "390107                                                  0           \n",
       "390108                                                  0           \n",
       "390113                                                  0           \n",
       "390114                                                  0           \n",
       "\n",
       "        lithology_EGDI_ultramaficIgneousRock  lithology_EGDI_wacke  \\\n",
       "0                                          0                     0   \n",
       "1                                          0                     0   \n",
       "2                                          0                     0   \n",
       "3                                          0                     0   \n",
       "4                                          0                     0   \n",
       "...                                      ...                   ...   \n",
       "390106                                     0                     0   \n",
       "390107                                     0                     0   \n",
       "390108                                     0                     0   \n",
       "390113                                     0                     0   \n",
       "390114                                     0                     0   \n",
       "\n",
       "        lithology_EGDI_Unpopulated  hzn_dep  \n",
       "0                                0     15.0  \n",
       "1                                0     42.5  \n",
       "2                                0      6.5  \n",
       "3                                0     25.5  \n",
       "4                                0     12.5  \n",
       "...                            ...      ...  \n",
       "390106                           0     10.0  \n",
       "390107                           0     10.0  \n",
       "390108                           0     10.0  \n",
       "390113                           0     10.0  \n",
       "390114                           0     10.0  \n",
       "\n",
       "[106866 rows x 568 columns]"
      ]
     },
     "execution_count": 15,
     "metadata": {},
     "output_type": "execute_result"
    }
   ],
   "source": [
    "dff"
   ]
  },
  {
   "cell_type": "code",
   "execution_count": 8,
   "id": "24cf8e17-056e-4495-ab48-8d04f661f69d",
   "metadata": {
    "tags": []
   },
   "outputs": [
    {
     "name": "stdout",
     "output_type": "stream",
     "text": [
      "process oc\n"
     ]
    },
    {
     "name": "stderr",
     "output_type": "stream",
     "text": [
      "/opt/conda/lib/python3.8/site-packages/scipy/stats/_morestats.py:1800: UserWarning: p-value may not be accurate for N > 5000.\n",
      "  warnings.warn(\"p-value may not be accurate for N > 5000.\")\n"
     ]
    },
    {
     "name": "stdout",
     "output_type": "stream",
     "text": [
      "process ph_h2o\n"
     ]
    },
    {
     "name": "stderr",
     "output_type": "stream",
     "text": [
      "/opt/conda/lib/python3.8/site-packages/scipy/stats/_morestats.py:1800: UserWarning: p-value may not be accurate for N > 5000.\n",
      "  warnings.warn(\"p-value may not be accurate for N > 5000.\")\n"
     ]
    },
    {
     "name": "stdout",
     "output_type": "stream",
     "text": [
      "process ph_cacl2\n"
     ]
    },
    {
     "name": "stderr",
     "output_type": "stream",
     "text": [
      "/opt/conda/lib/python3.8/site-packages/scipy/stats/_morestats.py:1800: UserWarning: p-value may not be accurate for N > 5000.\n",
      "  warnings.warn(\"p-value may not be accurate for N > 5000.\")\n"
     ]
    },
    {
     "name": "stdout",
     "output_type": "stream",
     "text": [
      "process bulk_density\n"
     ]
    },
    {
     "name": "stderr",
     "output_type": "stream",
     "text": [
      "/opt/conda/lib/python3.8/site-packages/scipy/stats/_morestats.py:1800: UserWarning: p-value may not be accurate for N > 5000.\n",
      "  warnings.warn(\"p-value may not be accurate for N > 5000.\")\n"
     ]
    },
    {
     "name": "stdout",
     "output_type": "stream",
     "text": [
      "process caco3\n"
     ]
    },
    {
     "name": "stderr",
     "output_type": "stream",
     "text": [
      "/opt/conda/lib/python3.8/site-packages/scipy/stats/_morestats.py:1800: UserWarning: p-value may not be accurate for N > 5000.\n",
      "  warnings.warn(\"p-value may not be accurate for N > 5000.\")\n"
     ]
    },
    {
     "name": "stdout",
     "output_type": "stream",
     "text": [
      "process CEC\n"
     ]
    },
    {
     "name": "stderr",
     "output_type": "stream",
     "text": [
      "/opt/conda/lib/python3.8/site-packages/scipy/stats/_morestats.py:1800: UserWarning: p-value may not be accurate for N > 5000.\n",
      "  warnings.warn(\"p-value may not be accurate for N > 5000.\")\n"
     ]
    },
    {
     "name": "stdout",
     "output_type": "stream",
     "text": [
      "process EC\n"
     ]
    },
    {
     "name": "stderr",
     "output_type": "stream",
     "text": [
      "/opt/conda/lib/python3.8/site-packages/scipy/stats/_morestats.py:1800: UserWarning: p-value may not be accurate for N > 5000.\n",
      "  warnings.warn(\"p-value may not be accurate for N > 5000.\")\n"
     ]
    },
    {
     "name": "stdout",
     "output_type": "stream",
     "text": [
      "process P\n"
     ]
    },
    {
     "name": "stderr",
     "output_type": "stream",
     "text": [
      "/opt/conda/lib/python3.8/site-packages/scipy/stats/_morestats.py:1800: UserWarning: p-value may not be accurate for N > 5000.\n",
      "  warnings.warn(\"p-value may not be accurate for N > 5000.\")\n"
     ]
    },
    {
     "name": "stdout",
     "output_type": "stream",
     "text": [
      "process K\n"
     ]
    },
    {
     "name": "stderr",
     "output_type": "stream",
     "text": [
      "/opt/conda/lib/python3.8/site-packages/scipy/stats/_morestats.py:1800: UserWarning: p-value may not be accurate for N > 5000.\n",
      "  warnings.warn(\"p-value may not be accurate for N > 5000.\")\n"
     ]
    },
    {
     "name": "stdout",
     "output_type": "stream",
     "text": [
      "process N\n"
     ]
    },
    {
     "name": "stderr",
     "output_type": "stream",
     "text": [
      "/opt/conda/lib/python3.8/site-packages/scipy/stats/_morestats.py:1800: UserWarning: p-value may not be accurate for N > 5000.\n",
      "  warnings.warn(\"p-value may not be accurate for N > 5000.\")\n"
     ]
    }
   ],
   "source": [
    "import shutil\n",
    "from scipy.stats import norm, shapiro, kstest\n",
    "\n",
    "n_jobs=90\n",
    "results = []\n",
    "for ii in range(len(covs_list)):\n",
    "    \n",
    "    # target property\n",
    "    prop = prop_list[ii]\n",
    "    print(f'process {prop}')\n",
    "    \n",
    "    # model\n",
    "    model = joblib.load(path_list[ii])\n",
    "    namef = 'propduction.quantile.' + path_list[ii].split('/')[-1]\n",
    "    \n",
    "    # covariates\n",
    "    covs = read_features(covs_list[ii])\n",
    "    \n",
    "    # all the data\n",
    "    dff = df.dropna(subset=covs+[prop],how='any')\n",
    "    dff = dff.loc[dff[f'{prop}_qa']>5]\n",
    "    \n",
    "    # update model's n_jobs\n",
    "    params = model.get_params()\n",
    "    params['n_jobs'] = 90\n",
    "    qrf = RandomForestQuantileRegressor(**params)\n",
    "    \n",
    "    # fit the model\n",
    "    qrf.fit(dff[covs], dff[prop])\n",
    "    joblib.dump(qrf,f'/mnt/primus/xuemeng_tmp_harbour/soc/results/production_model/{namef}')\n",
    "    # shutil.copy(covs_list[ii], covs_list[ii].replace(f'results/{prop}','results/production_model'))\n",
    "    \n",
    "    # calculate stats\n",
    "    shapiro_test = shapiro(dff[prop])\n",
    "    ks_test = kstest(dff[prop], 'norm', args=(dff[prop].mean(), dff[prop].std()))\n",
    "    \n",
    "    # Determine if the data passes the normality tests\n",
    "    shapiro_pass = shapiro_test.pvalue > 0.05\n",
    "    ks_pass = ks_test.pvalue > 0.05\n",
    "\n",
    "    mean_value = dff[prop].mean()\n",
    "    p0_025 = np.percentile(dff[prop], 2.5)\n",
    "    p0_075 = np.percentile(dff[prop], 97.5)\n",
    "\n",
    "    results.append({\n",
    "            'property': prop,\n",
    "            'mean': mean_value,\n",
    "            'p025': p0_025,\n",
    "            'p975': p0_075,\n",
    "            'shapiro_test': shapiro_test,\n",
    "            'ks_test': ks_test,\n",
    "            'shapiro_pass': shapiro_pass,\n",
    "            'ks_pass': ks_pass\n",
    "\n",
    "        })"
   ]
  },
  {
   "cell_type": "code",
   "execution_count": 9,
   "id": "a37580cd-dd3f-413f-9c5a-9d7176bcff94",
   "metadata": {
    "tags": []
   },
   "outputs": [
    {
     "name": "stdout",
     "output_type": "stream",
     "text": [
      "process oc\n"
     ]
    },
    {
     "name": "stderr",
     "output_type": "stream",
     "text": [
      "/opt/conda/lib/python3.8/site-packages/scipy/stats/_morestats.py:1800: UserWarning: p-value may not be accurate for N > 5000.\n",
      "  warnings.warn(\"p-value may not be accurate for N > 5000.\")\n"
     ]
    },
    {
     "name": "stdout",
     "output_type": "stream",
     "text": [
      "process ph_h2o\n"
     ]
    },
    {
     "name": "stderr",
     "output_type": "stream",
     "text": [
      "/opt/conda/lib/python3.8/site-packages/scipy/stats/_morestats.py:1800: UserWarning: p-value may not be accurate for N > 5000.\n",
      "  warnings.warn(\"p-value may not be accurate for N > 5000.\")\n"
     ]
    },
    {
     "name": "stdout",
     "output_type": "stream",
     "text": [
      "process ph_cacl2\n"
     ]
    },
    {
     "name": "stderr",
     "output_type": "stream",
     "text": [
      "/opt/conda/lib/python3.8/site-packages/scipy/stats/_morestats.py:1800: UserWarning: p-value may not be accurate for N > 5000.\n",
      "  warnings.warn(\"p-value may not be accurate for N > 5000.\")\n",
      "/opt/conda/lib/python3.8/site-packages/scipy/stats/_morestats.py:1800: UserWarning: p-value may not be accurate for N > 5000.\n",
      "  warnings.warn(\"p-value may not be accurate for N > 5000.\")\n"
     ]
    },
    {
     "name": "stdout",
     "output_type": "stream",
     "text": [
      "process bulk_density\n",
      "process caco3\n"
     ]
    },
    {
     "name": "stderr",
     "output_type": "stream",
     "text": [
      "/opt/conda/lib/python3.8/site-packages/scipy/stats/_morestats.py:1800: UserWarning: p-value may not be accurate for N > 5000.\n",
      "  warnings.warn(\"p-value may not be accurate for N > 5000.\")\n",
      "/opt/conda/lib/python3.8/site-packages/scipy/stats/_morestats.py:1800: UserWarning: p-value may not be accurate for N > 5000.\n",
      "  warnings.warn(\"p-value may not be accurate for N > 5000.\")\n"
     ]
    },
    {
     "name": "stdout",
     "output_type": "stream",
     "text": [
      "process CEC\n",
      "process EC\n"
     ]
    },
    {
     "name": "stderr",
     "output_type": "stream",
     "text": [
      "/opt/conda/lib/python3.8/site-packages/scipy/stats/_morestats.py:1800: UserWarning: p-value may not be accurate for N > 5000.\n",
      "  warnings.warn(\"p-value may not be accurate for N > 5000.\")\n"
     ]
    },
    {
     "name": "stdout",
     "output_type": "stream",
     "text": [
      "process P\n"
     ]
    },
    {
     "name": "stderr",
     "output_type": "stream",
     "text": [
      "/opt/conda/lib/python3.8/site-packages/scipy/stats/_morestats.py:1800: UserWarning: p-value may not be accurate for N > 5000.\n",
      "  warnings.warn(\"p-value may not be accurate for N > 5000.\")\n"
     ]
    },
    {
     "name": "stdout",
     "output_type": "stream",
     "text": [
      "process K\n"
     ]
    },
    {
     "name": "stderr",
     "output_type": "stream",
     "text": [
      "/opt/conda/lib/python3.8/site-packages/scipy/stats/_morestats.py:1800: UserWarning: p-value may not be accurate for N > 5000.\n",
      "  warnings.warn(\"p-value may not be accurate for N > 5000.\")\n"
     ]
    },
    {
     "name": "stdout",
     "output_type": "stream",
     "text": [
      "process N\n"
     ]
    },
    {
     "name": "stderr",
     "output_type": "stream",
     "text": [
      "/opt/conda/lib/python3.8/site-packages/scipy/stats/_morestats.py:1800: UserWarning: p-value may not be accurate for N > 5000.\n",
      "  warnings.warn(\"p-value may not be accurate for N > 5000.\")\n"
     ]
    }
   ],
   "source": [
    "import shutil\n",
    "from scipy.stats import norm, shapiro, kstest\n",
    "\n",
    "n_jobs=90\n",
    "for ii in range(len(covs_list)):\n",
    "    \n",
    "    # target property\n",
    "    prop = prop_list[ii]\n",
    "    print(f'process {prop}')\n",
    "    # all the data\n",
    "    dff = df.dropna(subset=covs+[prop],how='any')\n",
    "    dff = dff.loc[dff[f'{prop}_qa']>5]\n",
    "    dff[prop + '_log1p'] = np.log1p(dff[prop])\n",
    "    prop = prop + '_log1p'\n",
    "    \n",
    "    # calculate stats\n",
    "    shapiro_test = shapiro(dff[prop])\n",
    "    ks_test = kstest(dff[prop], 'norm', args=(dff[prop].mean(), dff[prop].std()))\n",
    "    \n",
    "    # Determine if the data passes the normality tests\n",
    "    shapiro_pass = shapiro_test.pvalue > 0.05\n",
    "    ks_pass = ks_test.pvalue > 0.05\n",
    "\n",
    "    mean_value = dff[prop].mean()\n",
    "    p0_025 = np.percentile(dff[prop], 2.5)\n",
    "    p0_075 = np.percentile(dff[prop], 97.5)\n",
    "\n",
    "    results.append({\n",
    "            'property': prop,\n",
    "            'mean': mean_value,\n",
    "            'p025': p0_025,\n",
    "            'p975': p0_075,\n",
    "            'shapiro_test': shapiro_test,\n",
    "            'ks_test': ks_test,\n",
    "            'shapiro_pass': shapiro_pass,\n",
    "            'ks_pass': ks_pass\n",
    "\n",
    "        })"
   ]
  },
  {
   "cell_type": "code",
   "execution_count": 11,
   "id": "ea2f9478-8065-4cc8-9139-65dfec8b9f1a",
   "metadata": {
    "tags": []
   },
   "outputs": [],
   "source": [
    "results = pd.DataFrame(results)\n",
    "# results.to_csv('',index=False)\n",
    "results.to_csv(f'{output_folder}/benchmark_normal.test.csv',index=False)"
   ]
  },
  {
   "cell_type": "code",
   "execution_count": 12,
   "id": "2129919a-6a47-4f9e-950b-257b6f9f5ba4",
   "metadata": {
    "tags": []
   },
   "outputs": [
    {
     "data": {
      "text/html": [
       "<div>\n",
       "<style scoped>\n",
       "    .dataframe tbody tr th:only-of-type {\n",
       "        vertical-align: middle;\n",
       "    }\n",
       "\n",
       "    .dataframe tbody tr th {\n",
       "        vertical-align: top;\n",
       "    }\n",
       "\n",
       "    .dataframe thead th {\n",
       "        text-align: right;\n",
       "    }\n",
       "</style>\n",
       "<table border=\"1\" class=\"dataframe\">\n",
       "  <thead>\n",
       "    <tr style=\"text-align: right;\">\n",
       "      <th></th>\n",
       "      <th>property</th>\n",
       "      <th>mean</th>\n",
       "      <th>p025</th>\n",
       "      <th>p975</th>\n",
       "      <th>shapiro_test</th>\n",
       "      <th>ks_test</th>\n",
       "      <th>shapiro_pass</th>\n",
       "      <th>ks_pass</th>\n",
       "    </tr>\n",
       "  </thead>\n",
       "  <tbody>\n",
       "    <tr>\n",
       "      <th>0</th>\n",
       "      <td>oc</td>\n",
       "      <td>42.943196</td>\n",
       "      <td>1.379860</td>\n",
       "      <td>344.320000</td>\n",
       "      <td>(0.46182781457901, 0.0)</td>\n",
       "      <td>(0.29452477363592877, 0.0)</td>\n",
       "      <td>False</td>\n",
       "      <td>False</td>\n",
       "    </tr>\n",
       "    <tr>\n",
       "      <th>1</th>\n",
       "      <td>ph_h2o</td>\n",
       "      <td>6.270665</td>\n",
       "      <td>4.010000</td>\n",
       "      <td>8.240000</td>\n",
       "      <td>(0.9653780460357666, 0.0)</td>\n",
       "      <td>(0.06738574382254414, 0.0)</td>\n",
       "      <td>False</td>\n",
       "      <td>False</td>\n",
       "    </tr>\n",
       "    <tr>\n",
       "      <th>2</th>\n",
       "      <td>ph_cacl2</td>\n",
       "      <td>5.782887</td>\n",
       "      <td>3.300000</td>\n",
       "      <td>7.620000</td>\n",
       "      <td>(0.9478154182434082, 0.0)</td>\n",
       "      <td>(0.0936653389437958, 0.0)</td>\n",
       "      <td>False</td>\n",
       "      <td>False</td>\n",
       "    </tr>\n",
       "    <tr>\n",
       "      <th>3</th>\n",
       "      <td>bulk_density</td>\n",
       "      <td>1.233236</td>\n",
       "      <td>0.192000</td>\n",
       "      <td>1.760000</td>\n",
       "      <td>(0.844904899597168, 0.0)</td>\n",
       "      <td>(0.08737098632105922, 1.7556096334484177e-223)</td>\n",
       "      <td>False</td>\n",
       "      <td>False</td>\n",
       "    </tr>\n",
       "    <tr>\n",
       "      <th>4</th>\n",
       "      <td>caco3</td>\n",
       "      <td>58.187248</td>\n",
       "      <td>0.000000</td>\n",
       "      <td>500.000000</td>\n",
       "      <td>(0.504503607749939, 0.0)</td>\n",
       "      <td>(0.3609496912643789, 0.0)</td>\n",
       "      <td>False</td>\n",
       "      <td>False</td>\n",
       "    </tr>\n",
       "    <tr>\n",
       "      <th>5</th>\n",
       "      <td>CEC</td>\n",
       "      <td>17.482873</td>\n",
       "      <td>2.000000</td>\n",
       "      <td>52.400000</td>\n",
       "      <td>(0.5173435211181641, 0.0)</td>\n",
       "      <td>(0.19382153236456479, 0.0)</td>\n",
       "      <td>False</td>\n",
       "      <td>False</td>\n",
       "    </tr>\n",
       "    <tr>\n",
       "      <th>6</th>\n",
       "      <td>EC</td>\n",
       "      <td>20.827214</td>\n",
       "      <td>2.150000</td>\n",
       "      <td>84.400000</td>\n",
       "      <td>(0.2369210124015808, 0.0)</td>\n",
       "      <td>(0.3457942425383249, 0.0)</td>\n",
       "      <td>False</td>\n",
       "      <td>False</td>\n",
       "    </tr>\n",
       "    <tr>\n",
       "      <th>7</th>\n",
       "      <td>P</td>\n",
       "      <td>30.308359</td>\n",
       "      <td>0.000000</td>\n",
       "      <td>103.500000</td>\n",
       "      <td>(0.7042587399482727, 0.0)</td>\n",
       "      <td>(0.1671502642562176, 0.0)</td>\n",
       "      <td>False</td>\n",
       "      <td>False</td>\n",
       "    </tr>\n",
       "    <tr>\n",
       "      <th>8</th>\n",
       "      <td>K</td>\n",
       "      <td>191.651756</td>\n",
       "      <td>21.000000</td>\n",
       "      <td>654.930000</td>\n",
       "      <td>(0.5755832195281982, 0.0)</td>\n",
       "      <td>(0.1915421587761711, 0.0)</td>\n",
       "      <td>False</td>\n",
       "      <td>False</td>\n",
       "    </tr>\n",
       "    <tr>\n",
       "      <th>9</th>\n",
       "      <td>N</td>\n",
       "      <td>6.934759</td>\n",
       "      <td>0.150000</td>\n",
       "      <td>28.460000</td>\n",
       "      <td>(0.17883485555648804, 0.0)</td>\n",
       "      <td>(0.41060429608228305, 0.0)</td>\n",
       "      <td>False</td>\n",
       "      <td>False</td>\n",
       "    </tr>\n",
       "    <tr>\n",
       "      <th>10</th>\n",
       "      <td>oc_log1p</td>\n",
       "      <td>3.080293</td>\n",
       "      <td>0.862890</td>\n",
       "      <td>5.846734</td>\n",
       "      <td>(0.978067934513092, 0.0)</td>\n",
       "      <td>(0.052513300529026585, 5.315570113993343e-248)</td>\n",
       "      <td>False</td>\n",
       "      <td>False</td>\n",
       "    </tr>\n",
       "    <tr>\n",
       "      <th>11</th>\n",
       "      <td>ph_h2o_log1p</td>\n",
       "      <td>1.967911</td>\n",
       "      <td>1.611436</td>\n",
       "      <td>2.223542</td>\n",
       "      <td>(0.9572665095329285, 0.0)</td>\n",
       "      <td>(0.07222032091504982, 0.0)</td>\n",
       "      <td>False</td>\n",
       "      <td>False</td>\n",
       "    </tr>\n",
       "    <tr>\n",
       "      <th>12</th>\n",
       "      <td>ph_cacl2_log1p</td>\n",
       "      <td>1.893671</td>\n",
       "      <td>1.458615</td>\n",
       "      <td>2.154085</td>\n",
       "      <td>(0.9353171586990356, 0.0)</td>\n",
       "      <td>(0.09441532724944901, 0.0)</td>\n",
       "      <td>False</td>\n",
       "      <td>False</td>\n",
       "    </tr>\n",
       "    <tr>\n",
       "      <th>13</th>\n",
       "      <td>bulk_density_log1p</td>\n",
       "      <td>0.784784</td>\n",
       "      <td>0.175633</td>\n",
       "      <td>1.015231</td>\n",
       "      <td>(0.8642098903656006, 0.0)</td>\n",
       "      <td>(0.11817477711632052, 0.0)</td>\n",
       "      <td>False</td>\n",
       "      <td>False</td>\n",
       "    </tr>\n",
       "    <tr>\n",
       "      <th>14</th>\n",
       "      <td>caco3_log1p</td>\n",
       "      <td>1.710125</td>\n",
       "      <td>0.000000</td>\n",
       "      <td>6.216606</td>\n",
       "      <td>(0.7762860655784607, 0.0)</td>\n",
       "      <td>(0.2656507883416633, 0.0)</td>\n",
       "      <td>False</td>\n",
       "      <td>False</td>\n",
       "    </tr>\n",
       "    <tr>\n",
       "      <th>15</th>\n",
       "      <td>CEC_log1p</td>\n",
       "      <td>2.638330</td>\n",
       "      <td>1.098612</td>\n",
       "      <td>3.979682</td>\n",
       "      <td>(0.9934307336807251, 8.734183516157738e-31)</td>\n",
       "      <td>(0.02110538486173963, 1.8571645113792834e-09)</td>\n",
       "      <td>False</td>\n",
       "      <td>False</td>\n",
       "    </tr>\n",
       "    <tr>\n",
       "      <th>16</th>\n",
       "      <td>EC_log1p</td>\n",
       "      <td>2.604708</td>\n",
       "      <td>1.150572</td>\n",
       "      <td>4.447346</td>\n",
       "      <td>(0.9747495055198669, 0.0)</td>\n",
       "      <td>(0.04090835679397942, 5.665844503229347e-84)</td>\n",
       "      <td>False</td>\n",
       "      <td>False</td>\n",
       "    </tr>\n",
       "    <tr>\n",
       "      <th>17</th>\n",
       "      <td>P_log1p</td>\n",
       "      <td>2.981294</td>\n",
       "      <td>0.000000</td>\n",
       "      <td>4.648661</td>\n",
       "      <td>(0.9225192070007324, 0.0)</td>\n",
       "      <td>(0.08724550852300766, 0.0)</td>\n",
       "      <td>False</td>\n",
       "      <td>False</td>\n",
       "    </tr>\n",
       "    <tr>\n",
       "      <th>18</th>\n",
       "      <td>K_log1p</td>\n",
       "      <td>4.897412</td>\n",
       "      <td>3.095125</td>\n",
       "      <td>6.487924</td>\n",
       "      <td>(0.9771199822425842, 0.0)</td>\n",
       "      <td>(0.02675602535949012, 1.803172511677858e-45)</td>\n",
       "      <td>False</td>\n",
       "      <td>False</td>\n",
       "    </tr>\n",
       "    <tr>\n",
       "      <th>19</th>\n",
       "      <td>N_log1p</td>\n",
       "      <td>1.183484</td>\n",
       "      <td>0.139762</td>\n",
       "      <td>3.383033</td>\n",
       "      <td>(0.7776215672492981, 0.0)</td>\n",
       "      <td>(0.15471433245658994, 0.0)</td>\n",
       "      <td>False</td>\n",
       "      <td>False</td>\n",
       "    </tr>\n",
       "  </tbody>\n",
       "</table>\n",
       "</div>"
      ],
      "text/plain": [
       "              property        mean       p025        p975  \\\n",
       "0                   oc   42.943196   1.379860  344.320000   \n",
       "1               ph_h2o    6.270665   4.010000    8.240000   \n",
       "2             ph_cacl2    5.782887   3.300000    7.620000   \n",
       "3         bulk_density    1.233236   0.192000    1.760000   \n",
       "4                caco3   58.187248   0.000000  500.000000   \n",
       "5                  CEC   17.482873   2.000000   52.400000   \n",
       "6                   EC   20.827214   2.150000   84.400000   \n",
       "7                    P   30.308359   0.000000  103.500000   \n",
       "8                    K  191.651756  21.000000  654.930000   \n",
       "9                    N    6.934759   0.150000   28.460000   \n",
       "10            oc_log1p    3.080293   0.862890    5.846734   \n",
       "11        ph_h2o_log1p    1.967911   1.611436    2.223542   \n",
       "12      ph_cacl2_log1p    1.893671   1.458615    2.154085   \n",
       "13  bulk_density_log1p    0.784784   0.175633    1.015231   \n",
       "14         caco3_log1p    1.710125   0.000000    6.216606   \n",
       "15           CEC_log1p    2.638330   1.098612    3.979682   \n",
       "16            EC_log1p    2.604708   1.150572    4.447346   \n",
       "17             P_log1p    2.981294   0.000000    4.648661   \n",
       "18             K_log1p    4.897412   3.095125    6.487924   \n",
       "19             N_log1p    1.183484   0.139762    3.383033   \n",
       "\n",
       "                                   shapiro_test  \\\n",
       "0                       (0.46182781457901, 0.0)   \n",
       "1                     (0.9653780460357666, 0.0)   \n",
       "2                     (0.9478154182434082, 0.0)   \n",
       "3                      (0.844904899597168, 0.0)   \n",
       "4                      (0.504503607749939, 0.0)   \n",
       "5                     (0.5173435211181641, 0.0)   \n",
       "6                     (0.2369210124015808, 0.0)   \n",
       "7                     (0.7042587399482727, 0.0)   \n",
       "8                     (0.5755832195281982, 0.0)   \n",
       "9                    (0.17883485555648804, 0.0)   \n",
       "10                     (0.978067934513092, 0.0)   \n",
       "11                    (0.9572665095329285, 0.0)   \n",
       "12                    (0.9353171586990356, 0.0)   \n",
       "13                    (0.8642098903656006, 0.0)   \n",
       "14                    (0.7762860655784607, 0.0)   \n",
       "15  (0.9934307336807251, 8.734183516157738e-31)   \n",
       "16                    (0.9747495055198669, 0.0)   \n",
       "17                    (0.9225192070007324, 0.0)   \n",
       "18                    (0.9771199822425842, 0.0)   \n",
       "19                    (0.7776215672492981, 0.0)   \n",
       "\n",
       "                                           ks_test  shapiro_pass  ks_pass  \n",
       "0                       (0.29452477363592877, 0.0)         False    False  \n",
       "1                       (0.06738574382254414, 0.0)         False    False  \n",
       "2                        (0.0936653389437958, 0.0)         False    False  \n",
       "3   (0.08737098632105922, 1.7556096334484177e-223)         False    False  \n",
       "4                        (0.3609496912643789, 0.0)         False    False  \n",
       "5                       (0.19382153236456479, 0.0)         False    False  \n",
       "6                        (0.3457942425383249, 0.0)         False    False  \n",
       "7                        (0.1671502642562176, 0.0)         False    False  \n",
       "8                        (0.1915421587761711, 0.0)         False    False  \n",
       "9                       (0.41060429608228305, 0.0)         False    False  \n",
       "10  (0.052513300529026585, 5.315570113993343e-248)         False    False  \n",
       "11                      (0.07222032091504982, 0.0)         False    False  \n",
       "12                      (0.09441532724944901, 0.0)         False    False  \n",
       "13                      (0.11817477711632052, 0.0)         False    False  \n",
       "14                       (0.2656507883416633, 0.0)         False    False  \n",
       "15   (0.02110538486173963, 1.8571645113792834e-09)         False    False  \n",
       "16    (0.04090835679397942, 5.665844503229347e-84)         False    False  \n",
       "17                      (0.08724550852300766, 0.0)         False    False  \n",
       "18    (0.02675602535949012, 1.803172511677858e-45)         False    False  \n",
       "19                      (0.15471433245658994, 0.0)         False    False  "
      ]
     },
     "execution_count": 12,
     "metadata": {},
     "output_type": "execute_result"
    }
   ],
   "source": [
    "\n",
    "results"
   ]
  },
  {
   "cell_type": "code",
   "execution_count": null,
   "id": "e0c3369a-2e52-46fc-ae31-f7b3da6c0856",
   "metadata": {},
   "outputs": [],
   "source": []
  },
  {
   "cell_type": "code",
   "execution_count": 16,
   "id": "07f6ec9a-bce3-431f-afb7-8abadf13881d",
   "metadata": {},
   "outputs": [],
   "source": [
    "dff = df.loc[df['oc_qa']>5]"
   ]
  },
  {
   "cell_type": "code",
   "execution_count": 17,
   "id": "5d6046ad-d6f1-4af2-a4a4-7a8394aa12bc",
   "metadata": {},
   "outputs": [
    {
     "data": {
      "text/plain": [
       "<Axes: >"
      ]
     },
     "execution_count": 17,
     "metadata": {},
     "output_type": "execute_result"
    },
    {
     "data": {
      "image/png": "[encoded data removed]",
      "text/plain": [
       "<Figure size 640x480 with 1 Axes>"
      ]
     },
     "metadata": {},
     "output_type": "display_data"
    }
   ],
   "source": [
    "dff['oc'].hist(bins=100)"
   ]
  },
  {
   "cell_type": "code",
   "execution_count": 18,
   "id": "a5ab4127-4ad9-494c-821f-850bc0e29638",
   "metadata": {
    "tags": []
   },
   "outputs": [
    {
     "name": "stderr",
     "output_type": "stream",
     "text": [
      "/tmp/ipykernel_429599/677896108.py:1: SettingWithCopyWarning: \n",
      "A value is trying to be set on a copy of a slice from a DataFrame.\n",
      "Try using .loc[row_indexer,col_indexer] = value instead\n",
      "\n",
      "See the caveats in the documentation: https://pandas.pydata.org/pandas-docs/stable/user_guide/indexing.html#returning-a-view-versus-a-copy\n",
      "  dff['oc_log1p'] = np.log1p(dff['oc'])\n"
     ]
    },
    {
     "data": {
      "text/plain": [
       "<Axes: >"
      ]
     },
     "execution_count": 18,
     "metadata": {},
     "output_type": "execute_result"
    },
    {
     "data": {
      "image/png": "[encoded data removed]",
      "text/plain": [
       "<Figure size 640x480 with 1 Axes>"
      ]
     },
     "metadata": {},
     "output_type": "display_data"
    }
   ],
   "source": [
    "dff['oc_log1p'] = np.log1p(dff['oc'])\n",
    "dff['oc_log1p'].hist(bins=100)"
   ]
  },
  {
   "cell_type": "markdown",
   "id": "ba812c81-a22f-494f-8ca8-8166c4c1222a",
   "metadata": {},
   "source": [
    "### Example of input and output"
   ]
  },
  {
   "cell_type": "code",
   "execution_count": 20,
   "id": "6d3d1681-1711-4bdf-ab24-aadc60947db4",
   "metadata": {
    "tags": []
   },
   "outputs": [],
   "source": [
    "y_pred_test = qrf.predict(test[covs], quantiles=quantiles)\n",
    "# qrf: the quantile random forest model\n",
    "# test[covs]: covariates to be predicted\n",
    "# quantiles: quantiles that we are interested"
   ]
  },
  {
   "cell_type": "code",
   "execution_count": 18,
   "id": "4a53282f-d82f-49ce-8a4d-016603b36614",
   "metadata": {
    "tags": []
   },
   "outputs": [
    {
     "data": {
      "text/plain": [
       "[0.05, 0.95]"
      ]
     },
     "execution_count": 18,
     "metadata": {},
     "output_type": "execute_result"
    }
   ],
   "source": [
    "quantiles  # we are interested in quantile 0.05 and 0.95"
   ]
  },
  {
   "cell_type": "code",
   "execution_count": 15,
   "id": "a2234957-9dc9-47b8-a2a4-610348f30ecb",
   "metadata": {
    "tags": []
   },
   "outputs": [
    {
     "data": {
      "text/plain": [
       "(4541, 23)"
      ]
     },
     "execution_count": 15,
     "metadata": {},
     "output_type": "execute_result"
    }
   ],
   "source": [
    "test[covs].shape  \n",
    "# 4541 points to be predicted\n",
    "# 23 covariates"
   ]
  },
  {
   "cell_type": "code",
   "execution_count": 16,
   "id": "f10d5e85-0a29-4c99-b9c9-506a51d7e3b1",
   "metadata": {
    "tags": []
   },
   "outputs": [
    {
     "data": {
      "text/plain": [
       "(4541, 2)"
      ]
     },
     "execution_count": 16,
     "metadata": {},
     "output_type": "execute_result"
    }
   ],
   "source": [
    "y_pred_test.shape  \n",
    "# 4541 predicted quantiles:\n",
    "# (:,0) is for quantile 0.05\n",
    "# (:,1) is for quantile 0.95"
   ]
  },
  {
   "cell_type": "code",
   "execution_count": null,
   "id": "a6aa4c48-016f-41a2-89f0-0fc4436035eb",
   "metadata": {},
   "outputs": [],
   "source": []
  }
 ],
 "metadata": {
  "kernelspec": {
   "display_name": "Python 3 (ipykernel)",
   "language": "python",
   "name": "python3"
  },
  "language_info": {
   "codemirror_mode": {
    "name": "ipython",
    "version": 3
   },
   "file_extension": ".py",
   "mimetype": "text/x-python",
   "name": "python",
   "nbconvert_exporter": "python",
   "pygments_lexer": "ipython3",
   "version": "3.8.16"
  }
 },
 "nbformat": 4,
 "nbformat_minor": 5
}
