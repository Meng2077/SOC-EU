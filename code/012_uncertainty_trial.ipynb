{
 "cells": [
  {
   "cell_type": "code",
   "execution_count": 1,
   "id": "9507ed38-859c-4dd3-85ab-53bff354a11e",
   "metadata": {
    "tags": []
   },
   "outputs": [
    {
     "data": {
      "text/html": [
       "<style type='text/css'>\n",
       ".datatable table.frame { margin-bottom: 0; }\n",
       ".datatable table.frame thead { border-bottom: none; }\n",
       ".datatable table.frame tr.coltypes td {  color: #FFFFFF;  line-height: 6px;  padding: 0 0.5em;}\n",
       ".datatable .bool    { background: #DDDD99; }\n",
       ".datatable .object  { background: #565656; }\n",
       ".datatable .int     { background: #5D9E5D; }\n",
       ".datatable .float   { background: #4040CC; }\n",
       ".datatable .str     { background: #CC4040; }\n",
       ".datatable .row_index {  background: var(--jp-border-color3);  border-right: 1px solid var(--jp-border-color0);  color: var(--jp-ui-font-color3);  font-size: 9px;}\n",
       ".datatable .frame tr.coltypes .row_index {  background: var(--jp-border-color0);}\n",
       ".datatable th:nth-child(2) { padding-left: 12px; }\n",
       ".datatable .hellipsis {  color: var(--jp-cell-editor-border-color);}\n",
       ".datatable .vellipsis {  background: var(--jp-layout-color0);  color: var(--jp-cell-editor-border-color);}\n",
       ".datatable .na {  color: var(--jp-cell-editor-border-color);  font-size: 80%;}\n",
       ".datatable .footer { font-size: 9px; }\n",
       ".datatable .frame_dimensions {  background: var(--jp-border-color3);  border-top: 1px solid var(--jp-border-color0);  color: var(--jp-ui-font-color3);  display: inline-block;  opacity: 0.6;  padding: 1px 10px 1px 5px;}\n",
       "</style>\n"
      ],
      "text/plain": [
       "<IPython.core.display.HTML object>"
      ]
     },
     "metadata": {},
     "output_type": "display_data"
    }
   ],
   "source": [
    "import numpy as np\n",
    "import matplotlib\n",
    "import matplotlib.pyplot as plt\n",
    "import pandas as pd\n",
    "from eumap.misc import find_files, ttprint, nan_percentile, GoogleSheet\n",
    "from eumap.raster import read_rasters, save_rasters\n",
    "import warnings\n",
    "import multiprocess as mp\n",
    "import time\n",
    "from scipy.special import expit, logit\n",
    "import warnings\n",
    "from sklearn.experimental import enable_halving_search_cv\n",
    "from sklearn.model_selection import train_test_split, cross_val_score, HalvingGridSearchCV, KFold, GroupKFold\n",
    "from sklearn.metrics import mean_squared_error, r2_score\n",
    "from sklearn.ensemble import RandomForestRegressor, GradientBoostingRegressor\n",
    "from sklearn.pipeline import Pipeline\n",
    "from sklearn.neural_network import MLPRegressor\n",
    "import joblib\n",
    "import pickle\n",
    "from sklearn.metrics import r2_score, mean_squared_error, make_scorer\n",
    "from scipy.stats import pearsonr\n",
    "from sklearn.preprocessing import StandardScaler\n",
    "from cubist import Cubist\n",
    "from sklearn.base import BaseEstimator, TransformerMixin\n",
    "from pathlib import Path\n",
    "import os\n",
    "from sklearn.model_selection import RandomizedSearchCV\n",
    "from scipy.stats import randint, uniform\n",
    "from sklearn.model_selection import HalvingRandomSearchCV\n",
    "from sklearn.model_selection import cross_val_predict\n",
    "import math\n",
    "from quantile_forest import RandomForestQuantileRegressor\n",
    "\n",
    "from benchmark_pipeline import read_features, quantile_cross_val_predict, calc_picp, calc_qcp\n",
    "\n",
    "from sklearn.linear_model import LinearRegression, QuantileRegressor\n",
    "from sklearn.base import BaseEstimator, RegressorMixin\n",
    "from sklearn.utils.validation import check_X_y, check_array, check_is_fitted\n",
    "from scipy.optimize import minimize\n",
    "import lightgbm as lgb\n",
    "\n",
    "# df = pd.read_csv(f'/mnt/primus/xuemeng_tmp_harbour/soc/data/002_data_whole.csv',low_memory=False)\n",
    "output_folder = f'/home/opengeohub/xuemeng/work_xuemeng/soc/results'\n"
   ]
  },
  {
   "cell_type": "code",
   "execution_count": 2,
   "id": "9f38991d-f03f-414f-9668-ebee35db49a8",
   "metadata": {
    "tags": []
   },
   "outputs": [],
   "source": [
    "class QRPP_RF(BaseEstimator, RegressorMixin):\n",
    "    def __init__(self, rf_model=None, rf_params=None, quantiles=[0.05, 0.95], n_jobs=90, nmodel = 'lgbm', refit=True):\n",
    "        if rf_model is not None:\n",
    "            self.rf_model = rf_model\n",
    "            self.rf_params = rf_model.get_params()\n",
    "        else:\n",
    "            self.rf_params = rf_params if rf_params is not None else {}\n",
    "            self.rf_params.update({'n_jobs': n_jobs})\n",
    "            self.rf_model = RandomForestRegressor(**self.rf_params)\n",
    "        \n",
    "        self.quantiles = quantiles\n",
    "        self.n_jobs = n_jobs\n",
    "        self.refit = refit\n",
    "        self.qr_models = {}\n",
    "        common_params = {'n_estimators': 100, 'max_depth': 3, 'learning_rate': 0.1, 'n_jobs': n_jobs, 'verbose':-1}\n",
    "        for q in self.quantiles:\n",
    "            self.qr_models[q] = lgb.LGBMRegressor(objective='quantile', alpha=q, **common_params)\n",
    "        # common_params = {'n_estimators': 100, 'max_depth': 3, 'min_samples_split': 2, 'learning_rate': 0.1, 'loss': 'quantile'}\n",
    "        # for q in self.quantiles:\n",
    "        #     self.qr_models[q] = GradientBoostingRegressor(loss='quantile', alpha=q, **common_params)\n",
    "\n",
    "    def fit(self, X, y):\n",
    "        # Check that X and y have correct shape\n",
    "        X, y = check_X_y(X, y)\n",
    "        \n",
    "        # Fit the Random Forest model if not pre-fitted\n",
    "        if self.refit:\n",
    "            self.rf_model.fit(X, y)\n",
    "        \n",
    "        # Get point predictions\n",
    "        point_predictions = self.rf_model.predict(X)\n",
    "        \n",
    "        # Fit LightGBM Regressors on the original data (X, y)\n",
    "        for q in self.quantiles:\n",
    "            self.qr_models[q].fit(X, y)\n",
    "        \n",
    "        self.is_fitted_ = True\n",
    "        return self\n",
    "\n",
    "    def predict(self, X, quantiles=None, return_point_predictions=False):\n",
    "        # Check if fit has been called\n",
    "        check_is_fitted(self, 'is_fitted_')\n",
    "        \n",
    "        # Input validation\n",
    "        X = check_array(X)\n",
    "        \n",
    "        # Get point predictions\n",
    "        point_predictions = self.rf_model.predict(X)\n",
    "        \n",
    "        # Predict quantiles\n",
    "        if quantiles is None:\n",
    "            quantiles = self.quantiles\n",
    "        elif isinstance(quantiles, float):\n",
    "            quantiles = [quantiles]\n",
    "            \n",
    "        predictions = np.zeros((X.shape[0], len(quantiles)))\n",
    "        \n",
    "        for i, q in enumerate(quantiles):\n",
    "            predictions[:, i] = self.qr_models[q].predict(X)\n",
    "        \n",
    "        if return_point_predictions:\n",
    "            return point_predictions, predictions\n",
    "        else:\n",
    "            return predictions"
   ]
  },
  {
   "cell_type": "code",
   "execution_count": 3,
   "id": "9a6c3afb-c8c9-428c-9f16-98cdf9fd9a8a",
   "metadata": {
    "tags": []
   },
   "outputs": [
    {
     "name": "stdout",
     "output_type": "stream",
     "text": [
      "90\n"
     ]
    }
   ],
   "source": [
    "prop = 'oc'\n",
    "\n",
    "# Find the p25 (Q1) and p75 (Q3) to calculate the interquartile range (IQR), \n",
    "# then use it to estimate the standard deviation (σ)\n",
    "quantiles = [0.25,0.75]\n",
    "cv = GroupKFold(n_splits=5)  \n",
    "spatial_cv_column = 'tile_id'\n",
    "\n",
    "test = pd.read_csv(f'{output_folder}/{prop}/benchmark_test.pnts_{prop}.csv',low_memory=False)\n",
    "train = pd.read_csv(f'{output_folder}/{prop}/benchmark_train.pnts_{prop}.csv',low_memory=False)\n",
    "\n",
    "covs = read_features(f'{output_folder}/{prop}/benchmark_selected.covs_{prop}.txt')\n",
    "\n",
    "train = train.dropna(subset=covs,how='any')\n",
    "test = test.dropna(subset=covs,how='any')\n",
    "\n",
    "train['oc_log1p'] = np.log1p(train['oc'])\n",
    "test['oc_log1p'] = np.log1p(test['oc'])\n",
    "\n",
    "tgt = 'oc_log1p'\n",
    "\n",
    "\n",
    "# for ipath in path_list:\n",
    "#     if f'/{prop}/' in ipath:\n",
    "#         file_rf = ipath\n",
    "\n",
    "# file_rf = find_files('/mnt/primus/xuemeng_tmp_harbour/soc/results/production_model/',f'propduction.quantile.model_rf.{prop}*')\n",
    "# file_rf = str(file_rf[0])\n",
    "file_rf = '/home/opengeohub/xuemeng/work_xuemeng/soc/results/oc/model_rf.oc_ccc.joblib'\n",
    "\n",
    "rf_model = joblib.load(file_rf)\n",
    "rf_model.n_jobs = 90\n",
    "# rf_model.fit(train[covs], train[tgt])\n",
    "params = rf_model.get_params()\n",
    "print(params['n_jobs'])"
   ]
  },
  {
   "cell_type": "code",
   "execution_count": 7,
   "id": "2bb4a1c3-cb41-4818-a66e-5304ae9c62b1",
   "metadata": {
    "tags": []
   },
   "outputs": [
    {
     "name": "stdout",
     "output_type": "stream",
     "text": [
      "[13:02:13] quantile, individual test, oc_log1p, qrpp-rf\n",
      "[13:02:22] quantile, spatial CV test, oc_log1p, qrpp-rf\n"
     ]
    },
    {
     "data": {
      "text/html": [
       "<div>\n",
       "<style scoped>\n",
       "    .dataframe tbody tr th:only-of-type {\n",
       "        vertical-align: middle;\n",
       "    }\n",
       "\n",
       "    .dataframe tbody tr th {\n",
       "        vertical-align: top;\n",
       "    }\n",
       "\n",
       "    .dataframe thead th {\n",
       "        text-align: right;\n",
       "    }\n",
       "</style>\n",
       "<table border=\"1\" class=\"dataframe\">\n",
       "  <thead>\n",
       "    <tr style=\"text-align: right;\">\n",
       "      <th></th>\n",
       "      <th>property</th>\n",
       "      <th>method</th>\n",
       "      <th>picp</th>\n",
       "      <th>piw</th>\n",
       "      <th>qcp05</th>\n",
       "      <th>qcp95</th>\n",
       "      <th>deviation factor</th>\n",
       "      <th>time</th>\n",
       "    </tr>\n",
       "  </thead>\n",
       "  <tbody>\n",
       "    <tr>\n",
       "      <th>0</th>\n",
       "      <td>oc_log1p</td>\n",
       "      <td>qrpp-rf, test</td>\n",
       "      <td>0.495478</td>\n",
       "      <td>0.790993</td>\n",
       "      <td>0.247739</td>\n",
       "      <td>0.743216</td>\n",
       "      <td>0.003341</td>\n",
       "      <td>0.259227</td>\n",
       "    </tr>\n",
       "    <tr>\n",
       "      <th>1</th>\n",
       "      <td>oc_log1p</td>\n",
       "      <td>qrpp-rf, cv</td>\n",
       "      <td>0.244771</td>\n",
       "      <td>0.822260</td>\n",
       "      <td>0.376049</td>\n",
       "      <td>0.620795</td>\n",
       "      <td>-0.240105</td>\n",
       "      <td>39.940944</td>\n",
       "    </tr>\n",
       "  </tbody>\n",
       "</table>\n",
       "</div>"
      ],
      "text/plain": [
       "   property         method      picp       piw     qcp05     qcp95  \\\n",
       "0  oc_log1p  qrpp-rf, test  0.495478  0.790993  0.247739  0.743216   \n",
       "1  oc_log1p    qrpp-rf, cv  0.244771  0.822260  0.376049  0.620795   \n",
       "\n",
       "   deviation factor       time  \n",
       "0          0.003341   0.259227  \n",
       "1         -0.240105  39.940944  "
      ]
     },
     "execution_count": 7,
     "metadata": {},
     "output_type": "execute_result"
    }
   ],
   "source": [
    "results = []\n",
    "\n",
    "ttprint(f'quantile, individual test, {tgt}, qrpp-rf')\n",
    "qrpp_rf = QRPP_RF(rf_model, quantiles=quantiles, n_jobs=90, refit=True)\n",
    "qrpp_rf.fit(train[covs], train[tgt])\n",
    "start_time = time.time()\n",
    "y_point_test, y_pred_test = qrpp_rf.predict(test[covs], return_point_predictions=True)\n",
    "end_time = time.time()\n",
    "test_time = (end_time - start_time)\n",
    "picp_test = calc_picp(y_pred_test[:,0], y_pred_test[:,1], test[tgt])\n",
    "qcp_test_lower = calc_qcp(y_pred_test[:,0], test[tgt], quantiles[0])\n",
    "qcp_test_upper = calc_qcp(y_pred_test[:,1], test[tgt], quantiles[1])\n",
    "piw_test = np.mean(y_pred_test[:,1]-y_pred_test[:,0])\n",
    "\n",
    "std = (y_pred_test[:,1]-y_pred_test[:,0])/1.349 # calculate std from piw\n",
    "dev_test = (y_point_test-test[tgt])/std\n",
    "dev = np.mean(dev_test)\n",
    "\n",
    "results.append({\n",
    "    'property': tgt,\n",
    "    'method': 'qrpp-rf, test',\n",
    "    'picp': picp_test,\n",
    "    'piw': piw_test,\n",
    "    'qcp05': qcp_test_lower,\n",
    "    'qcp95': qcp_test_upper,\n",
    "    'deviation factor': dev,\n",
    "    'time': test_time\n",
    "})\n",
    "\n",
    "\n",
    "ttprint(f'quantile, spatial CV test, {tgt}, qrpp-rf')\n",
    "start_time = time.time()\n",
    "y_point_cv, y_pred_cv = quantile_cross_val_predict(qrpp_rf, train[covs], train[tgt], cv, quantiles, groups=train[spatial_cv_column], return_point_predictions=True)\n",
    "end_time = time.time()\n",
    "cv_time = (end_time - start_time)\n",
    "\n",
    "\n",
    "picp_cv = calc_picp(y_pred_cv[:,0], y_pred_cv[:,1], train[tgt])  \n",
    "qcp_cv_lower = calc_qcp(y_pred_cv[:,0], train[tgt], quantiles[0])\n",
    "qcp_cv_upper = calc_qcp(y_pred_cv[:,1], train[tgt], quantiles[1])  \n",
    "piw_cv = np.mean(y_pred_cv[:,1]-y_pred_cv[:,0])\n",
    "\n",
    "std = (y_pred_cv[:,1]-y_pred_cv[:,0])/1.349 # calculate std from piw\n",
    "dev_cv = (y_point_cv-train[tgt])/std\n",
    "dev = np.mean(dev_cv)\n",
    "\n",
    "results.append({\n",
    "    'property': tgt,\n",
    "    'method': 'qrpp-rf, cv',\n",
    "    'picp': picp_cv,\n",
    "    'piw': piw_cv,\n",
    "    'qcp05': qcp_cv_lower,\n",
    "    'qcp95': qcp_cv_upper,\n",
    "    'deviation factor': dev,\n",
    "    'time': cv_time\n",
    "})\n",
    "\n",
    "results = pd.DataFrame(results)\n",
    "results"
   ]
  },
  {
   "cell_type": "code",
   "execution_count": null,
   "id": "28364434-b260-4583-babd-0d0b6b61b89c",
   "metadata": {},
   "outputs": [],
   "source": []
  },
  {
   "cell_type": "code",
   "execution_count": 14,
   "id": "96830b05-0602-49e2-8dc8-ffdcd7bb7d83",
   "metadata": {
    "tags": []
   },
   "outputs": [
    {
     "data": {
      "text/plain": [
       "<Axes: >"
      ]
     },
     "execution_count": 14,
     "metadata": {},
     "output_type": "execute_result"
    },
    {
     "data": {
      "image/png": "[encoded data removed]",
      "text/plain": [
       "<Figure size 640x480 with 1 Axes>"
      ]
     },
     "metadata": {},
     "output_type": "display_data"
    }
   ],
   "source": [
    "dev_test.hist(bins=30,range=[-15,15])"
   ]
  },
  {
   "cell_type": "code",
   "execution_count": null,
   "id": "b6294999-bf88-4eef-be1d-0244c631c359",
   "metadata": {},
   "outputs": [],
   "source": []
  },
  {
   "cell_type": "code",
   "execution_count": 1,
   "id": "77e7e271-828e-4cf5-aa3e-77d2a0433888",
   "metadata": {
    "tags": []
   },
   "outputs": [
    {
     "ename": "NameError",
     "evalue": "name 'test' is not defined",
     "output_type": "error",
     "traceback": [
      "\u001b[0;31m---------------------------------------------------------------------------\u001b[0m",
      "\u001b[0;31mNameError\u001b[0m                                 Traceback (most recent call last)",
      "Input \u001b[0;32mIn [1]\u001b[0m, in \u001b[0;36m<cell line: 55>\u001b[0;34m()\u001b[0m\n\u001b[1;32m     51\u001b[0m     ax2\u001b[38;5;241m.\u001b[39mlegend(loc\u001b[38;5;241m=\u001b[39m\u001b[38;5;124m'\u001b[39m\u001b[38;5;124mupper right\u001b[39m\u001b[38;5;124m'\u001b[39m)\n\u001b[1;32m     53\u001b[0m     plt\u001b[38;5;241m.\u001b[39mshow()\n\u001b[0;32m---> 55\u001b[0m true_values \u001b[38;5;241m=\u001b[39m \u001b[43mtest\u001b[49m[tgt]\n\u001b[1;32m     56\u001b[0m predicted_values \u001b[38;5;241m=\u001b[39m y_point_test\n\u001b[1;32m     57\u001b[0m predicted_quantiles \u001b[38;5;241m=\u001b[39m y_pred_test\n",
      "\u001b[0;31mNameError\u001b[0m: name 'test' is not defined"
     ]
    }
   ],
   "source": [
    "import matplotlib.pyplot as plt\n",
    "import numpy as np\n",
    "import seaborn as sns\n",
    "\n",
    "def plot_sorted_predictions(true_values, predicted_values, predicted_quantiles, quantiles, dev_factor):\n",
    "    \"\"\"\n",
    "    Plot true values, predicted values, and predicted quantiles after sorting by true values.\n",
    "    \n",
    "    Parameters:\n",
    "    - true_values: Array-like, true target values.\n",
    "    - predicted_values: Array-like, predicted target values (point predictions).\n",
    "    - predicted_quantiles: 2D Array-like, predicted quantiles with shape (n_samples, n_quantiles).\n",
    "    - quantiles: List of quantiles corresponding to the columns of predicted_quantiles.\n",
    "    \"\"\"\n",
    "    # Ensure inputs are numpy arrays for easier indexing and sorting\n",
    "    true_values = np.array(true_values)\n",
    "    predicted_values = np.array(predicted_values)\n",
    "    predicted_quantiles = np.array(predicted_quantiles)\n",
    "\n",
    "    # Get the indices that would sort the true values\n",
    "    sorted_indices = np.argsort(true_values)\n",
    "    \n",
    "    # Sort all inputs by the sorted indices of true values\n",
    "    sorted_true_values = true_values[sorted_indices]\n",
    "    sorted_predicted_values = predicted_values[sorted_indices]\n",
    "    sorted_predicted_quantiles = predicted_quantiles[sorted_indices]\n",
    "\n",
    "    plt.figure(figsize=(12, 6))\n",
    "    \n",
    "    # Fill the area between the quantiles\n",
    "    window_size = 30\n",
    "    lower_quantile = np.convolve(sorted_predicted_quantiles[:, 0], np.ones(window_size) / window_size, mode='same')\n",
    "    upper_quantile = np.convolve(sorted_predicted_quantiles[:, 1], np.ones(window_size) / window_size, mode='same')\n",
    "    plt.fill_between(range(len(sorted_true_values)), lower_quantile, upper_quantile, color='gray', alpha=0.3, label=f'Quantile Interval {quantiles[0]}-{quantiles[1]}')\n",
    "    \n",
    "    # Plot predicted values as scatter plot\n",
    "    plt.scatter(range(len(sorted_true_values)), sorted_predicted_values, label='Predicted Values', color='red', alpha=0.5, s=6)\n",
    "    \n",
    "    # Plot true values\n",
    "    plt.plot(sorted_true_values, label='True Values', color='blue', linewidth=2)\n",
    "   \n",
    "    plt.xlabel('Samples (sorted by true values)')\n",
    "    plt.ylabel('Values')\n",
    "    plt.title('True Values, Predicted Values, and Predicted Quantiles (Sorted)')\n",
    "    plt.legend()\n",
    "    plt.grid(True)\n",
    "    \n",
    "    ax2 = plt.gca().twinx()\n",
    "    ax2.scatter(range(len(sorted_true_values)), dev_factor, label='Deviation factor', color='green', alpha=0.5, s=6)\n",
    "    ax2.set_ylabel('Deviations')\n",
    "    ax2.legend(loc='upper right')\n",
    "    \n",
    "    plt.show()\n",
    "\n",
    "true_values = test[tgt]\n",
    "predicted_values = y_point_test\n",
    "predicted_quantiles = y_pred_test\n",
    "quantiles = [0.05, 0.95]\n",
    "\n",
    "plot_sorted_predictions(true_values, predicted_values, predicted_quantiles, quantiles,dev_test)\n",
    "# from benchmark_pipeline import accuracy_plot\n",
    "# accuracy_plot(true_values, predicted_values, 'test', '/mnt/primus/xuemeng_tmp_harbour/soc/results/SHAP', show_range=[0,8], vmax=5)"
   ]
  },
  {
   "cell_type": "code",
   "execution_count": null,
   "id": "2a904b0a-ab8d-4f0f-98c8-e089e446af75",
   "metadata": {},
   "outputs": [],
   "source": []
  },
  {
   "cell_type": "code",
   "execution_count": null,
   "id": "2fbc612b-2115-4a21-9a4e-a8c91d32dcdb",
   "metadata": {},
   "outputs": [],
   "source": []
  },
  {
   "cell_type": "code",
   "execution_count": null,
   "id": "5001979e-f83f-475e-aeda-7d19cc4bbe37",
   "metadata": {},
   "outputs": [],
   "source": []
  },
  {
   "cell_type": "code",
   "execution_count": 9,
   "id": "bbe55d4a-4073-413a-bec2-9b93e00988f7",
   "metadata": {
    "tags": []
   },
   "outputs": [
    {
     "name": "stdout",
     "output_type": "stream",
     "text": [
      "1σ bounds: -0.9998150936147444 0.9998150936147446\n",
      "2σ bounds: -1.99907721497177 1.9990772149717693\n",
      "3σ bounds: -2.9999769927033935 2.9999769927034015\n"
     ]
    }
   ],
   "source": [
    "import scipy.stats as stats\n",
    "\n",
    "# For 1 standard deviation (68.27%)\n",
    "lower_1sigma = stats.norm.ppf(0.1587)\n",
    "upper_1sigma = stats.norm.ppf(0.8413)\n",
    "\n",
    "# For 2 standard deviations (95.45%)\n",
    "lower_2sigma = stats.norm.ppf(0.0228)\n",
    "upper_2sigma = stats.norm.ppf(0.9772)\n",
    "\n",
    "# For 3 standard deviations (99.73%)\n",
    "lower_3sigma = stats.norm.ppf(0.00135)\n",
    "upper_3sigma = stats.norm.ppf(0.99865)\n",
    "\n",
    "print(\"1σ bounds:\", lower_1sigma, upper_1sigma)\n",
    "print(\"2σ bounds:\", lower_2sigma, upper_2sigma)\n",
    "print(\"3σ bounds:\", lower_3sigma, upper_3sigma)\n"
   ]
  },
  {
   "cell_type": "code",
   "execution_count": null,
   "id": "92568bde-fcc8-4bc3-b362-09b7d7d499df",
   "metadata": {},
   "outputs": [],
   "source": []
  },
  {
   "cell_type": "code",
   "execution_count": null,
   "id": "44059ec3-31ae-41f3-bfa7-1d9b4d132bb3",
   "metadata": {},
   "outputs": [],
   "source": []
  },
  {
   "cell_type": "code",
   "execution_count": null,
   "id": "206c08db-c3a5-438b-ada4-777b71c910c5",
   "metadata": {},
   "outputs": [],
   "source": []
  },
  {
   "cell_type": "code",
   "execution_count": null,
   "id": "c6551ca1-52f4-4082-96cc-c81fb67dc463",
   "metadata": {},
   "outputs": [],
   "source": []
  },
  {
   "cell_type": "markdown",
   "id": "a97fbe10-c2d5-4aec-bb0a-fd96f8641e8e",
   "metadata": {},
   "source": [
    "### compare 4 methods in quantifying uncertainty"
   ]
  },
  {
   "cell_type": "code",
   "execution_count": 3,
   "id": "6f0c9fa5-2737-4928-b01b-f68b0aac69e1",
   "metadata": {
    "tags": []
   },
   "outputs": [],
   "source": [
    "# a = find_files('/mnt/primus/xuemeng_tmp_harbour/soc/results/', 'model_rf.*.ccc.joblib')\n",
    "# a = [str(i) for i in a]\n",
    "best_dfff = pd.read_csv('/mnt/primus/xuemeng_tmp_harbour/soc/results/benchmark_metrics_predictions.csv',low_memory=False)\n",
    "\n",
    "prop_list = ['oc','ph_h2o','ph_cacl2','bulk_density','caco3','CEC','EC','P','K','N']\n",
    "path_list = []\n",
    "covs_list = []\n",
    "for prop in prop_list:\n",
    "    covs_list.append(f'/mnt/primus/xuemeng_tmp_harbour/soc/results/{prop}/benchmark_selected.covs_{prop}.txt')\n",
    "    \n",
    "    a = find_files(f'/mnt/primus/xuemeng_tmp_harbour/soc/results/{prop}/','*model*joblib')\n",
    "    a = [str(i) for i in a]\n",
    "    model_t = best_dfff.loc[best_dfff['property']==prop,'title'].values[0]\n",
    "    \n",
    "    if 'weighted' in model_t:\n",
    "        model_t = model_t.split('_')[0]\n",
    "        a = [ii for ii in a if 'weighted' in ii]\n",
    "    else:\n",
    "        a = [ii for ii in a if 'weighted' not in ii]\n",
    "\n",
    "    for ia in a:\n",
    "        if model_t in ia:\n",
    "            path_list.append(ia)"
   ]
  },
  {
   "cell_type": "code",
   "execution_count": 4,
   "id": "cfcb6720-fc44-4d4f-a5bd-e26826f3dc1a",
   "metadata": {
    "tags": []
   },
   "outputs": [
    {
     "data": {
      "text/plain": [
       "['/mnt/primus/xuemeng_tmp_harbour/soc/results/oc/model_rf.oc_log1p.ccc.weighted.joblib',\n",
       " '/mnt/primus/xuemeng_tmp_harbour/soc/results/ph_h2o/model_rf.ph_h2o_normal.ccc.joblib',\n",
       " '/mnt/primus/xuemeng_tmp_harbour/soc/results/ph_cacl2/model_rf.ph_cacl2_normal.ccc.joblib',\n",
       " '/mnt/primus/xuemeng_tmp_harbour/soc/results/bulk_density/model_rf.bulk_density_normal.ccc.joblib',\n",
       " '/mnt/primus/xuemeng_tmp_harbour/soc/results/caco3/model_rf.caco3_log1p.ccc.joblib',\n",
       " '/mnt/primus/xuemeng_tmp_harbour/soc/results/CEC/model_rf.CEC_log1p.ccc.weighted.joblib',\n",
       " '/mnt/primus/xuemeng_tmp_harbour/soc/results/EC/model_rf.EC_log1p.ccc.joblib',\n",
       " '/mnt/primus/xuemeng_tmp_harbour/soc/results/P/model_rf.P_log1p.ccc.weighted.joblib',\n",
       " '/mnt/primus/xuemeng_tmp_harbour/soc/results/K/model_rf.K_log1p.ccc.joblib',\n",
       " '/mnt/primus/xuemeng_tmp_harbour/soc/results/N/model_rf.N_log1p.ccc.joblib']"
      ]
     },
     "execution_count": 4,
     "metadata": {},
     "output_type": "execute_result"
    }
   ],
   "source": [
    "path_list"
   ]
  },
  {
   "cell_type": "code",
   "execution_count": 22,
   "id": "13bf4e34-cbfa-4636-ace3-e3cc66154039",
   "metadata": {
    "tags": []
   },
   "outputs": [
    {
     "name": "stdout",
     "output_type": "stream",
     "text": [
      "90\n",
      "[10:13:56] quantile, cv, oc\n",
      "[10:13:56] quantile, individual test, oc, QRF\n",
      "[10:15:01] quantile, individual test, oc, qrpp-rf\n",
      "[10:15:03] quantile, individual test, oc, mapie\n",
      "[10:15:04] quantile, individual test, oc, puncc\n"
     ]
    }
   ],
   "source": [
    "\n",
    "from deel.puncc.api.prediction import BasePredictor\n",
    "from deel.puncc.regression import SplitCP\n",
    "from mapie.regression import MapieRegressor\n",
    "\n",
    "\n",
    "quantiles = [0.05,0.95]\n",
    "results = []\n",
    "cv = GroupKFold(n_splits=5)  \n",
    "spatial_cv_column = 'tile_id'\n",
    "\n",
    "import warnings\n",
    "warnings.filterwarnings('ignore', message=\"X has feature names, but RandomForestQuantileRegressor was fitted without feature names\")\n",
    "\n",
    "for prop in ['oc']: #prop_list:\n",
    "    test = pd.read_csv(f'{output_folder}/{prop}/benchmark_test.pnts_{prop}.csv',low_memory=False)\n",
    "    train = pd.read_csv(f'{output_folder}/{prop}/benchmark_train.pnts_{prop}.csv',low_memory=False)\n",
    "\n",
    "    covs = read_features(f'{output_folder}/{prop}/benchmark_selected.covs_{prop}.txt')\n",
    "    \n",
    "    train = train.dropna(subset=covs,how='any')\n",
    "    test = test.dropna(subset=covs,how='any')\n",
    "    \n",
    "    # for ipath in path_list:\n",
    "    #     if f'/{prop}/' in ipath:\n",
    "    #         file_rf = ipath\n",
    "            \n",
    "    file_rf = find_files('/mnt/primus/xuemeng_tmp_harbour/soc/results/production_model/',f'propduction.quantile.model_rf.{prop}*')\n",
    "    file_rf = str(file_rf[0])\n",
    "    \n",
    "    rf_model = joblib.load(file_rf)\n",
    "    rf_model.n_jobs = 90\n",
    "    params = rf_model.get_params()\n",
    "    print(params['n_jobs'])\n",
    "    # params['n_jobs'] = 90\n",
    "    qrf = RandomForestQuantileRegressor(**params)\n",
    "    \n",
    "    ttprint(f'quantile, cv, {prop}')\n",
    "#     # cv valiadate\n",
    "#     # y_pred_cv_rf = cross_val_predict(rf_model, train[covs], train[prop], cv=cv, n_jobs=-1)\n",
    "#     start_time = time.time()\n",
    "#     predictions = quantile_cross_val_predict(qrf, train[covs], train[prop], cv, quantiles, groups = train[spatial_cv_column])\n",
    "#     end_time = time.time()\n",
    "#     cv_time = (end_time - start_time)\n",
    "#     picp_cv = calc_picp(np.array(predictions[quantiles[0]]), np.array(predictions[quantiles[1]]), train[prop])  \n",
    "#     qcp_cv_lower = calc_qcp(np.array(predictions[quantiles[0]]), train[prop], quantiles[0])\n",
    "#     qcp_cv_upper = calc_qcp(np.array(predictions[quantiles[1]]), train[prop], quantiles[1])  \n",
    "#     piw_cv = np.mean(np.array(predictions[quantiles[1]])-np.array(predictions[quantiles[0]]))\n",
    "    \n",
    "    \n",
    "    # individual test data\n",
    "    ttprint(f'quantile, individual test, {prop}, QRF')\n",
    "    qrf.fit(train[covs], train[prop])\n",
    "    start_time = time.time()\n",
    "    y_pred_test = qrf.predict(test[covs], quantiles=quantiles)\n",
    "    end_time = time.time()\n",
    "    test_time = (end_time - start_time)\n",
    "    picp_test = calc_picp(y_pred_test[:,0], y_pred_test[:,1], test[prop])\n",
    "    qcp_test_lower = calc_qcp(y_pred_test[:,0], test[prop], quantiles[0])\n",
    "    qcp_test_upper = calc_qcp(y_pred_test[:,1], test[prop], quantiles[1])\n",
    "    piw_test = np.mean(y_pred_test[:,1]-y_pred_test[:,0])\n",
    "    \n",
    "    results.append({\n",
    "        'property': prop,\n",
    "        'method': 'qrf',\n",
    "        'picp_val': picp_test,\n",
    "        'piw_val': piw_test,\n",
    "        'qcp05_val': qcp_test_lower,\n",
    "        'qcp95_val': qcp_test_upper,\n",
    "        'time_val': test_time\n",
    "    })\n",
    "    \n",
    "    ttprint(f'quantile, individual test, {prop}, qrpp-rf')\n",
    "    qrpp_rf = QRPP_RF(rf_model, quantiles=[0.05, 0.95], n_jobs=90)\n",
    "    qrpp_rf.fit(train[covs], train[prop])\n",
    "    start_time = time.time()\n",
    "    y_pred_test = qrpp_rf.predict(test[covs])\n",
    "    end_time = time.time()\n",
    "    test_time = (end_time - start_time)\n",
    "    picp_test = calc_picp(y_pred_test[:,0], y_pred_test[:,1], test[prop])\n",
    "    qcp_test_lower = calc_qcp(y_pred_test[:,0], test[prop], quantiles[0])\n",
    "    qcp_test_upper = calc_qcp(y_pred_test[:,1], test[prop], quantiles[1])\n",
    "    piw_test = np.mean(y_pred_test[:,1]-y_pred_test[:,0])\n",
    "    results.append({\n",
    "        'property': prop,\n",
    "        'method': 'qrpp-rf',\n",
    "        'picp_val': picp_test,\n",
    "        'piw_val': piw_test,\n",
    "        'qcp05_val': qcp_test_lower,\n",
    "        'qcp95_val': qcp_test_upper,\n",
    "        'time_val': test_time\n",
    "    })\n",
    "    \n",
    "    ttprint(f'quantile, individual test, {prop}, mapie')\n",
    "    mapie_reg = MapieRegressor(estimator=rf_model, cv=\"prefit\")\n",
    "    mapie_reg = mapie_reg.fit(train[covs], train[prop])\n",
    "    start_time = time.time()\n",
    "    y_pred, y_pred_test = mapie_reg.predict(test[covs], alpha=0.1)\n",
    "    end_time = time.time()\n",
    "    test_time = (end_time - start_time)\n",
    "    y_pred_test = np.squeeze(y_pred_test, axis=2)\n",
    "    picp_test = calc_picp(y_pred_test[:,0], y_pred_test[:,1], test[prop])\n",
    "    qcp_test_lower = calc_qcp(y_pred_test[:,0], test[prop], quantiles[0])\n",
    "    qcp_test_upper = calc_qcp(y_pred_test[:,1], test[prop], quantiles[1])\n",
    "    piw_test = np.mean(y_pred_test[:,1]-y_pred_test[:,0])\n",
    "    results.append({\n",
    "        'property': prop,\n",
    "        'method': 'mapie',\n",
    "        'picp_val': picp_test,\n",
    "        'piw_val': piw_test,\n",
    "        'qcp05_val': qcp_test_lower,\n",
    "        'qcp95_val': qcp_test_upper,\n",
    "        'time_val': test_time\n",
    "    })\n",
    "    \n",
    "    ttprint(f'quantile, individual test, {prop}, puncc')\n",
    "    trained_predictor =  BasePredictor(rf_model, is_trained=True)\n",
    "    split_cp = SplitCP(trained_predictor, train=False)\n",
    "    split_cp.fit(X_calib=train[covs], y_calib=train[prop])\n",
    "    start_time = time.time()\n",
    "    y_pred, y_pred_lower, y_pred_upper = split_cp.predict(test[covs], alpha=0.1)\n",
    "    end_time = time.time()\n",
    "    test_time = (end_time - start_time)\n",
    "    picp_test = calc_picp(y_pred_test[:,0], y_pred_test[:,1], test[prop])\n",
    "    qcp_test_lower = calc_qcp(y_pred_test[:,0], test[prop], quantiles[0])\n",
    "    qcp_test_upper = calc_qcp(y_pred_test[:,1], test[prop], quantiles[1])\n",
    "    piw_test = np.mean(y_pred_test[:,1]-y_pred_test[:,0])\n",
    "    results.append({\n",
    "        'property': prop,\n",
    "        'method': 'puncc',\n",
    "        'picp_val': picp_test,\n",
    "        'piw_val': piw_test,\n",
    "        'qcp05_val': qcp_test_lower,\n",
    "        'qcp95_val': qcp_test_upper,\n",
    "        'time_val': test_time\n",
    "    })\n",
    "    \n",
    "    \n",
    "results = pd.DataFrame(results)\n",
    "# results.to_csv(f'{output_folder}/benchmark_metrics_quantiles.csv',index=False)"
   ]
  },
  {
   "cell_type": "code",
   "execution_count": 23,
   "id": "9c13d78a-9040-4c4b-8ef9-4440e06e4f49",
   "metadata": {
    "tags": []
   },
   "outputs": [
    {
     "data": {
      "text/html": [
       "<div>\n",
       "<style scoped>\n",
       "    .dataframe tbody tr th:only-of-type {\n",
       "        vertical-align: middle;\n",
       "    }\n",
       "\n",
       "    .dataframe tbody tr th {\n",
       "        vertical-align: top;\n",
       "    }\n",
       "\n",
       "    .dataframe thead th {\n",
       "        text-align: right;\n",
       "    }\n",
       "</style>\n",
       "<table border=\"1\" class=\"dataframe\">\n",
       "  <thead>\n",
       "    <tr style=\"text-align: right;\">\n",
       "      <th></th>\n",
       "      <th>property</th>\n",
       "      <th>method</th>\n",
       "      <th>picp_val</th>\n",
       "      <th>piw_val</th>\n",
       "      <th>qcp05_val</th>\n",
       "      <th>qcp95_val</th>\n",
       "      <th>time_val</th>\n",
       "    </tr>\n",
       "  </thead>\n",
       "  <tbody>\n",
       "    <tr>\n",
       "      <th>0</th>\n",
       "      <td>oc</td>\n",
       "      <td>qrf</td>\n",
       "      <td>0.912373</td>\n",
       "      <td>116.039566</td>\n",
       "      <td>0.047336</td>\n",
       "      <td>0.959049</td>\n",
       "      <td>0.312762</td>\n",
       "    </tr>\n",
       "    <tr>\n",
       "      <th>1</th>\n",
       "      <td>oc</td>\n",
       "      <td>qrpp-rf</td>\n",
       "      <td>0.956407</td>\n",
       "      <td>174.398148</td>\n",
       "      <td>0.000661</td>\n",
       "      <td>0.957067</td>\n",
       "      <td>0.127148</td>\n",
       "    </tr>\n",
       "    <tr>\n",
       "      <th>2</th>\n",
       "      <td>oc</td>\n",
       "      <td>mapie</td>\n",
       "      <td>0.889036</td>\n",
       "      <td>558.300000</td>\n",
       "      <td>0.108763</td>\n",
       "      <td>0.997798</td>\n",
       "      <td>0.151360</td>\n",
       "    </tr>\n",
       "    <tr>\n",
       "      <th>3</th>\n",
       "      <td>oc</td>\n",
       "      <td>puncc</td>\n",
       "      <td>0.889036</td>\n",
       "      <td>558.300000</td>\n",
       "      <td>0.108763</td>\n",
       "      <td>0.997798</td>\n",
       "      <td>0.173608</td>\n",
       "    </tr>\n",
       "  </tbody>\n",
       "</table>\n",
       "</div>"
      ],
      "text/plain": [
       "  property   method  picp_val     piw_val  qcp05_val  qcp95_val  time_val\n",
       "0       oc      qrf  0.912373  116.039566   0.047336   0.959049  0.312762\n",
       "1       oc  qrpp-rf  0.956407  174.398148   0.000661   0.957067  0.127148\n",
       "2       oc    mapie  0.889036  558.300000   0.108763   0.997798  0.151360\n",
       "3       oc    puncc  0.889036  558.300000   0.108763   0.997798  0.173608"
      ]
     },
     "execution_count": 23,
     "metadata": {},
     "output_type": "execute_result"
    }
   ],
   "source": [
    "results"
   ]
  },
  {
   "cell_type": "code",
   "execution_count": 27,
   "id": "b0d372aa-71ac-4275-82cd-8326ed16f972",
   "metadata": {
    "tags": []
   },
   "outputs": [
    {
     "data": {
      "text/plain": [
       "['/mnt/primus/xuemeng_tmp_harbour/soc/results/test_quantile.model_qrpp.rf.joblib']"
      ]
     },
     "execution_count": 27,
     "metadata": {},
     "output_type": "execute_result"
    }
   ],
   "source": [
    "joblib.dump(qrpp_rf,f'{output_folder}/test_quantile.model_qrpp.rf.joblib')"
   ]
  },
  {
   "cell_type": "code",
   "execution_count": 15,
   "id": "6c3a2374-ad2a-4e8c-8057-a2fd3f9e3913",
   "metadata": {
    "tags": []
   },
   "outputs": [
    {
     "data": {
      "text/plain": [
       "'oc'"
      ]
     },
     "execution_count": 15,
     "metadata": {},
     "output_type": "execute_result"
    }
   ],
   "source": [
    "prop"
   ]
  },
  {
   "cell_type": "code",
   "execution_count": 20,
   "id": "4ce4b57b-150b-428b-830a-7e6827e7046d",
   "metadata": {
    "tags": []
   },
   "outputs": [],
   "source": [
    "file_rf = find_files('/mnt/primus/xuemeng_tmp_harbour/soc/results/production_model/',f'propduction.quantile.model_rf.{prop}*')\n"
   ]
  },
  {
   "cell_type": "code",
   "execution_count": 21,
   "id": "1783e78d-4b6a-482b-a079-b69b535dec8f",
   "metadata": {
    "tags": []
   },
   "outputs": [
    {
     "data": {
      "text/plain": [
       "'/mnt/primus/xuemeng_tmp_harbour/soc/results/production_model/propduction.quantile.model_rf.oc_log1p.ccc.weighted.joblib'"
      ]
     },
     "execution_count": 21,
     "metadata": {},
     "output_type": "execute_result"
    }
   ],
   "source": [
    "file_rf"
   ]
  },
  {
   "cell_type": "code",
   "execution_count": null,
   "id": "a56a3467-8af2-41f2-95ef-309147fb064a",
   "metadata": {},
   "outputs": [],
   "source": []
  }
 ],
 "metadata": {
  "kernelspec": {
   "display_name": "Python 3 (ipykernel)",
   "language": "python",
   "name": "python3"
  },
  "language_info": {
   "codemirror_mode": {
    "name": "ipython",
    "version": 3
   },
   "file_extension": ".py",
   "mimetype": "text/x-python",
   "name": "python",
   "nbconvert_exporter": "python",
   "pygments_lexer": "ipython3",
   "version": "3.8.13"
  }
 },
 "nbformat": 4,
 "nbformat_minor": 5
}
