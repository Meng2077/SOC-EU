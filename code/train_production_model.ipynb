{
 "cells": [
  {
   "cell_type": "code",
   "execution_count": 1,
   "id": "9507ed38-859c-4dd3-85ab-53bff354a11e",
   "metadata": {
    "tags": []
   },
   "outputs": [],
   "source": [
    "import numpy as np\n",
    "import matplotlib\n",
    "import matplotlib.pyplot as plt\n",
    "import pandas as pd\n",
    "from eumap.misc import find_files, ttprint, nan_percentile, GoogleSheet\n",
    "from eumap.raster import read_rasters, save_rasters\n",
    "import warnings\n",
    "import multiprocess as mp\n",
    "import time\n",
    "from scipy.special import expit, logit\n",
    "import warnings\n",
    "from sklearn.experimental import enable_halving_search_cv\n",
    "from sklearn.model_selection import train_test_split, cross_val_score, HalvingGridSearchCV, KFold, GroupKFold\n",
    "from sklearn.metrics import mean_squared_error, r2_score\n",
    "from sklearn.ensemble import RandomForestRegressor\n",
    "from sklearn.pipeline import Pipeline\n",
    "from sklearn.neural_network import MLPRegressor\n",
    "import joblib\n",
    "import pickle\n",
    "from sklearn.metrics import r2_score, mean_squared_error, make_scorer\n",
    "from scipy.stats import pearsonr\n",
    "from sklearn.preprocessing import StandardScaler\n",
    "from cubist import Cubist\n",
    "from sklearn.base import BaseEstimator, TransformerMixin\n",
    "from pathlib import Path\n",
    "import os\n",
    "from sklearn.model_selection import RandomizedSearchCV\n",
    "from scipy.stats import randint, uniform\n",
    "from sklearn.model_selection import HalvingRandomSearchCV\n",
    "from sklearn.model_selection import cross_val_predict\n",
    "import math\n",
    "\n",
    "df = pd.read_csv(f'/mnt/primus/xuemeng_tmp_harbour/soc/data/002_data_whole.csv',low_memory=False)"
   ]
  },
  {
   "cell_type": "code",
   "execution_count": 19,
   "id": "3cf0cbd4-3013-4b8f-8b82-bff046477b4e",
   "metadata": {
    "tags": []
   },
   "outputs": [
    {
     "data": {
      "text/plain": [
       "<Axes: >"
      ]
     },
     "execution_count": 19,
     "metadata": {},
     "output_type": "execute_result"
    },
    {
     "data": {
      "image/png": "[encoded data removed]",
      "text/plain": [
       "<Figure size 640x480 with 1 Axes>"
      ]
     },
     "metadata": {},
     "output_type": "display_data"
    }
   ],
   "source": [
    "prop = 'N'\n",
    "df.loc[df[f'{prop}_qa']>5,prop].hist(bins=50)"
   ]
  },
  {
   "cell_type": "code",
   "execution_count": 23,
   "id": "6de6c459-b316-4961-a372-d59b7f5ad905",
   "metadata": {
    "tags": []
   },
   "outputs": [],
   "source": [
    "\n",
    "prop_list = ['ph_h2o','ph_cacl2','bulk_density','oc'] #'bulk_density','oc','caco3',\n",
    "path_list = ['/mnt/primus/xuemeng_tmp_harbour/soc/results/ph_h2o/model_rf.ph_h2o_normal.ccc.joblib',\n",
    "             '/mnt/primus/xuemeng_tmp_harbour/soc/results/ph_cacl2/model_rf.ph_cacl2_normal.ccc.joblib',\n",
    "             '/mnt/primus/xuemeng_tmp_harbour/soc/results/bulk_density/model_lgb.bulk_density_normal.ccc.joblib',\n",
    "             '/mnt/primus/xuemeng_tmp_harbour/soc/results/oc/model_rf.oc_log1p.ccc.joblib']\n",
    "\n",
    "covs_list = ['/mnt/primus/xuemeng_tmp_harbour/soc/results/ph_h2o/benchmark_selected.covs_ph_h2o.txt',\n",
    "             '/mnt/primus/xuemeng_tmp_harbour/soc/results/ph_cacl2/benchmark_selected.covs_ph_cacl2.txt',\n",
    "             '/mnt/primus/xuemeng_tmp_harbour/soc/results/bulk_density/benchmark_selected.covs_bulk_density.txt',\n",
    "             '/mnt/primus/xuemeng_tmp_harbour/soc/results/oc/benchmark_selected.covs_oc.txt']"
   ]
  },
  {
   "cell_type": "code",
   "execution_count": 24,
   "id": "f6fd75bc-c9d9-46d3-9d62-9b96d42f3355",
   "metadata": {
    "tags": []
   },
   "outputs": [
    {
     "name": "stdout",
     "output_type": "stream",
     "text": [
      "process oc\n",
      "Updated n_jobs to 90 for model propduction.model_rf.oc_log1p.ccc.joblib.\n"
     ]
    }
   ],
   "source": [
    "import shutil\n",
    "n_jobs=90\n",
    "for ii in [3]:#range(len(covs_list)):\n",
    "    # target property\n",
    "    prop = prop_list[ii]\n",
    "    print(f'process {prop}')\n",
    "    # model\n",
    "    model = joblib.load(path_list[ii])\n",
    "    namef = 'propduction.' + path_list[ii].split('/')[-1]\n",
    "    # update model's n_jobs\n",
    "    if hasattr(model, 'steps'):  # Check if it's a Pipeline\n",
    "        for name, estimator in model.steps:\n",
    "            if hasattr(estimator, 'n_jobs'):\n",
    "                estimator.n_jobs = n_jobs\n",
    "                print(f\"Updated n_jobs to {n_jobs} for '{name}' in the pipeline.\")\n",
    "    elif hasattr(model, 'n_jobs'):  # Check if it's a model with n_jobs\n",
    "        model.n_jobs = n_jobs\n",
    "        print(f\"Updated n_jobs to {n_jobs} for model {namef}.\")\n",
    "    else:\n",
    "        print(\"This object does not support the 'n_jobs' parameter.\")\n",
    "        \n",
    "    # covariates\n",
    "    covs_a = pd.read_csv(covs_list[ii]).values.tolist()\n",
    "    covs = [item for sublist in covs_a for item in sublist]\n",
    "    \n",
    "    # all the data\n",
    "    dff = df.dropna(subset=covs+[prop],how='any')\n",
    "    \n",
    "    # fit the model\n",
    "    model.fit(dff[covs],dff[prop])\n",
    "    joblib.dump(model,f'/mnt/primus/xuemeng_tmp_harbour/soc/results/production_model/{namef}')\n",
    "    shutil.copy(covs_list[ii], covs_list[ii].replace(f'results/{prop}','results/production_model'))"
   ]
  },
  {
   "cell_type": "code",
   "execution_count": null,
   "id": "f8f80a1c-fc4b-471a-947b-ff0d588f2b0a",
   "metadata": {},
   "outputs": [],
   "source": []
  }
 ],
 "metadata": {
  "kernelspec": {
   "display_name": "Python 3 (ipykernel)",
   "language": "python",
   "name": "python3"
  },
  "language_info": {
   "codemirror_mode": {
    "name": "ipython",
    "version": 3
   },
   "file_extension": ".py",
   "mimetype": "text/x-python",
   "name": "python",
   "nbconvert_exporter": "python",
   "pygments_lexer": "ipython3",
   "version": "3.8.16"
  }
 },
 "nbformat": 4,
 "nbformat_minor": 5
}
