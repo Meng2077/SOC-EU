{
 "cells": [
  {
   "cell_type": "code",
   "execution_count": 1,
   "id": "79070d28-fc03-41c3-8302-6184dfce18ff",
   "metadata": {},
   "outputs": [],
   "source": [
    "import numpy as np\n",
    "import matplotlib.pyplot as plt\n",
    "import multiprocess as mp\n",
    "import glob\n",
    "import time\n",
    "from tqdm import tqdm\n",
    "import os\n",
    "import sys\n",
    "import pandas as pd\n",
    "import dbfread \n",
    "import geopandas as gpd\n",
    "import warnings\n",
    "import matplotlib.pyplot as plt\n",
    "import csv\n",
    "import pyproj\n",
    "from simpledbf import Dbf5\n",
    "from datetime import datetime\n"
   ]
  },
  {
   "cell_type": "markdown",
   "id": "fc35a4ef-b13a-4329-bcec-a65d8c946af6",
   "metadata": {},
   "source": [
    "### Ireland"
   ]
  },
  {
   "cell_type": "code",
   "execution_count": 2,
   "id": "49ee87e8-e839-4b33-b4e8-07acadb6ec0d",
   "metadata": {},
   "outputs": [
    {
     "name": "stderr",
     "output_type": "stream",
     "text": [
      "ERROR 1: PROJ: proj_create_from_database: Open of /opt/conda/share/proj failed\n"
     ]
    }
   ],
   "source": [
    "# Ireland\n",
    "deep = gpd.read_file('/home/opengeohub/xuemeng/work_xuemeng/spatiotemporal-soc-eu/IE_GSI_Geochemistry_Deeper_Topsoil_S_pH_LOI_IE26_ITM/IE_GSI_Geochemistry_Deeper_Topsoil_S_pH_LOI_Sample_IE26_ITM.shp')\n",
    "shallow = gpd.read_file('/home/opengeohub/xuemeng/work_xuemeng/spatiotemporal-soc-eu/IE_GSI_GSNI_Geochemistry_Shallow_Topsoil_A_pH_LOI_IE32_ITM/IE_GSI_GSNI_Geochemistry_Shallow_Topsoil_A_pH_LOI_Sample_IE32_ITM.shp')\n",
    "# deep['hzn_top'] = 35\n",
    "# deep['hzn_btm'] = 50\n",
    "# shallow['hzn_top'] = 5\n",
    "# shallow['hzn_btm'] = 20\n",
    "# ireland = pd.concat([shallow,deep])   \n",
    "\n",
    "# gdf_4326 = ireland.to_crs(\"EPSG:4326\")\n",
    "# temp = pd.DataFrame()\n",
    "# temp['lat'] = gdf_4326['geometry'].y\n",
    "# temp['lon'] = gdf_4326['geometry'].x\n",
    "# temp['hzn_top'] = gdf_4326['hzn_top']\n",
    "# temp['hzn_btm'] = gdf_4326['hzn_btm']\n",
    "# temp['nuts0'] = 'IE'\n",
    "# temp['ref'] = 'ireland.tellus-' + ireland['DATASOURCE']\n",
    "# temp['ph_cacl2'] = gdf_4326['PH_CACL2']\n",
    "# temp.to_csv('/home/opengeohub/xuemeng/work_xuemeng/spatiotemporal-soc-eu/estonia/ireland_harmonized_v1.csv',index=False)"
   ]
  },
  {
   "cell_type": "code",
   "execution_count": null,
   "id": "ae27b020-a324-48f8-a33c-767ab3dda31a",
   "metadata": {},
   "outputs": [],
   "source": []
  }
 ],
 "metadata": {
  "kernelspec": {
   "display_name": "Python 3 (ipykernel)",
   "language": "python",
   "name": "python3"
  },
  "language_info": {
   "codemirror_mode": {
    "name": "ipython",
    "version": 3
   },
   "file_extension": ".py",
   "mimetype": "text/x-python",
   "name": "python",
   "nbconvert_exporter": "python",
   "pygments_lexer": "ipython3",
   "version": "3.8.13"
  }
 },
 "nbformat": 4,
 "nbformat_minor": 5
}
