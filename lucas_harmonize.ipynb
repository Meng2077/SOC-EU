{
 "cells": [
  {
   "cell_type": "code",
   "execution_count": 1,
   "id": "7dc505bf-b05f-4fa3-9184-3565fdca1628",
   "metadata": {},
   "outputs": [],
   "source": [
    "import numpy as np\n",
    "import matplotlib.pyplot as plt\n",
    "import multiprocess as mp\n",
    "import glob\n",
    "import time\n",
    "from tqdm import tqdm\n",
    "import os\n",
    "import sys\n",
    "import pandas as pd\n",
    "import dbfread \n",
    "import geopandas as gpd\n",
    "import warnings\n",
    "import matplotlib.pyplot as plt\n",
    "import csv\n",
    "import pyproj\n",
    "from simpledbf import Dbf5\n",
    "from datetime import datetime"
   ]
  },
  {
   "cell_type": "code",
   "execution_count": 2,
   "id": "df3875f3-80c2-48a7-b5d4-63686a9453d5",
   "metadata": {},
   "outputs": [],
   "source": [
    "# Read the desired sheet by sheet name or index (replace 'Sheet1' with the actual sheet name or index)\n",
    "# gemas = pd.read_csv('/mnt/diskstation/data/Soil_points/EU/GEMAS/GEMAS.csv')\n",
    "# liguriaa = Dbf5('/home/opengeohub/xuemeng/work_xuemeng/SOC density-spatial-temporal-model/Italy_soil/Liguria/Original_data/Profili_liguria.dbf')\n",
    "# liguria = liguriaa.to_dataframe()\n",
    "# sloveniaa = Dbf5('/mnt/diskstation/data/Soil_points/Slovenia/Horizonti_v_PedoloskihProfilih.DBF', encoding='latin-1')\n",
    "# slovenia = sloveniaa.to_dataframe()\n",
    "# print(len(slovenia))"
   ]
  },
  {
   "cell_type": "code",
   "execution_count": 17,
   "id": "4fb2383c-d877-4823-a52f-3a5f935faf32",
   "metadata": {},
   "outputs": [
    {
     "name": "stdout",
     "output_type": "stream",
     "text": [
      "62846 data in lucas original\n",
      "141 data in 20-30cm\n",
      "62987 data in total, of all depth\n"
     ]
    }
   ],
   "source": [
    "lucas = pd.read_csv('/home/opengeohub/xuemeng/work_xuemeng/spatiotemporal-soc-eu/lucas_original.csv',low_memory=False)\n",
    "lucas = lucas.loc[:, ~lucas.columns.str.contains('^Unnamed')]\n",
    "print(f'{len(lucas)} data in lucas original')\n",
    "\n",
    "# get lucas with depth\n",
    "dep_lucas = lucas.loc[~lucas['OC (20-30 cm)'].isna()]\n",
    "col = ['POINT_ID', 'OC (20-30 cm)', 'GPS_LAT', 'GPS_LONG', 'time']\n",
    "dep_lucas = dep_lucas[col]\n",
    "dep_lucas = dep_lucas.rename(columns={'OC (20-30 cm)':'OC'})\n",
    "dep_lucas['N'] = np.nan\n",
    "dep_lucas['Depth'] = '20-30cm'\n",
    "dep_lucas['pH_in_CaCl2'] = np.nan\n",
    "dep_lucas['pH_in_H2O'] = np.nan\n",
    "dep_lucas\n",
    "print(f'{len(dep_lucas)} data in 20-30cm')\n",
    "\n",
    "col = ['POINT_ID', 'OC', 'N', 'GPS_LAT', 'GPS_LONG', \n",
    "       'time', 'Depth', 'pH_in_CaCl2', 'pH_in_H2O']\n",
    "lucas = lucas[col]\n",
    "df = pd.concat([lucas,dep_lucas])\n",
    "\n",
    "df['POINT_ID'] = pd.to_numeric(df['POINT_ID'], errors='coerce')\n",
    "df = df.rename(columns={'POINT_ID':'point_id',\n",
    "                        'OC':'oc','GPS_LAT':'soil_lat','GPS_LONG':'soil_long','Depth':'depth'})\n",
    "df = df.sort_values('point_id')\n",
    "print(f'{len(df)} data in total, of all depth')"
   ]
  },
  {
   "cell_type": "code",
   "execution_count": 22,
   "id": "98bded55-0806-44ce-a747-65be7eb776dc",
   "metadata": {},
   "outputs": [
    {
     "name": "stdout",
     "output_type": "stream",
     "text": [
      "62987\n"
     ]
    }
   ],
   "source": [
    "# get the real coordinates\n",
    "df = df.reset_index()\n",
    "tt = [2009,2012,2015,2018]\n",
    "df['lat'] = 0\n",
    "df['lc_survey'] = 0\n",
    "df['lon'] = 0\n",
    "df['nuts0'] = 0\n",
    "for i in tt:\n",
    "    l = pd.read_csv(f'/home/opengeohub/xuemeng/work_xuemeng/delta_soc/lucas_microdata/EU_{i}_20200213.CSV',low_memory=False)\n",
    "    l = l[['GPS_LAT','GPS_LONG','POINT_ID','LC1','NUTS0']]\n",
    "    l['POINT_ID'] = pd.to_numeric(l['POINT_ID'], errors='coerce')\n",
    "    l = l.rename(columns={'POINT_ID':'point_id'})\n",
    "    df = df.merge(l,how='left',on='point_id')\n",
    "    df.loc[df['time']==i,'lat'] = df.loc[df['time']==i,'GPS_LAT']\n",
    "    df.loc[df['time']==i,'lon'] = df.loc[df['time']==i,'GPS_LONG']\n",
    "    df.loc[df['time']==i,'nuts0'] = df.loc[df['time']==i,'NUTS0']\n",
    "    df.loc[df['time']==i,'lc_survey'] = df.loc[df['time']==i,'LC1']\n",
    "    df = df.drop(columns=['GPS_LAT','GPS_LONG','LC1','NUTS0'])\n",
    "    \n",
    "df.loc[(df['soil_lat']<0) & (df['lat']>0),'lat'] = df.loc[(df['soil_lat']<0) & (df['lat']>0)]['lat']* -1\n",
    "df.loc[(df['soil_long']<0) & (df['lon']>0),'lon'] = df.loc[(df['soil_long']<0) & (df['lon']>0)]['lon']* -1\n",
    "print(len(df))"
   ]
  },
  {
   "cell_type": "code",
   "execution_count": 37,
   "id": "35c568b7-728d-41f8-a47e-b6bf811c86dc",
   "metadata": {},
   "outputs": [
    {
     "name": "stdout",
     "output_type": "stream",
     "text": [
      "43862\n",
      "19125\n",
      "- 110, data with no coor info\n"
     ]
    }
   ],
   "source": [
    "lucas = df\n",
    "\n",
    "depth_lucas = lucas.loc[~lucas['depth'].isna()]\n",
    "nod_lucas = lucas.loc[lucas['depth'].isna()]\n",
    "# lucas point without specifying depth info\n",
    "column_names = ['ph_h2o','ph_ca','oc','gps_lat','gps_long','time','hzn_top','hzn_bottom','ref','ph_kcl']\n",
    "temp = pd.DataFrame(columns=column_names)\n",
    "temp['oc'] = nod_lucas['oc']\n",
    "temp['ph_kcl'] = np.nan\n",
    "temp['ph_h2o'] = nod_lucas['pH_in_H2O']\n",
    "temp['ph_ca'] = nod_lucas['pH_in_CaCl2']\n",
    "temp['time'] = nod_lucas['time']\n",
    "temp['hzn_top'] = 0\n",
    "temp['hzn_bottom'] = 20\n",
    "temp['ref'] = 'https://esdac.jrc.ec.europa.eu/projects/lucas'\n",
    "temp['gps_lat'] = nod_lucas['lat']\n",
    "temp['gps_long'] = nod_lucas['lon']\n",
    "temp['country'] = nod_lucas['nuts0'] + '-lucas'\n",
    "df_nod = temp\n",
    "print(len(temp))\n",
    "\n",
    "# with depth different\n",
    "column_names = ['ph_h2o','ph_ca','oc','gps_lat','gps_long','time','hzn_top','hzn_bottom','ref','ph_kcl']\n",
    "temp = pd.DataFrame(columns=column_names)\n",
    "temp['oc'] = depth_lucas['oc']\n",
    "temp['ph_kcl'] = np.nan\n",
    "temp['ph_h2o'] = depth_lucas['pH_in_H2O']\n",
    "temp['ph_ca'] = depth_lucas['pH_in_CaCl2']\n",
    "temp['time'] = depth_lucas['time']\n",
    "temp['hzn_top'] = depth_lucas['depth'].str.split('-').str[0].astype(float)\n",
    "temp['hzn_bottom'] = depth_lucas['depth'].str.split('-').str[-1].str[0:-2].astype(float)\n",
    "temp['ref'] = 'https://esdac.jrc.ec.europa.eu/projects/lucas'\n",
    "temp['gps_lat'] = depth_lucas['lat']\n",
    "temp['gps_long'] = depth_lucas['lon']\n",
    "temp['country'] = depth_lucas['nuts0'] + '-lucas'\n",
    "df_dep = temp\n",
    "print(len(temp))\n",
    "\n",
    "dff = pd.concat([df_nod,df_dep])\n",
    "\n",
    "l1 = len(dff)\n",
    "dff = dff.dropna(subset=['gps_lat','gps_long'])\n",
    "print(f'- {l1-len(dff)}, data with no coor info')"
   ]
  },
  {
   "cell_type": "code",
   "execution_count": 44,
   "id": "35ab553d-2a30-4197-809a-dd905e24a6d5",
   "metadata": {},
   "outputs": [],
   "source": [
    "# lucas swiss\n",
    "swiss = pd.read_csv('/home/opengeohub/xuemeng/work_xuemeng/delta_soc/LUCAS_TOPSOIL/LUCAS2015_topsoildata_20200323/LUCAS_2015_Topsoil_data_of_Switzerland-with-coordinates.csv')\n",
    "swiss = swiss.iloc[:, :-12] # exclude the other method\n",
    "swiss.columns = swiss.iloc[0] # get the correct column names\n",
    "swiss = swiss.loc[1::]\n",
    "\n",
    "column_names = ['ph_h2o','ph_ca','oc','gps_lat','gps_long','time','hzn_top','hzn_bottom','ref','ph_kcl']\n",
    "temp = pd.DataFrame(columns=column_names)\n",
    "temp['oc'] = swiss['Organic carbon/\\ng kg–1']\n",
    "temp['ph_kcl'] = np.nan\n",
    "temp['ph_h2o'] = swiss['pH in H2O\\n']\n",
    "temp['ph_ca'] = swiss['pH in CaCl2']\n",
    "temp['time'] = 2015\n",
    "temp['hzn_top'] = 0\n",
    "temp['hzn_bottom'] = 20\n",
    "temp['ref'] = 'https://esdac.jrc.ec.europa.eu/content/lucas-2015-topsoil-data-switzerland'\n",
    "temp['gps_lat'] = swiss['GPS_ LAT']\n",
    "temp['gps_long'] = swiss['GPS_LONG']\n",
    "temp['country'] = 'swiss'\n",
    "dff = pd.concat([dff,temp])"
   ]
  },
  {
   "cell_type": "code",
   "execution_count": 45,
   "id": "252e90ce-184f-4bda-a755-8ae7a6876c5a",
   "metadata": {},
   "outputs": [
    {
     "data": {
      "text/html": [
       "<div>\n",
       "<style scoped>\n",
       "    .dataframe tbody tr th:only-of-type {\n",
       "        vertical-align: middle;\n",
       "    }\n",
       "\n",
       "    .dataframe tbody tr th {\n",
       "        vertical-align: top;\n",
       "    }\n",
       "\n",
       "    .dataframe thead th {\n",
       "        text-align: right;\n",
       "    }\n",
       "</style>\n",
       "<table border=\"1\" class=\"dataframe\">\n",
       "  <thead>\n",
       "    <tr style=\"text-align: right;\">\n",
       "      <th></th>\n",
       "      <th>ph_h2o</th>\n",
       "      <th>ph_ca</th>\n",
       "      <th>oc</th>\n",
       "      <th>gps_lat</th>\n",
       "      <th>gps_long</th>\n",
       "      <th>time</th>\n",
       "      <th>hzn_top</th>\n",
       "      <th>hzn_bottom</th>\n",
       "      <th>ref</th>\n",
       "      <th>ph_kcl</th>\n",
       "      <th>country</th>\n",
       "    </tr>\n",
       "  </thead>\n",
       "  <tbody>\n",
       "  </tbody>\n",
       "</table>\n",
       "</div>"
      ],
      "text/plain": [
       "Empty DataFrame\n",
       "Columns: [ph_h2o, ph_ca, oc, gps_lat, gps_long, time, hzn_top, hzn_bottom, ref, ph_kcl, country]\n",
       "Index: []"
      ]
     },
     "execution_count": 45,
     "metadata": {},
     "output_type": "execute_result"
    }
   ],
   "source": [
    "dff.loc[dff['time'].isna()]"
   ]
  },
  {
   "cell_type": "code",
   "execution_count": 46,
   "id": "9405ed5c-1768-4ac2-ac1e-4c2086b4ec5d",
   "metadata": {},
   "outputs": [],
   "source": [
    "dff.to_csv('training_points_v2_lucas.full.csv', index = False)"
   ]
  }
 ],
 "metadata": {
  "kernelspec": {
   "display_name": "Python 3 (ipykernel)",
   "language": "python",
   "name": "python3"
  },
  "language_info": {
   "codemirror_mode": {
    "name": "ipython",
    "version": 3
   },
   "file_extension": ".py",
   "mimetype": "text/x-python",
   "name": "python",
   "nbconvert_exporter": "python",
   "pygments_lexer": "ipython3",
   "version": "3.8.13"
  }
 },
 "nbformat": 4,
 "nbformat_minor": 5
}
