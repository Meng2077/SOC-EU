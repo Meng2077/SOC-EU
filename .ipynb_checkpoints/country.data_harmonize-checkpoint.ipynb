{
 "cells": [
  {
   "cell_type": "code",
   "execution_count": 34,
   "id": "1675282d-9508-4525-b0b7-a1867a448dca",
   "metadata": {},
   "outputs": [],
   "source": [
    "import numpy as np\n",
    "import matplotlib.pyplot as plt\n",
    "import multiprocess as mp\n",
    "import glob\n",
    "import time\n",
    "from tqdm import tqdm\n",
    "import os\n",
    "import sys\n",
    "sys.path.append('/opt/conda/share/proj')\n",
    "import pandas as pd\n",
    "import dbfread \n",
    "import geopandas as gpd\n",
    "import warnings\n",
    "import matplotlib.pyplot as plt\n",
    "import csv\n",
    "import pyproj\n",
    "from simpledbf import Dbf5\n",
    "from datetime import datetime"
   ]
  },
  {
   "cell_type": "code",
   "execution_count": 2,
   "id": "84896915-4b0f-4f57-afd1-4cabec55b1ca",
   "metadata": {},
   "outputs": [
    {
     "name": "stdout",
     "output_type": "stream",
     "text": [
      "- 339 data, for no depth info\n",
      "- 2520 data, for no time info\n",
      "- 0 data, for no coordinate info\n",
      "3412 data left in crotia\n"
     ]
    }
   ],
   "source": [
    "# crotia, harmonized dataset from MultiOne\n",
    "crotia = pd.read_excel('/mnt/primus/xuemeng_tmp_harbour/soc_eu/crotia/hr_topsoil_db.xlsx')\n",
    "\n",
    "# filter/organize based on depth\n",
    "na = crotia[crotia['source_db']=='martinovic_1997']['dbr'].isna().sum()\n",
    "print(f'- {na} data, for no depth info')\n",
    "crotia = crotia[~((crotia['source_db'] == 'martinovic_1997') & (crotia['dbr'].isna()))]  # without any depth information, leave out\n",
    "crotia['hzn_top'] = 0\n",
    "crotia['hzn_btm'] = 30\n",
    "crotia.loc[crotia['source_db'] == 'martinovic_1997', 'hzn_top'] = crotia.loc[crotia['source_db'] == 'martinovic_1997', 'dbr'] - 5\n",
    "crotia.loc[crotia['source_db'] == 'martinovic_1997', 'hzn_btm'] = crotia.loc[crotia['source_db'] == 'martinovic_1997', 'dbr'] + 5\n",
    "crotia.loc[crotia['source_db'] == 'azo_2013', 'hzn_btm'] = 25\n",
    "\n",
    "\n",
    "column_names = ['ph_h2o','ph_ca','oc','gps_lat','gps_long','time','hzn_top','hzn_btm','ref','ph_kcl']\n",
    "temp = pd.DataFrame(columns=column_names)\n",
    "temp['oc'] = crotia['oc']*10\n",
    "temp['ph_kcl'] = crotia['ph_kcl']\n",
    "temp['ph_h2o'] = crotia['ph_h2o']\n",
    "temp['ph_ca'] = np.nan\n",
    "temp['ref'] = crotia['source_db']+'_MultiOne'\n",
    "temp['gps_lat'] = crotia['latitude_decimal_degrees']\n",
    "temp['gps_long'] = crotia['longitude_decimal_degrees']\n",
    "temp['country'] = 'crotia'\n",
    "temp['time'] = crotia['site_obsdate']\n",
    "temp['hzn_top'] = crotia['hzn_top']\n",
    "temp['hzn_btm'] = crotia['hzn_btm']\n",
    "# df = pd.concat([df,temp])\n",
    "\n",
    "na = temp['time'].isna().sum()\n",
    "print(f'- {na} data, for no time info')\n",
    "temp = temp.dropna(subset=['time'])\n",
    "\n",
    "na = len(temp[temp['gps_lat'].isna() | temp['gps_long'].isna()])\n",
    "print(f'- {na} data, for no coordinate info')\n",
    "temp = temp.dropna(subset=['gps_lat','gps_long'])\n",
    "\n",
    "print(f'{len(temp)} data left in crotia')\n",
    "temp.to_csv('/mnt/primus/xuemeng_tmp_harbour/soc_eu/data/training_point_v2_crotia.csv',index=False)"
   ]
  },
  {
   "cell_type": "code",
   "execution_count": 3,
   "id": "20d9baba-b03e-4e2c-b742-d0f211e61f26",
   "metadata": {},
   "outputs": [
    {
     "name": "stdout",
     "output_type": "stream",
     "text": [
      "- 0 data, for no time info\n",
      "- 0 data, for no coordinate info\n",
      "- 0 data, for no depth info\n",
      "17189 data left in germany\n"
     ]
    }
   ],
   "source": [
    "# germany\n",
    "germany = pd.read_excel(r'/mnt/diskstation/data/soil_points/Germany/LABORATORY_DATA.xlsx', engine='openpyxl')\n",
    "germany_site = pd.read_excel(r'/mnt/diskstation/data/Soil_points/Germany/SITE.xlsx', engine='openpyxl')\n",
    "germany = germany.merge(germany_site, on=\"PointID\", how=\"inner\")\n",
    "utm_projection = pyproj.CRS.from_string(f'+proj=utm +zone={32} +ellps=WGS84')\n",
    "gps_projection = pyproj.CRS.from_epsg(4326)\n",
    "# Create transformer objects for the coordinate conversion\n",
    "transformer = pyproj.Transformer.from_crs(utm_projection, gps_projection)\n",
    "# Convert UTM coordinates to GPS latitude and longitude\n",
    "germany['lat'], germany['lon'] = transformer.transform(germany['xcoord'], germany['ycoord'])\n",
    "column_names = ['ph_h2o','ph_ca','oc','gps_lat','gps_long','time','hzn_top','hzn_btm','ref','ph_kcl']\n",
    "temp = pd.DataFrame(columns=column_names)\n",
    "temp['oc'] = germany['TOC']\n",
    "temp['ph_kcl'] = np.nan\n",
    "temp['ph_h2o'] = germany['pH_H2O']\n",
    "temp['ph_ca'] = germany['pH_CaCl2']\n",
    "temp['time'] = germany['Sampling_year']\n",
    "temp['hzn_top'] = germany['Layer upper limit']\n",
    "temp['hzn_btm'] = germany['Layer lower limit']\n",
    "temp['ref'] = 'https://literatur.thuenen.de/digbib_extern/dn062722.pdf'\n",
    "temp['gps_lat'] = germany['lat']\n",
    "temp['gps_long'] = germany['lon']\n",
    "temp['country'] = 'germany'\n",
    "\n",
    "na = temp['time'].isna().sum()\n",
    "print(f'- {na} data, for no time info')\n",
    "temp = temp.dropna(subset=['time'])\n",
    "\n",
    "na = len(temp[temp['gps_lat'].isna() | temp['gps_long'].isna()])\n",
    "print(f'- {na} data, for no coordinate info')\n",
    "temp = temp.dropna(subset=['gps_lat','gps_long'])\n",
    "\n",
    "na = len(temp[temp['hzn_btm'].isna() | temp['hzn_top'].isna()])\n",
    "print(f'- {na} data, for no depth info')\n",
    "temp = temp.dropna(subset=['hzn_top','hzn_btm'])\n",
    "\n",
    "print(f'{len(temp)} data left in germany')\n",
    "temp.to_csv('/mnt/primus/xuemeng_tmp_harbour/soc_eu/data/training_point_v2_germany.csv',index=False)"
   ]
  },
  {
   "cell_type": "code",
   "execution_count": 9,
   "id": "9a425485-9f30-4c18-8254-0286d403f428",
   "metadata": {},
   "outputs": [
    {
     "name": "stdout",
     "output_type": "stream",
     "text": [
      "- 3536 data, for no time info\n",
      "- 5 data, for invalid time info\n",
      "- 224 data, for no valid depth info\n",
      "- 0 data, for no depth info\n",
      "- 28 data, for no coordinate info\n",
      "- 514 data, for duplicate time, coordinate, and depth info\n",
      "36309 data left in belgium\n"
     ]
    },
    {
     "name": "stderr",
     "output_type": "stream",
     "text": [
      "/tmp/ipykernel_151658/3479290969.py:30: RuntimeWarning: All-NaN axis encountered\n",
      "  belgium['hzn_top'] = np.nanmin(belgium[['Diepte_grens_boven1', 'Diepte_grens_boven2']], axis=1)\n",
      "/tmp/ipykernel_151658/3479290969.py:31: RuntimeWarning: All-NaN axis encountered\n",
      "  belgium['hzn_btm'] = np.nanmax(belgium[['Diepte_grens_onder1', 'Diepte_grens_onder2']], axis=1)\n"
     ]
    }
   ],
   "source": [
    "# +belgium\n",
    "# read in 2 sites\n",
    "belgium_p = pd.read_csv('/mnt/diskstation/data/soil_points/Belgium/Vlaanderen/Aardewerk-Vlaanderen-2010_Profiel.csv')\n",
    "belgium_h = pd.read_csv('/mnt/diskstation/data/soil_points/Belgium/Vlaanderen/Aardewerk-Vlaanderen-2010_Horizont.csv',low_memory=False,encoding = \"ISO-8859-1\")\n",
    "# merge 2 sites\n",
    "belgium_p = belgium_p.rename(columns={'ID': 'Profiel_ID'}) \n",
    "belgium = belgium_h.merge(belgium_p, on=\"Profiel_ID\", how=\"inner\")\n",
    "# Define the coordinate systems\n",
    "lambert72 = pyproj.CRS.from_epsg(31370)  # Lambert72 CRS\n",
    "wgs84 = pyproj.CRS.from_epsg(4326)  # WGS84 CRS (GPS)\n",
    "transformer = pyproj.Transformer.from_crs(lambert72, wgs84)\n",
    "belgium['lat'], belgium['lon'] = transformer.transform(belgium['Coordinaat_Lambert72_X'], belgium['Coordinaat_Lambert72_Y'])\n",
    "# belgium['Y'], belgium['X'] = transformer.transform(belgium['Coordinaat_Bonne_E'], belgium['Coordinaat_Bonne_N'])\n",
    "\n",
    "# convert humus to oc\n",
    "belgium.loc[belgium['Humus_koolstof_nieuwe_formule']==0, 'Humus'] = belgium.loc[belgium['Humus_koolstof_nieuwe_formule']==0, 'Humus'] / 1.724\n",
    "belgium.loc[belgium['Humus_koolstof_nieuwe_formule']==1, 'Humus'] = belgium.loc[belgium['Humus_koolstof_nieuwe_formule']==1, 'Humus'] / 2\n",
    "\n",
    "# extract time info \n",
    "na = belgium['Profilering_Datum'].isna().sum()\n",
    "print(f'- {na} data, for no time info')\n",
    "belgium = belgium.dropna(subset=['Profilering_Datum'])\n",
    "belgium['Profilering_Datum'] = belgium['Profilering_Datum'].str.split(' ').str[0]\n",
    "belgium['Profilering_Datum'] = belgium['Profilering_Datum'].str.split('-').str[-1].astype(int)\n",
    "na = len(belgium.loc[belgium['Profilering_Datum']==2094])\n",
    "print(f'- {na} data, for invalid time info')\n",
    "belgium = belgium[belgium['Profilering_Datum'] != 2094]\n",
    "\n",
    "# extract depth info\n",
    "belgium['hzn_top'] = np.nanmin(belgium[['Diepte_grens_boven1', 'Diepte_grens_boven2']], axis=1)\n",
    "belgium['hzn_btm'] = np.nanmax(belgium[['Diepte_grens_onder1', 'Diepte_grens_onder2']], axis=1)\n",
    "\n",
    "na = len(belgium.loc[belgium['hzn_top']>=belgium['hzn_btm']])\n",
    "print(f'- {na} data, for no valid depth info')\n",
    "belgium = belgium.loc[belgium['hzn_top'] < belgium['hzn_btm']]\n",
    "\n",
    "na = len(belgium[belgium['hzn_btm'].isna() | belgium['hzn_top'].isna()])\n",
    "print(f'- {na} data, for no depth info')\n",
    "belgium = belgium.dropna(subset=['hzn_top','hzn_btm'], how='any')\n",
    "\n",
    "# merge belgium data into lucas\n",
    "column_names = ['ph_h2o','ph_ca','oc','gps_lat','gps_long','time','hzn_top','hzn_btm','ref','ph_kcl']\n",
    "temp = pd.DataFrame(columns=column_names)\n",
    "temp['oc'] = belgium['Humus']*10\n",
    "temp['ph_kcl'] = belgium['pH_KCl']\n",
    "temp['ph_h2o'] = belgium['pH_H2O']\n",
    "temp['ph_ca'] = np.nan\n",
    "temp['time'] = belgium['Profilering_Datum']\n",
    "temp['hzn_top'] = belgium['Diepte_grens_boven1']\n",
    "temp['hzn_btm'] = belgium['Diepte_grens_onder1']\n",
    "temp.loc[temp['hzn_top'].isna(),'hzn_top'] = belgium.loc[temp['hzn_top'].isna(),'Diepte_grens_boven2']\n",
    "temp.loc[temp['hzn_btm'].isna(),'hzn_btm'] = belgium.loc[temp['hzn_btm'].isna(),'Diepte_grens_onder2']\n",
    "temp['hzn_top'] = np.nanmax(belgium[['Diepte_grens_boven1', 'Diepte_grens_boven2']], axis=1)\n",
    "temp['hzn_btm'] = np.nanmax(belgium[['Diepte_grens_onder1', 'Diepte_grens_onder2']], axis=1)     \n",
    "temp['gps_lat'] = belgium['lat']\n",
    "temp['gps_long'] = belgium['lon']\n",
    "\n",
    "# filter based on coordinates\n",
    "na = len(temp[temp['gps_lat'].isna() | temp['gps_long'].isna()])\n",
    "print(f'- {na} data, for no coordinate info')\n",
    "temp = temp.dropna(subset=['gps_lat','gps_long'])\n",
    "\n",
    "# merge duplicates\n",
    "dupm = temp.groupby(['gps_lat', 'gps_long', 'time','hzn_top','hzn_btm'])[['oc', 'ph_h2o','ph_kcl','ph_ca']].mean().reset_index()\n",
    "dupm['ref'] = 'https://www.dov.vlaanderen.be/geonetwork/srv/api/records/78e15dd4-8070-4220-afac-258ea040fb30'\n",
    "dupm['country'] = 'belgium'\n",
    "print(f'- {len(temp)-len(dupm)} data, for duplicate time, coordinate, and depth info')\n",
    "\n",
    "print(f'{len(dupm)} data left in belgium')\n",
    "dupm.to_csv('/mnt/primus/xuemeng_tmp_harbour/soc_eu/data/training_point_v2_belgium.csv',index=False)"
   ]
  },
  {
   "cell_type": "code",
   "execution_count": 5,
   "id": "884efdd0-e166-460b-a6ef-cdb9910b37df",
   "metadata": {},
   "outputs": [
    {
     "name": "stdout",
     "output_type": "stream",
     "text": [
      "- 0 data, for no time info\n",
      "- 0 data, for no coordinate info\n",
      "- 86 data, for no depth info\n",
      "3005 data left in scotland\n"
     ]
    }
   ],
   "source": [
    "# scotland\n",
    "scotland = pd.read_excel('/mnt/diskstation/data/soil_points/Scotland/NSIS_1_10km_grid_gh.xlsx', sheet_name='NSIS1_10km')\n",
    "osgb36 = pyproj.CRS.from_string(\"+proj=tmerc +lat_0=49 +lon_0=-2 +k=0.9996012717 +x_0=400000 +y_0=-100000 +ellps=airy +towgs84=446.448,-125.157,542.060,0.1502,0.2470,0.8421,-20.4894 +units=m +no_defs\")\n",
    "wgs84 = pyproj.CRS.from_epsg(4326)\n",
    "transformer = pyproj.Transformer.from_crs(osgb36, wgs84)\n",
    "scotland['lat'], scotland['lon'] = transformer.transform(scotland['EASTING'], scotland['NORTHING'])\n",
    "column_names = ['ph_h2o','ph_ca','oc','gps_lat','gps_long','time','hzn_top','hzn_btm','ref','ph_kcl']\n",
    "temp = pd.DataFrame(columns=column_names)\n",
    "temp['oc'] = scotland['DP1971_ORGANIC_MATTER']/1.72\n",
    "temp['ph_kcl'] = np.nan\n",
    "temp['ph_h2o'] = scotland['DP1971_PH_H2O']\n",
    "temp['ph_ca'] = scotland['DP1971_PH_CACL2']\n",
    "temp['ref'] = 'https://www.hutton.ac.uk/about/facilities/national-soils-archive/resampling-soils-inventory'\n",
    "temp['gps_lat'] = scotland['lat']\n",
    "temp['gps_long'] = scotland['lon']\n",
    "temp['country'] = 'scotland'\n",
    "temp['time'] = scotland['PROFILE_DATE'].astype(str).str[-4:]\n",
    "temp['hzn_top'] = scotland['HORZ_TOP']\n",
    "temp['hzn_btm'] = scotland['HORZ_BOTTOM']\n",
    "\n",
    "na = temp['time'].isna().sum()\n",
    "print(f'- {na} data, for no time info')\n",
    "temp = temp.dropna(subset=['time'])\n",
    "\n",
    "na = len(temp[temp['gps_lat'].isna() | temp['gps_long'].isna()])\n",
    "print(f'- {na} data, for no coordinate info')\n",
    "temp = temp.dropna(subset=['gps_lat','gps_long'])\n",
    "\n",
    "na = len(temp[temp['hzn_btm'].isna() | temp['hzn_top'].isna()])\n",
    "print(f'- {na} data, for no depth info')\n",
    "temp = temp.dropna(subset=['hzn_top','hzn_btm'])\n",
    "\n",
    "print(f'{len(temp)} data left in scotland')\n",
    "temp.to_csv('/mnt/primus/xuemeng_tmp_harbour/soc_eu/data/training_point_v2_scotland.csv',index=False)\n"
   ]
  },
  {
   "cell_type": "code",
   "execution_count": 20,
   "id": "707a044e-ee44-4212-8e2e-91c641df49d3",
   "metadata": {},
   "outputs": [
    {
     "data": {
      "text/plain": [
       "122942"
      ]
     },
     "execution_count": 20,
     "metadata": {},
     "output_type": "execute_result"
    }
   ],
   "source": [
    "names = ['belgium','germany','scotland','crotia','lucas.full']\n",
    "column_names = ['ph_h2o','ph_ca','oc','gps_lat','gps_long','time','hzn_top','hzn_btm','ref','ph_kcl']\n",
    "data = pd.DataFrame(columns=column_names)\n",
    "for i in names:\n",
    "    temp = pd.read_csv(f'/mnt/primus/xuemeng_tmp_harbour/soc_eu/data/training_point_v2_{i}.csv')\n",
    "    data = pd.concat([data,temp])\n",
    "    \n",
    "data['point_index'] = data.index\n",
    "data.to_csv(f'/mnt/primus/xuemeng_tmp_harbour/soc_eu/data/training_point_v2_full.csv',index=False)"
   ]
  },
  {
   "cell_type": "code",
   "execution_count": 41,
   "id": "7210da4d-8f08-4bae-9635-b5fb5ebf46bd",
   "metadata": {},
   "outputs": [],
   "source": [
    "# # create gpkg\n",
    "# from shapely.geometry import Point\n",
    "# from geopandas import gpd\n",
    "\n",
    "# df = pd.read_csv('/mnt/primus/xuemeng_tmp_harbour/soc_eu/data/training_point_v2_full.csv', low_memory=False)\n",
    "# geometry = [Point(xy) for xy in zip(df['gps_long'], df['gps_lat'])]\n",
    "# gdf = gpd.GeoDataFrame(df, geometry=geometry, crs=\"EPSG:4326\")\n",
    "\n",
    "# gdf_3035 = gdf.to_crs(\"EPSG:3035\")\n",
    "# gdf_3035['point_index'] = gdf_3035.index\n",
    "# gdf_3035.to_file(\"/mnt/primus/xuemeng_tmp_harbour/soc_eu/data/training_point_overlay_3035.gpkg\", driver=\"GPKG\")\n"
   ]
  },
  {
   "cell_type": "code",
   "execution_count": 46,
   "id": "6867a887-7d24-49f4-8346-a0831c3ee66a",
   "metadata": {},
   "outputs": [
    {
     "data": {
      "text/plain": [
       "array(['belgium', 'scotland', 'crotia', 'RO-lucas', 'BG-lucas',\n",
       "       'PT-lucas', 'ES-lucas', 'NL-lucas', 'DE-lucas', 'DK-lucas',\n",
       "       'PL-lucas', 'FI-lucas', 'LV-lucas', 'EL-lucas', 'CY-lucas'],\n",
       "      dtype=object)"
      ]
     },
     "execution_count": 46,
     "metadata": {},
     "output_type": "execute_result"
    }
   ],
   "source": [
    "df['oc_num'] = pd.to_numeric(df['oc'], errors='coerce')\n",
    "df.loc[df['oc_num'].isna()]['country'].unique()"
   ]
  },
  {
   "cell_type": "code",
   "execution_count": 40,
   "id": "51184384-880c-4584-9a39-d45874a8b30d",
   "metadata": {},
   "outputs": [
    {
     "name": "stdout",
     "output_type": "stream",
     "text": [
      "            count        mean         std     min        25%        50%  \\\n",
      "country                                                                   \n",
      "AT-lucas   1414.0   62.057496   70.846792    3.10  22.000000  37.300000   \n",
      "BE-lucas    347.0   31.554755   39.564477    2.30  11.800000  18.000000   \n",
      "BG-lucas   1723.0   19.168137   11.058937    1.10  12.700000  16.400000   \n",
      "CY-lucas    143.0   13.751748    8.920785    0.70   7.750000  11.400000   \n",
      "CZ-lucas   1316.0   27.672112   30.444191    3.20  14.700000  19.750000   \n",
      "DE-lucas   4411.0   35.031784   50.188634    2.20  13.900000  21.100000   \n",
      "DK-lucas    624.0   29.110016   39.661711    0.40  13.900000  18.500000   \n",
      "EE-lucas    614.0   88.977606  127.242953    5.40  19.625000  31.400000   \n",
      "EL-lucas   1731.0   21.378250   20.228050    0.20   9.800000  15.400000   \n",
      "ES-lucas  10568.0   21.940675   24.721874    0.10   8.475000  13.600000   \n",
      "FI-lucas   4008.0  114.783870  148.037170    0.40  23.800000  44.150000   \n",
      "FR-lucas   8737.0   30.929638   33.372306    0.90  13.500000  21.500000   \n",
      "HR-lucas    218.0   43.239908   32.330448    6.90  20.150000  34.800000   \n",
      "HU-lucas   1263.0   21.095962   15.488881    2.30  12.000000  18.200000   \n",
      "IE-lucas    573.0  120.368761  147.572413    6.30  37.500000  54.000000   \n",
      "IT-lucas   4216.0   28.888449   36.753307    0.10  12.100000  18.100000   \n",
      "LT-lucas   1092.0   41.627198   79.543952    3.70  14.000000  18.750000   \n",
      "LU-lucas     51.0   32.976471   16.035954   10.70  22.450000  28.500000   \n",
      "LV-lucas    992.0   60.982762  101.073652    1.00  16.100000  22.500000   \n",
      "MT-lucas      5.0   17.420000    8.385523    6.00  12.900000  18.300000   \n",
      "NL-lucas    480.0   32.134167   36.738495    0.80  14.300000  20.900000   \n",
      "PL-lucas   4399.0   23.175972   46.844010    0.30   9.100000  12.200000   \n",
      "PT-lucas   1491.0   23.963380   22.383582    1.00   9.700000  16.000000   \n",
      "RO-lucas   2877.0   17.156656   75.664428 -999.00  14.500000  18.900000   \n",
      "SE-lucas   6063.0  123.428138  153.063326    1.00  23.800000  49.300000   \n",
      "SI-lucas    372.0   70.752823   72.992956    7.40  28.350000  45.000000   \n",
      "SK-lucas    683.0   28.626501   25.534708    1.00  15.350000  21.500000   \n",
      "UK-lucas   2199.0   58.407776   77.003379    2.70  23.700000  35.300000   \n",
      "belgium   35610.0    7.593191   33.480971    0.00   0.928074   2.900232   \n",
      "crotia     3280.0   30.813618   30.990629    0.00  14.462682  21.055657   \n",
      "germany   17189.0   22.210774   65.579374    0.08   2.420000   7.210000   \n",
      "scotland   2220.0   20.229704   22.389629    0.00   2.093023   6.046512   \n",
      "swiss       150.0   43.932667   27.652196    8.90  24.600000  37.450000   \n",
      "\n",
      "                 75%          max  \n",
      "country                            \n",
      "AT-lucas   69.175000   723.900000  \n",
      "BE-lucas   34.000000   296.200000  \n",
      "BG-lucas   22.200000   138.400000  \n",
      "CY-lucas   16.850000    52.100000  \n",
      "CZ-lucas   28.500000   426.800000  \n",
      "DE-lucas   36.000000   559.700000  \n",
      "DK-lucas   28.125000   412.700000  \n",
      "EE-lucas   84.000000   522.400000  \n",
      "EL-lucas   25.200000   225.200000  \n",
      "ES-lucas   24.800000   414.800000  \n",
      "FI-lucas  127.025000   586.800000  \n",
      "FR-lucas   36.000000   494.100000  \n",
      "HR-lucas   58.200000   235.300000  \n",
      "HU-lucas   25.100000   125.400000  \n",
      "IE-lucas  108.800000   564.200000  \n",
      "IT-lucas   31.700000   494.900000  \n",
      "LT-lucas   29.100000   526.700000  \n",
      "LU-lucas   41.300000    88.000000  \n",
      "LV-lucas   43.050000   526.700000  \n",
      "MT-lucas   22.100000    27.800000  \n",
      "NL-lucas   35.275000   354.600000  \n",
      "PL-lucas   19.200000   510.300000  \n",
      "PT-lucas   29.800000   180.500000  \n",
      "RO-lucas   25.100000   377.700000  \n",
      "SE-lucas  147.950000   582.900000  \n",
      "SI-lucas   86.950000   446.400000  \n",
      "SK-lucas   32.300000   267.200000  \n",
      "UK-lucas   57.600000   536.900000  \n",
      "belgium     8.410673  5260.000000  \n",
      "crotia     36.000000   410.000000  \n",
      "germany    15.900000   582.890000  \n",
      "scotland   48.212209    61.511628  \n",
      "swiss      52.850000   151.500000  \n"
     ]
    }
   ],
   "source": [
    "column_stats = df.groupby('country')['oc'].describe()\n",
    "print(column_stats)"
   ]
  },
  {
   "cell_type": "code",
   "execution_count": null,
   "id": "b423aadf-024f-45f6-9980-0bf7238dfb10",
   "metadata": {},
   "outputs": [],
   "source": []
  }
 ],
 "metadata": {
  "kernelspec": {
   "display_name": "Python 3 (ipykernel)",
   "language": "python",
   "name": "python3"
  },
  "language_info": {
   "codemirror_mode": {
    "name": "ipython",
    "version": 3
   },
   "file_extension": ".py",
   "mimetype": "text/x-python",
   "name": "python",
   "nbconvert_exporter": "python",
   "pygments_lexer": "ipython3",
   "version": "3.8.13"
  }
 },
 "nbformat": 4,
 "nbformat_minor": 5
}
