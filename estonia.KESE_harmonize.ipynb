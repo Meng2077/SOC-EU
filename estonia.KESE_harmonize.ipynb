{
 "cells": [
  {
   "cell_type": "code",
   "execution_count": 1,
   "id": "79070d28-fc03-41c3-8302-6184dfce18ff",
   "metadata": {},
   "outputs": [],
   "source": [
    "import numpy as np\n",
    "import matplotlib.pyplot as plt\n",
    "import multiprocess as mp\n",
    "import glob\n",
    "import time\n",
    "from tqdm import tqdm\n",
    "import os\n",
    "import sys\n",
    "import pandas as pd\n",
    "import dbfread \n",
    "import geopandas as gpd\n",
    "import warnings\n",
    "import matplotlib.pyplot as plt\n",
    "import csv\n",
    "import pyproj\n",
    "from simpledbf import Dbf5\n",
    "from datetime import datetime\n"
   ]
  },
  {
   "cell_type": "code",
   "execution_count": 2,
   "id": "aa930a4e-2a77-41d8-9643-83737071e8d7",
   "metadata": {},
   "outputs": [],
   "source": [
    "# df = pd.read_csv('/home/opengeohub/xuemeng/work_xuemeng/spatiotemporal-soc-eu/estonia/translated_original_estonia.csv',low_memory=False)\n",
    "# print(len(df))\n",
    "\n",
    "# df['time'] = df['Monitoring time'].str[6:10].astype(float)\n",
    "# df['depth'] = df['Soil sample depth']\n",
    "# df.loc[df['depth'].isna(),'depth'] = df.loc[df['depth'].isna(),'Sample depth (m)']\n",
    "# df.loc[df['depth'].isna(),'depth'] = df.loc[df['depth'].isna(),'Sampling method sampling depth']\n",
    "# df['Measured numerical value'] = df['Measured numerical value'].apply(pd.to_numeric,errors='coerce')\n",
    "# df['Numerical value'] = df['Numerical value'].apply(pd.to_numeric,errors='coerce')\n",
    "\n",
    "# # aggregate every column with regard to method for later use\n",
    "# def concatenate_row_values(row):\n",
    "#     return '--'.join(row[row.notna()])\n",
    "\n",
    "# mtd_cols = ['Responsible partner','Analysis method standard', 'Analysis method name','Analysis method work instruction number', 'Analysis method source','Method specification']\n",
    "# df['method'] = df[mtd_cols].apply(concatenate_row_values, axis=1)\n",
    "\n",
    "info = ['Numerical value','Measured numerical value','Value unit','Measured value unit','method']\n",
    "cols = ['Monitoring location x L-EST97','Monitoring location y L-EST97','time', 'depth']\n",
    "# df = df[info+cols+['Indicator name']]\n",
    "# df = df.dropna(subset = ['Measured numerical value','Numerical value'],how='all')\n",
    "\n",
    "# df.to_csv('/home/opengeohub/xuemeng/work_xuemeng/spatiotemporal-soc-eu/estonia/filtered_original_estonia.csv',index=False)"
   ]
  },
  {
   "cell_type": "code",
   "execution_count": 3,
   "id": "1e0d3ea7-e9bc-49d4-ab12-07ba4abfcd23",
   "metadata": {},
   "outputs": [],
   "source": [
    "import pandas as pd\n",
    "import numpy as np\n",
    "\n",
    "df = pd.read_csv('/home/opengeohub/xuemeng/work_xuemeng/spatiotemporal-soc-eu/estonia/filtered_original_estonia.csv')\n",
    "para_list = []\n",
    "\n",
    "# create a function to examine the soil properties one by one\n",
    "def exam_para(para_name,para_analy):\n",
    "    temp = df.loc[df['Indicator name']==para_analy]\n",
    "    temp = temp[cols+info]\n",
    "    print(f'{para_name}-{para_analy} unit: ',temp['Measured value unit'].unique().tolist()+temp['Value unit'].unique().tolist())\n",
    "\n",
    "    temp = temp.rename(columns={'method':f'{para_name}_method'})\n",
    "\n",
    "    no_nan_num = len(temp)-temp[temp['Numerical value'].isna() & temp['Measured numerical value'].isna()].shape[0]\n",
    "    method_record_num = temp[f'{para_name}_method'].notna().sum()\n",
    "    \n",
    "    print(f'{len(temp)} data records in total, {no_nan_num} with valid {para_name} values, {method_record_num} with measurement method recorded')\n",
    "    temp_method = temp.loc[~temp[f'{para_name}_method'].isna()].reset_index(drop=True)\n",
    "\n",
    "    # print('method numbers overview:')\n",
    "    num = []\n",
    "    name = []\n",
    "    for i in temp_method[f'{para_name}_method'].unique().tolist():\n",
    "        method_num = sum(sum([temp_method[f'{para_name}_method']==i]))\n",
    "        name.append(i)\n",
    "        num.append(method_num)\n",
    "        # print(f'{i} - {method_num}')\n",
    "    \n",
    "    return tuple(zip(num,name)),temp\n",
    "\n",
    "def print_overview(nnlist,filt=0):\n",
    "    if filt==0:\n",
    "        print('overview:')\n",
    "        for i in range(len(nnlist)):\n",
    "            print(f'{nnlist[i][1]} - {nnlist[i][0]}')\n",
    "    else:\n",
    "        print(f'overview with filter {filt}:')\n",
    "        for i in range(len(nnlist)):\n",
    "            if filt in nnlist[i][1]:\n",
    "                print(f'{nnlist[i][1]} - {nnlist[i][0]}')"
   ]
  },
  {
   "cell_type": "code",
   "execution_count": 4,
   "id": "da9c1451-5076-46a5-bb6c-19ae031a926f",
   "metadata": {},
   "outputs": [
    {
     "name": "stdout",
     "output_type": "stream",
     "text": [
      "oc-Üldorgaaniline süsinik unit:  ['g/kg KA', 'mg/kg KA']\n",
      "1570 data records in total, 1570 with valid oc values, 1570 with measurement method recorded\n",
      "overview:\n",
      "Metsakaitse- ja Metsauuenduskeskus--ISO 10694--ISO 10694 (IR) - 1126\n",
      "Keskkonnaagentuur--ISO 10694--ISO 10694 (IR) - 444\n",
      "\n",
      "1570 oc values left\n"
     ]
    }
   ],
   "source": [
    "# oc\n",
    "para_name = 'oc'\n",
    "para_analy = 'Üldorgaaniline süsinik'\n",
    "nnlist, temp = exam_para(para_name,para_analy)\n",
    "print_overview(nnlist)\n",
    "temp[para_name] = temp[info[0]]/1000 # mg/kg -> g/kg\n",
    "temp[f'{para_name}_unit'] = 'g/kg'\n",
    "\n",
    "print()\n",
    "print(f'{len(temp)} {para_name} values left')\n",
    "para_list.append(temp)"
   ]
  },
  {
   "cell_type": "code",
   "execution_count": 5,
   "id": "770f4c7d-e0b8-40ac-8e93-a426faf5b7fd",
   "metadata": {},
   "outputs": [
    {
     "name": "stdout",
     "output_type": "stream",
     "text": [
      "oc-Orgaaniline süsinik unit:  ['% KA', '% KA']\n",
      "58 data records in total, 58 with valid oc values, 58 with measurement method recorded\n",
      "overview:\n",
      "Põllumajandusuuringute Keskus--ISO 10694--Dumas'e meetod; ISO 10694 (GC)--Dumas'e meetod ehk kuivtuhastamise meetod (dry combustion) - 51\n",
      "Põllumajandusuuringute Keskus--GOST 26213--Tjurin'i meetod; GOST 26213 (TITR)--Ponomariova VV, Plotnikova TA (1980) Humus and soil formation (Methods and results). Nauka, Moscow.  - 7\n",
      "\n",
      "58 oc values left\n"
     ]
    }
   ],
   "source": [
    "# oc\n",
    "para_name = 'oc'\n",
    "para_analy = 'Orgaaniline süsinik'\n",
    "nnlist, temp = exam_para(para_name,para_analy)\n",
    "print_overview(nnlist)\n",
    "temp[para_name] = temp[info[0]]*10 # % -> g/kg\n",
    "temp[f'{para_name}_unit'] = 'g/kg'\n",
    "\n",
    "temp.loc[temp[f'{para_name}_method']==nnlist[1][1],para_name] = temp.loc[temp[f'{para_name}_method']==nnlist[1][1],para_name]*1.15\n",
    "\n",
    "print()\n",
    "print(f'{len(temp)} {para_name} values left')\n",
    "para_list.append(temp)"
   ]
  },
  {
   "cell_type": "code",
   "execution_count": 6,
   "id": "c4c69a36-9c47-46a1-bfb3-010a2608cde8",
   "metadata": {},
   "outputs": [
    {
     "name": "stdout",
     "output_type": "stream",
     "text": [
      "oc-Huumussisaldus unit:  ['% KA', '% KA']\n",
      "185 data records in total, 185 with valid oc values, 185 with measurement method recorded\n",
      "overview:\n",
      "Põllumajandusuuringute Keskus--GOST 26213--Tjurin'i meetod; GOST 26213 (TITR)--Ponomariova VV, Plotnikova TA (1980) Humus and soil formation (Methods and results). Nauka, Moscow.  - 179\n",
      "Põllumajandusuuringute Keskus - 6\n",
      "\n",
      "179 oc values left\n"
     ]
    }
   ],
   "source": [
    "# oc\n",
    "para_name = 'oc'\n",
    "para_analy = 'Huumussisaldus'\n",
    "nnlist, temp = exam_para(para_name,para_analy)\n",
    "print_overview(nnlist)\n",
    "temp[para_name] = temp[info[0]]*10/1.724 # humus % -> oc g/kg\n",
    "temp[f'{para_name}_unit'] = 'g/kg'\n",
    "\n",
    "convert_list = [i[1] for i in nnlist if 'GOST' in i[1]]\n",
    "temp = temp.loc[temp[f'{para_name}_method'].isin(convert_list)] \n",
    "temp[para_name] = temp[para_name]*1.15\n",
    "\n",
    "print()\n",
    "print(f'{len(temp)} {para_name} values left')\n",
    "para_list.append(temp)"
   ]
  },
  {
   "cell_type": "code",
   "execution_count": 7,
   "id": "a08ae5e7-7be7-4f0d-9e9d-999f4a996275",
   "metadata": {},
   "outputs": [],
   "source": [
    "# # caco3\n",
    "# para_name = 'caco3'\n",
    "# para_analy = 'Kaltsiumkarbonaat'\n",
    "# nnlist, temp = exam_para(para_name,para_analy)\n",
    "# print_overview(nnlist)\n",
    "# temp[para_name] = temp[info[0]]\n",
    "# temp[f'{para_name}_unit'] = 'g/kg'\n",
    "\n",
    "# print()\n",
    "# print(f'{len(temp)} {para_name} values left')\n",
    "# para_list.append(temp)"
   ]
  },
  {
   "cell_type": "code",
   "execution_count": 8,
   "id": "e48905b1-dd3a-4ea5-8548-f7cbb11fde4e",
   "metadata": {},
   "outputs": [
    {
     "name": "stdout",
     "output_type": "stream",
     "text": [
      "N-Üldlämmastik unit:  ['g/kg KA', 'mg/kg KA']\n",
      "1793 data records in total, 1793 with valid N values, 1793 with measurement method recorded\n",
      "overview:\n",
      "Metsakaitse- ja Metsauuenduskeskus--ISO 11261--Kjeldahl-i meetod ISO 11261 (TITR) - 1349\n",
      "Keskkonnaagentuur--ISO 11261--Kjeldahl-i meetod ISO 11261 (TITR) - 444\n",
      "\n",
      "1793 N values left\n"
     ]
    }
   ],
   "source": [
    "# N\n",
    "para_name = 'N'\n",
    "para_analy = 'Üldlämmastik'\n",
    "nnlist, temp = exam_para(para_name,para_analy)\n",
    "print_overview(nnlist)\n",
    "temp[para_name] = temp[info[0]]/1000 # mg/kg -> g/kg\n",
    "temp[f'{para_name}_unit'] = 'g/kg'\n",
    "\n",
    "print()\n",
    "print(f'{len(temp)} {para_name} values left')\n",
    "para_list.append(temp)"
   ]
  },
  {
   "cell_type": "code",
   "execution_count": 9,
   "id": "12e05468-c6f7-47cb-a8f5-b3116eff9b7f",
   "metadata": {},
   "outputs": [
    {
     "name": "stdout",
     "output_type": "stream",
     "text": [
      "ph_cacl2-pH unit:  [nan, nan]\n",
      "177 data records in total, 177 with valid ph_cacl2 values, 177 with measurement method recorded\n",
      "overview:\n",
      "Põllumajandusuuringute Keskus--ISO 10390--pH(KCl) ISO 10390 (EC) - 147\n",
      "Põllumajandusuuringute Keskus--ISO 10390--ISO 10390 (EC) - 30\n",
      "\n",
      "118 ph_cacl2 values left\n"
     ]
    }
   ],
   "source": [
    "# ph-kcl, converting to ph-cacl2\n",
    "para_name = 'ph_cacl2'\n",
    "para_analy = 'pH'\n",
    "nnlist, temp = exam_para(para_name,para_analy)\n",
    "print_overview(nnlist)\n",
    "\n",
    "temp = temp.loc[temp[f'{para_name}_method']=='Põllumajandusuuringute Keskus--ISO 10390--pH(KCl) ISO 10390 (EC)']\n",
    "temp[para_name] = temp[info[0]]*0.987+0.321\n",
    "temp = temp.loc[temp[para_name]<13]\n",
    "temp[f'{para_name}_unit'] = '-'\n",
    "\n",
    "print()\n",
    "print(f'{len(temp)} {para_name} values left')\n",
    "para_list.append(temp)"
   ]
  },
  {
   "cell_type": "code",
   "execution_count": 10,
   "id": "2d1a907c-7946-4f40-897a-a51d46ebf94f",
   "metadata": {},
   "outputs": [
    {
     "name": "stdout",
     "output_type": "stream",
     "text": [
      "ph_cacl2-pH (CaCl2) unit:  [nan, nan]\n",
      "68 data records in total, 68 with valid ph_cacl2 values, 68 with measurement method recorded\n",
      "overview:\n",
      "Metsakaitse- ja Metsauuenduskeskus--ISO 10390--ISO 10390 (EC) - 38\n",
      "Keskkonnaagentuur--ISO 10390--ISO 10390 (EC) - 30\n",
      "\n",
      "68 ph_cacl2 values left\n"
     ]
    }
   ],
   "source": [
    "# ph-cacl2\n",
    "para_name = 'ph_cacl2'\n",
    "para_analy = 'pH (CaCl2)'\n",
    "nnlist, temp = exam_para(para_name,para_analy)\n",
    "print_overview(nnlist)\n",
    "\n",
    "temp[para_name] = temp[info[0]]\n",
    "temp = temp.loc[temp[para_name]<12]\n",
    "temp[f'{para_name}_unit'] = '-'\n",
    "\n",
    "print()\n",
    "print(f'{len(temp)} {para_name} values left')\n",
    "para_list.append(temp)"
   ]
  },
  {
   "cell_type": "code",
   "execution_count": 11,
   "id": "ff77d665-9a15-4d11-8c45-9bee27e00499",
   "metadata": {},
   "outputs": [
    {
     "name": "stdout",
     "output_type": "stream",
     "text": [
      "clay-Lõimise savi fraktsioon unit:  ['% KA', '% KA']\n",
      "43 data records in total, 43 with valid clay values, 43 with measurement method recorded\n",
      "overview:\n",
      "Metsakaitse- ja Metsauuenduskeskus--ISO 11277--Mulla lõimise määramine - ISO 11277 - 22\n",
      "Põllumajandusuuringute Keskus--Lõimise määramine (EMÜ mullalabor)--Reitam ja Penu 2009; van Reeuwijk 2002 - 21\n",
      "\n",
      "43 clay values left\n"
     ]
    }
   ],
   "source": [
    "# clay\n",
    "para_name = 'clay'\n",
    "para_analy = 'Lõimise savi fraktsioon'\n",
    "nnlist, temp = exam_para(para_name,para_analy)\n",
    "print_overview(nnlist)\n",
    "\n",
    "temp[para_name] = temp[info[0]]\n",
    "temp[f'{para_name}_unit'] = '%'\n",
    "\n",
    "print()\n",
    "print(f'{len(temp)} {para_name} values left')\n",
    "para_list.append(temp)"
   ]
  },
  {
   "cell_type": "code",
   "execution_count": 12,
   "id": "af0bbd84-2b3d-477b-84ab-cdd90f93fa83",
   "metadata": {},
   "outputs": [
    {
     "name": "stdout",
     "output_type": "stream",
     "text": [
      "sand-Lõimise liiva fraktsioon unit:  ['% KA', '% KA']\n",
      "62 data records in total, 62 with valid sand values, 62 with measurement method recorded\n",
      "overview:\n",
      "Metsakaitse- ja Metsauuenduskeskus--ISO 11277--Mulla lõimise määramine - ISO 11277 - 34\n",
      "Põllumajandusuuringute Keskus--Lõimise määramine (EMÜ mullalabor)--Reitam ja Penu 2009; van Reeuwijk 2002 - 28\n",
      "\n",
      "62 sand values left\n"
     ]
    }
   ],
   "source": [
    "# sand\n",
    "para_name = 'sand'\n",
    "para_analy = 'Lõimise liiva fraktsioon'\n",
    "nnlist, temp = exam_para(para_name,para_analy)\n",
    "print_overview(nnlist)\n",
    "\n",
    "temp[para_name] = temp[info[0]]\n",
    "temp[f'{para_name}_unit'] = '%'\n",
    "\n",
    "print()\n",
    "print(f'{len(temp)} {para_name} values left')\n",
    "para_list.append(temp)"
   ]
  },
  {
   "cell_type": "code",
   "execution_count": 13,
   "id": "a1aec514-4a7e-49f6-94ba-2afac9714ced",
   "metadata": {},
   "outputs": [
    {
     "name": "stdout",
     "output_type": "stream",
     "text": [
      "silt-Lõimise tolmu fraktsioon unit:  ['% KA', '% KA']\n",
      "54 data records in total, 54 with valid silt values, 54 with measurement method recorded\n",
      "overview:\n",
      "Metsakaitse- ja Metsauuenduskeskus--ISO 11277--Mulla lõimise määramine - ISO 11277 - 26\n",
      "Põllumajandusuuringute Keskus--Lõimise määramine (EMÜ mullalabor)--Reitam ja Penu 2009; van Reeuwijk 2002 - 28\n",
      "\n",
      "54 silt values left\n"
     ]
    }
   ],
   "source": [
    "# silt\n",
    "para_name = 'silt'\n",
    "para_analy = 'Lõimise tolmu fraktsioon'\n",
    "nnlist, temp = exam_para(para_name,para_analy)\n",
    "print_overview(nnlist)\n",
    "\n",
    "temp[para_name] = temp[info[0]]\n",
    "temp[f'{para_name}_unit'] = '%'\n",
    "\n",
    "print()\n",
    "print(f'{len(temp)} {para_name} values left')\n",
    "para_list.append(temp)"
   ]
  },
  {
   "cell_type": "code",
   "execution_count": 14,
   "id": "5ba416a3-9b90-42ed-a341-a58838e9bf48",
   "metadata": {},
   "outputs": [],
   "source": [
    "# # extractable P\n",
    "# para_name = 'P'\n",
    "# para_analy = 'Fosfor'\n",
    "# nnlist, temp = exam_para(para_name,para_analy)\n",
    "# print_overview(nnlist)\n",
    "\n",
    "# temp =temp.loc[~temp[f'{para_name}_method'].isin(['Metsakaitse- ja Metsauuenduskeskus--ISO 11466--ISO 11466 (ICP-OES)',\n",
    "#                                                  'Keskkonnaagentuur--ISO 11466--ISO 11466 (ICP-OES)'])]\n",
    "\n",
    "# mehlich = 'Põllumajandusuuringute Keskus--Mehlich III meetod (ICP-OES)--Mehlich A (1984) Mehlich 3 soil extractant: A modification of Mehlich 2 extractant.  Commun. in Soil Science and Plant Analysis 15:1409-1416'\n",
    "# temp.loc[temp[f'{para_name}_method'] == mehlich, para_name] = temp.loc[temp[f'{para_name}_method'] == mehlich, para_name] * 0.46 + 1.5\n",
    "# dl = \"Põllumajandusuuringute Keskus--GOST 26209--Egner-Riehm'i DL-meetod; GOST 26209 (ICP-OES)--Egnér H, Riehm H, Domingo WR, 1960. Chemische Extraktionsmethoden zur Phosphor und Kaliumbestimmung. Kungliga Lantbrukshögskolans annaler 26:199-215\"\n",
    "# temp.loc[temp[f'{para_name}_method'] == dl, para_name] = temp.loc[temp[f'{para_name}_method'] == dl, para_name]*0.262 + 25.2\n",
    "\n",
    "# temp[para_name] = temp[info[0]]\n",
    "# temp[f'{para_name}_unit'] = 'mg/kg'\n",
    "\n",
    "# print()\n",
    "# print(f'{len(temp)} {para_name} values left')\n",
    "# para_list.append(temp)"
   ]
  },
  {
   "cell_type": "code",
   "execution_count": 15,
   "id": "73fa6509-29ea-4604-844b-6123ef73969f",
   "metadata": {},
   "outputs": [
    {
     "name": "stdout",
     "output_type": "stream",
     "text": [
      "K-Kaalium unit:  ['mg/kg KA', 'mg/kg KA']\n",
      "4220 data records in total, 4220 with valid K values, 4220 with measurement method recorded\n",
      "overview:\n",
      "Põllumajandusuuringute Keskus--Mehlich III meetod (ICP-OES)--Mehlich A (1984) Mehlich 3 soil extractant: A modification of Mehlich 2 extractant.  Commun. in Soil Science and Plant Analysis 15:1409-1416 - 1654\n",
      "Põllumajandusuuringute Keskus--GOST 26209--Egner-Riehm'i DL-meetod; GOST 26209 (ICP-OES)--Egnér H, Riehm H, Domingo WR, 1960. Chemische Extraktionsmethoden zur Phosphor und Kaliumbestimmung. Kungliga Lantbrukshögskolans annaler 26:199-215 - 1216\n",
      "Metsakaitse- ja Metsauuenduskeskus--ISO 11466--ISO 11466 (ICP-OES) - 804\n",
      "Põllumajandusuuringute Keskus--STJnr.M/U91 (ICP-OES)--STJnr.M/U91--Vee,muda ja settee metallisisalduste määramine induktiivsisestunud plasma aatomemissioonspektromeetriga. - 392\n",
      "Keskkonnaagentuur--ISO 11466--ISO 11466 (ICP-OES) - 154\n",
      "\n",
      "2870 K values left\n"
     ]
    }
   ],
   "source": [
    "# extractable K\n",
    "para_name = 'K'\n",
    "para_analy = 'Kaalium'\n",
    "nnlist, temp = exam_para(para_name,para_analy)\n",
    "print_overview(nnlist)\n",
    "\n",
    "temp =temp.loc[~temp[f'{para_name}_method'].isin(['Metsakaitse- ja Metsauuenduskeskus--ISO 11466--ISO 11466 (ICP-OES)',\n",
    "                                                  'Keskkonnaagentuur--ISO 11466--ISO 11466 (ICP-OES)',\n",
    "                                                  'Põllumajandusuuringute Keskus--STJnr.M/U91 (ICP-OES)--STJnr.M/U91--Vee,muda ja settee metallisisalduste määramine induktiivsisestunud plasma aatomemissioonspektromeetriga.'])]\n",
    "\n",
    "temp[para_name] = temp[info[0]]\n",
    "temp[f'{para_name}_unit'] = 'mg/kg'\n",
    "\n",
    "mehlich = 'Põllumajandusuuringute Keskus--Mehlich III meetod (ICP-OES)--Mehlich A (1984) Mehlich 3 soil extractant: A modification of Mehlich 2 extractant.  Commun. in Soil Science and Plant Analysis 15:1409-1416'\n",
    "temp.loc[temp[f'{para_name}_method'] == mehlich, para_name] = temp.loc[temp[f'{para_name}_method'] == mehlich, para_name] * 0.965 + 7.13\n",
    "dl = \"Põllumajandusuuringute Keskus--GOST 26209--Egner-Riehm'i DL-meetod; GOST 26209 (ICP-OES)--Egnér H, Riehm H, Domingo WR, 1960. Chemische Extraktionsmethoden zur Phosphor und Kaliumbestimmung. Kungliga Lantbrukshögskolans annaler 26:199-215\"\n",
    "temp.loc[temp[f'{para_name}_method'] == dl, para_name] = (temp.loc[temp[f'{para_name}_method'] == dl, para_name] + 14.6525) / 1.1041\n",
    "\n",
    "print()\n",
    "print(f'{len(temp)} {para_name} values left')\n",
    "para_list.append(temp)"
   ]
  },
  {
   "cell_type": "code",
   "execution_count": 16,
   "id": "bc688c62-eaa1-4862-b2d8-f32205fa0baf",
   "metadata": {},
   "outputs": [
    {
     "name": "stdout",
     "output_type": "stream",
     "text": [
      "bulk_density-Lasuvustihedus unit:  ['g/cm³ KA', 'kg/m³ KA', 'g/cm³ KA']\n",
      "114 data records in total, 114 with valid bulk_density values, 114 with measurement method recorded\n",
      "overview:\n",
      "Põllumajandusuuringute Keskus--Mulla lasuvustiheduse määramine (EMÜ mullalabor)--Reitam E, Penu P (2009) Eesti põllumuldade tallatuse seire 2008. aastal. Eesti Maaülikool, Põllumajandusuuringute Keskus. Kättesaadav http://seire.keskkonnainfo.ee/attachments/article/1631/Aruanne_2.doc (vaadatud detsembris 2015) - 7\n",
      "Metsakaitse- ja Metsauuenduskeskus--ISO 11272--Mulla lasuvustiheduse määramine - ISO 11272 - 107\n",
      "\n",
      "108 bulk_density values left\n"
     ]
    }
   ],
   "source": [
    "# bulk density\n",
    "para_name = 'bulk_density'\n",
    "para_analy = 'Lasuvustihedus'\n",
    "nnlist, temp = exam_para(para_name,para_analy)\n",
    "print_overview(nnlist)\n",
    "\n",
    "temp[para_name] = temp[info[1]]\n",
    "temp.loc[temp['Measured value unit']=='kg/m³ KA',para_name] = temp.loc[temp['Measured value unit']=='kg/m³ KA',para_name]/1000\n",
    "temp[f'{para_name}_unit'] = 'g/cm³'\n",
    "temp = temp.loc[temp['bulk_density']<10]  # keep valid values\n",
    "print()\n",
    "print(f'{len(temp)} {para_name} values left')\n",
    "para_list.append(temp)"
   ]
  },
  {
   "cell_type": "code",
   "execution_count": 17,
   "id": "59139d19-5cfc-412e-8740-2524d25bfe5e",
   "metadata": {},
   "outputs": [
    {
     "name": "stderr",
     "output_type": "stream",
     "text": [
      "/tmp/ipykernel_1337/1559906970.py:50: DeprecationWarning: This function is deprecated. See: https://pyproj4.github.io/pyproj/stable/gotchas.html#upgrading-to-pyproj-2-from-pyproj-1\n",
      "  merge['lat'], merge['lon'] = pyproj.transform(lest97, wgs84, merge['Monitoring location x L-EST97'], merge['Monitoring location y L-EST97'])\n"
     ]
    }
   ],
   "source": [
    "final = pd.concat(para_list)\n",
    "ulist = [i for i in final.columns.tolist() if 'unit' in i or 'method' in i] + ['Numerical value', 'Measured numerical value','Value unit', 'Measured value unit']\n",
    "final = final.drop(columns=ulist)\n",
    "\n",
    "merge = (final.groupby(['Monitoring location x L-EST97', 'Monitoring location y L-EST97','time', 'depth'])\n",
    "            .agg({\n",
    "                # 'ph_kcl': 'mean',\n",
    "                'ph_cacl2': 'mean',\n",
    "                'oc': 'mean',\n",
    "                'sand': 'mean',\n",
    "                'clay': 'mean',\n",
    "                'silt': 'mean',\n",
    "                'N': 'mean',\n",
    "                # 'P': 'mean',\n",
    "                'K': 'mean',\n",
    "                # 'caco3': 'mean',\n",
    "                'bulk_density':'mean'\n",
    "                # 'ph_H2O_SOIL_ANALYSIS_METHOD_REFERENCE': 'first',\n",
    "                # 'ph_CaCl2_SOIL_ANALYSIS_METHOD_REFERENCE': 'first',\n",
    "                # 'ph_KCl_SOIL_ANALYSIS_METHOD_REFERENCE': 'first',\n",
    "                # 'oc_SOIL_ANALYSIS_METHOD_REFERENCE': 'first',\n",
    "                # 'Sand_SOIL_ANALYSIS_METHOD_REFERENCE': 'first',\n",
    "                # 'Ton_SOIL_ANALYSIS_METHOD_REFERENCE': 'first',\n",
    "                # 'Schluff_SOIL_ANALYSIS_METHOD_REFERENCE': 'first',\n",
    "                # 'N_SOIL_ANALYSIS_METHOD_REFERENCE': 'first',\n",
    "                # 'P_SOIL_ANALYSIS_METHOD_REFERENCE': 'first',\n",
    "                # 'K_SOIL_ANALYSIS_METHOD_REFERENCE': 'first',\n",
    "                # 'Kalk_SOIL_ANALYSIS_METHOD_REFERENCE': 'first'\n",
    "            })\n",
    "            .reset_index())\n",
    "\n",
    "merge['hzn_top'] = merge['depth'].str.split(' -').str[0]\n",
    "merge['hzn_btm'] = merge['depth'].str.split(' -').str[-1]\n",
    "merge.loc[merge['hzn_top']=='Huumushorisondist (A)','hzn_top'] = 0\n",
    "merge.loc[merge['hzn_btm']=='Huumushorisondist (A)','hzn_btm'] = 20\n",
    "merge.loc[merge['hzn_top']=='Künnikihist (5 cm sügavuselt) ja künnikihi all olevast kihist (20 cm sügavuselt)','hzn_top'] = 5\n",
    "merge.loc[merge['hzn_btm']=='Künnikihist (5 cm sügavuselt) ja künnikihi all olevast kihist (20 cm sügavuselt)','hzn_btm'] = 30\n",
    "merge['hzn_top'] = merge['hzn_top'].apply(pd.to_numeric,errors='coerce')\n",
    "merge['hzn_btm'] = merge['hzn_btm'].apply(pd.to_numeric,errors='coerce')\n",
    "\n",
    "import pyproj\n",
    "import pandas as pd\n",
    "\n",
    "lest97 = pyproj.Proj(projparams='epsg:3301')  # EPSG code for L-EST97\n",
    "wgs84 = pyproj.Proj(projparams='epsg:4326')  # EPSG code for WGS 84\n",
    "\n",
    "merge['Monitoring location x L-EST97'] = merge['Monitoring location x L-EST97'].str.replace(\",\", \".\").apply(pd.to_numeric,errors='coerce')\n",
    "merge['Monitoring location y L-EST97'] = merge['Monitoring location y L-EST97'].str.replace(\",\", \".\").apply(pd.to_numeric,errors='coerce')\n",
    "\n",
    "merge['lat'], merge['lon'] = pyproj.transform(lest97, wgs84, merge['Monitoring location x L-EST97'], merge['Monitoring location y L-EST97'])"
   ]
  },
  {
   "cell_type": "code",
   "execution_count": 19,
   "id": "4d57d76b-0b5e-406a-aafb-4b3a7c2f4399",
   "metadata": {},
   "outputs": [],
   "source": [
    "merge = merge[['lat','lon','time','hzn_top', 'hzn_btm', 'ph_cacl2', 'oc', \n",
    "               'sand', 'clay', 'silt','N', 'K', 'bulk_density']]  #'P', 'caco3', 'ph_kcl'\n",
    "\n",
    "\n",
    "merge = merge.dropna(subset = ['lat','lon','time','hzn_top', 'hzn_btm'],how = 'any')"
   ]
  },
  {
   "cell_type": "code",
   "execution_count": 20,
   "id": "3942e1d0-4532-4659-b0fd-095a1faeedd0",
   "metadata": {},
   "outputs": [],
   "source": [
    "merge.to_csv('/home/opengeohub/xuemeng/work_xuemeng/spatiotemporal-soc-eu/estonia/estonia_harmonized_v1.csv',index=False)"
   ]
  },
  {
   "cell_type": "code",
   "execution_count": null,
   "id": "5d7aab60-99e3-40f8-abfa-2385cf2b206a",
   "metadata": {},
   "outputs": [],
   "source": []
  }
 ],
 "metadata": {
  "kernelspec": {
   "display_name": "Python 3 (ipykernel)",
   "language": "python",
   "name": "python3"
  },
  "language_info": {
   "codemirror_mode": {
    "name": "ipython",
    "version": 3
   },
   "file_extension": ".py",
   "mimetype": "text/x-python",
   "name": "python",
   "nbconvert_exporter": "python",
   "pygments_lexer": "ipython3",
   "version": "3.8.13"
  }
 },
 "nbformat": 4,
 "nbformat_minor": 5
}
